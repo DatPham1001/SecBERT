{
 "cells": [
  {
   "cell_type": "code",
   "execution_count": null,
   "id": "f7ec525f",
   "metadata": {
    "execution": {
     "iopub.execute_input": "2024-03-25T06:44:22.458573Z",
     "iopub.status.busy": "2024-03-25T06:44:22.457339Z",
     "iopub.status.idle": "2024-03-25T06:44:54.761216Z",
     "shell.execute_reply": "2024-03-25T06:44:54.760114Z"
    },
    "id": "yFlgbzpc2BCl",
    "outputId": "8d0e1e0f-2e2e-41a2-b393-da64ff64c0d5",
    "papermill": {
     "duration": 32.321852,
     "end_time": "2024-03-25T06:44:54.763731",
     "exception": false,
     "start_time": "2024-03-25T06:44:22.441879",
     "status": "completed"
    },
    "tags": []
   },
   "outputs": [],
   "source": [
    "! python3 -m pip install transformers"
   ]
  },
  {
   "cell_type": "code",
   "execution_count": null,
   "id": "1e0c00de",
   "metadata": {
    "execution": {
     "iopub.execute_input": "2024-03-25T06:44:54.787643Z",
     "iopub.status.busy": "2024-03-25T06:44:54.787312Z",
     "iopub.status.idle": "2024-03-25T06:45:01.942056Z",
     "shell.execute_reply": "2024-03-25T06:45:01.941089Z"
    },
    "id": "hgDCyl06yP7A",
    "papermill": {
     "duration": 7.169282,
     "end_time": "2024-03-25T06:45:01.944441",
     "exception": false,
     "start_time": "2024-03-25T06:44:54.775159",
     "status": "completed"
    },
    "tags": []
   },
   "outputs": [],
   "source": [
    "import torch\n",
    "from torch.utils.data import Dataset, DataLoader\n",
    "import numpy as np\n",
    "from numpy import newaxis\n",
    "import math\n",
    "\n",
    "import os\n",
    "import pandas as pd\n",
    "import torch.nn as nn\n",
    "from scipy.stats import chi2\n",
    "from transformers import AutoTokenizer, AutoModelForMaskedLM, AutoModel"
   ]
  },
  {
   "cell_type": "code",
   "execution_count": null,
   "id": "b11d273f",
   "metadata": {
    "execution": {
     "iopub.execute_input": "2024-03-25T06:45:01.968503Z",
     "iopub.status.busy": "2024-03-25T06:45:01.967997Z",
     "iopub.status.idle": "2024-03-25T06:45:02.055461Z",
     "shell.execute_reply": "2024-03-25T06:45:02.054449Z"
    },
    "id": "uOlc2RS6yP7F",
    "outputId": "08cb8289-c133-4eb9-bcbe-233068e7f22f",
    "papermill": {
     "duration": 0.101403,
     "end_time": "2024-03-25T06:45:02.057429",
     "exception": false,
     "start_time": "2024-03-25T06:45:01.956026",
     "status": "completed"
    },
    "tags": []
   },
   "outputs": [],
   "source": [
    "device = torch.device(\"cuda\" if torch.cuda.is_available() else \"cpu\")\n",
    "print(device)"
   ]
  },
  {
   "cell_type": "code",
   "execution_count": null,
   "id": "33d9a8da",
   "metadata": {
    "execution": {
     "iopub.execute_input": "2024-03-25T06:45:02.081644Z",
     "iopub.status.busy": "2024-03-25T06:45:02.080918Z",
     "iopub.status.idle": "2024-03-25T06:45:02.086355Z",
     "shell.execute_reply": "2024-03-25T06:45:02.085443Z"
    },
    "id": "qh0JctlXyP7G",
    "papermill": {
     "duration": 0.019457,
     "end_time": "2024-03-25T06:45:02.088217",
     "exception": false,
     "start_time": "2024-03-25T06:45:02.068760",
     "status": "completed"
    },
    "tags": []
   },
   "outputs": [],
   "source": [
    "# configuration for training, you should modify these values to get the best performance\n",
    "config = {\n",
    "    \"num_labels\": 5,\n",
    "    \"hidden_dropout_prob\": 0.15,\n",
    "    \"hidden_size\": 768,\n",
    "    \"max_length\": 512,\n",
    "}\n",
    "\n",
    "training_parameters = {\n",
    "    \"batch_size\": 16,\n",
    "    \"epochs\": 10,\n",
    "    \"output_folder\": \"/kaggle/working\",\n",
    "    \"output_file\": \"model.bin\",\n",
    "    \"learning_rate\": 2e-5,\n",
    "    \"print_after_steps\": 100,\n",
    "    \"save_steps\": 5000,\n",
    "\n",
    "}"
   ]
  },
  {
   "cell_type": "markdown",
   "id": "f0867b2e",
   "metadata": {
    "id": "Ovg1yCTJyP7G",
    "papermill": {
     "duration": 0.011157,
     "end_time": "2024-03-25T06:45:02.110477",
     "exception": false,
     "start_time": "2024-03-25T06:45:02.099320",
     "status": "completed"
    },
    "tags": []
   },
   "source": [
    "## Class for preprocess dataset"
   ]
  },
  {
   "cell_type": "code",
   "execution_count": null,
   "id": "fea0d2f2",
   "metadata": {
    "execution": {
     "iopub.execute_input": "2024-03-25T06:45:02.134243Z",
     "iopub.status.busy": "2024-03-25T06:45:02.133971Z",
     "iopub.status.idle": "2024-03-25T06:45:02.143346Z",
     "shell.execute_reply": "2024-03-25T06:45:02.142462Z"
    },
    "id": "IeKwKDl4yP7I",
    "papermill": {
     "duration": 0.023711,
     "end_time": "2024-03-25T06:45:02.145244",
     "exception": false,
     "start_time": "2024-03-25T06:45:02.121533",
     "status": "completed"
    },
    "tags": []
   },
   "outputs": [],
   "source": [
    "class ReviewDataset(Dataset):\n",
    "    def __init__(self, df):\n",
    "        self.df = df\n",
    "        self.tokenizer = AutoTokenizer.from_pretrained('jackaduma/secBERT') \n",
    "\n",
    "    def __getitem__(self, index):\n",
    "        review = self.df.iloc[index][\"text\"]\n",
    "        attack = self.df.iloc[index][\"label\"]\n",
    "        attack_dict = {'Injection': 0,\n",
    "          'Manipulation': 1,\n",
    "          'Scanning for Vulnerable Software': 2,\n",
    "          'HTTP abusion': 3,\n",
    "          'Fake the Source of Data': 4}\n",
    "        label = attack_dict[attack]\n",
    "        encoded_input = self.tokenizer.encode_plus(\n",
    "                review,\n",
    "                add_special_tokens=True,\n",
    "                max_length = 512,\n",
    "                padding=\"max_length\",\n",
    "                return_overflowing_tokens=True,\n",
    "                truncation = True,\n",
    "            )\n",
    "        if \"num_truncated_tokens\" in encoded_input and encoded_input[\"num_truncated_tokens\"] > 0:\n",
    "            # print(\"Attention! you are cropping tokens\")\n",
    "            pass\n",
    "\n",
    "        input_ids = encoded_input[\"input_ids\"]\n",
    "        attention_mask = encoded_input[\"attention_mask\"] if \"attention_mask\" in encoded_input else None\n",
    "\n",
    "        token_type_ids = encoded_input[\"token_type_ids\"] if \"token_type_ids\" in encoded_input else None\n",
    "\n",
    "\n",
    "\n",
    "        data_input = {\n",
    "            \"input_ids\": torch.tensor(input_ids),\n",
    "            \"attention_mask\": torch.tensor(attention_mask),\n",
    "            \"token_type_ids\": torch.tensor(token_type_ids),\n",
    "            \"label\": torch.tensor(label),\n",
    "        }\n",
    "\n",
    "        return data_input[\"input_ids\"], data_input[\"attention_mask\"], data_input[\"token_type_ids\"], data_input[\"label\"]\n",
    "\n",
    "\n",
    "\n",
    "    def __len__(self):\n",
    "        return self.df.shape[0]"
   ]
  },
  {
   "cell_type": "markdown",
   "id": "9589bcc6",
   "metadata": {
    "id": "xIGv34RQyP7O",
    "papermill": {
     "duration": 0.010873,
     "end_time": "2024-03-25T06:45:02.351707",
     "exception": false,
     "start_time": "2024-03-25T06:45:02.340834",
     "status": "completed"
    },
    "tags": []
   },
   "source": [
    "## Import dataset include source dataset and target dataset"
   ]
  },
  {
   "cell_type": "code",
   "execution_count": null,
   "id": "327ff3d5",
   "metadata": {
    "execution": {
     "iopub.execute_input": "2024-03-25T06:45:02.374939Z",
     "iopub.status.busy": "2024-03-25T06:45:02.374644Z",
     "iopub.status.idle": "2024-03-25T06:45:08.781507Z",
     "shell.execute_reply": "2024-03-25T06:45:08.780446Z"
    },
    "id": "fODJjJSSyP7O",
    "outputId": "55fc4b46-ab40-440d-f784-808f289515a0",
    "papermill": {
     "duration": 6.421516,
     "end_time": "2024-03-25T06:45:08.784305",
     "exception": false,
     "start_time": "2024-03-25T06:45:02.362789",
     "status": "completed"
    },
    "tags": []
   },
   "outputs": [],
   "source": [
    "df_train = pd.read_csv('/kaggle/input/srbh2020-v2/dataset_capec_combine (1).csv')\n",
    "df_train.head()"
   ]
  },
  {
   "cell_type": "code",
   "execution_count": null,
   "id": "ae27004d",
   "metadata": {
    "execution": {
     "iopub.execute_input": "2024-03-25T06:45:08.813730Z",
     "iopub.status.busy": "2024-03-25T06:45:08.813374Z",
     "iopub.status.idle": "2024-03-25T06:45:09.058929Z",
     "shell.execute_reply": "2024-03-25T06:45:09.058134Z"
    },
    "id": "yHJtaKIryP7P",
    "outputId": "74a7d6b9-b0e4-40ca-de3d-f4cedb6494ee",
    "papermill": {
     "duration": 0.262177,
     "end_time": "2024-03-25T06:45:09.061374",
     "exception": false,
     "start_time": "2024-03-25T06:45:08.799197",
     "status": "completed"
    },
    "tags": []
   },
   "outputs": [],
   "source": [
    "df_train['label'] = df_train['category']\n",
    "df_train = df_train[(df_train['label'] != 'Normal')]"
   ]
  },
  {
   "cell_type": "code",
   "execution_count": null,
   "id": "f23bb99d",
   "metadata": {
    "execution": {
     "iopub.execute_input": "2024-03-25T06:45:09.086004Z",
     "iopub.status.busy": "2024-03-25T06:45:09.085692Z",
     "iopub.status.idle": "2024-03-25T06:45:09.496884Z",
     "shell.execute_reply": "2024-03-25T06:45:09.495970Z"
    },
    "id": "uLnwXXoXyP7P",
    "outputId": "bc7e7c06-1e41-4571-e924-91e84409f9db",
    "papermill": {
     "duration": 0.426073,
     "end_time": "2024-03-25T06:45:09.499448",
     "exception": false,
     "start_time": "2024-03-25T06:45:09.073375",
     "status": "completed"
    },
    "tags": []
   },
   "outputs": [],
   "source": [
    "from sklearn.model_selection import train_test_split\n",
    "## prepare for training\n",
    "X_train, X_test, Y_train, Y_test = train_test_split(df_train['text'], df_train['label'],test_size=0.3, stratify=df_train['label'], shuffle = True)\n",
    "df_train = pd.concat([X_train, Y_train], axis=1)\n",
    "df_test = pd.concat([X_test, Y_test], axis=1)\n",
    "df_train = df_train[0:len(df_train)//training_parameters['batch_size']*training_parameters['batch_size']]\n",
    "source_dataset = ReviewDataset(df_train)\n",
    "source_dataloader = DataLoader(dataset = source_dataset, batch_size = training_parameters[\"batch_size\"], shuffle = True, num_workers = 2)"
   ]
  },
  {
   "cell_type": "code",
   "execution_count": null,
   "id": "c5bcf140",
   "metadata": {
    "execution": {
     "iopub.execute_input": "2024-03-25T06:45:09.527755Z",
     "iopub.status.busy": "2024-03-25T06:45:09.527390Z",
     "iopub.status.idle": "2024-03-25T06:45:09.592494Z",
     "shell.execute_reply": "2024-03-25T06:45:09.591528Z"
    },
    "papermill": {
     "duration": 0.081706,
     "end_time": "2024-03-25T06:45:09.594760",
     "exception": false,
     "start_time": "2024-03-25T06:45:09.513054",
     "status": "completed"
    },
    "tags": []
   },
   "outputs": [],
   "source": [
    "df_train['label'].value_counts()"
   ]
  },
  {
   "cell_type": "markdown",
   "id": "9b2ea071",
   "metadata": {
    "id": "I0_eFxZhyP7R",
    "papermill": {
     "duration": 0.011554,
     "end_time": "2024-03-25T06:45:10.102405",
     "exception": false,
     "start_time": "2024-03-25T06:45:10.090851",
     "status": "completed"
    },
    "tags": []
   },
   "source": [
    "## Create model"
   ]
  },
  {
   "cell_type": "code",
   "execution_count": null,
   "id": "ee039086",
   "metadata": {
    "execution": {
     "iopub.execute_input": "2024-03-25T06:45:10.127306Z",
     "iopub.status.busy": "2024-03-25T06:45:10.126982Z",
     "iopub.status.idle": "2024-03-25T06:45:10.137102Z",
     "shell.execute_reply": "2024-03-25T06:45:10.136225Z"
    },
    "id": "eZHfFVKGyP7R",
    "papermill": {
     "duration": 0.024612,
     "end_time": "2024-03-25T06:45:10.138930",
     "exception": false,
     "start_time": "2024-03-25T06:45:10.114318",
     "status": "completed"
    },
    "tags": []
   },
   "outputs": [],
   "source": [
    "import torch\n",
    "import torch.nn as nn\n",
    "import torch.optim as optim\n",
    "\n",
    "class SecBertModel(nn.Module):\n",
    "    def __init__(self):\n",
    "        super(SecBertModel, self).__init__()\n",
    "\n",
    "        num_labels = config[\"num_labels\"]\n",
    "        self.bert = AutoModel.from_pretrained('jackaduma/secBert') # model that we will use\n",
    "        self.dropout = nn.Dropout(config[\"hidden_dropout_prob\"])\n",
    "\n",
    "        self.prj = nn.Linear(config[\"hidden_size\"], config[\"hidden_size\"]//2) # giam chieu vector\n",
    "        self.attack_classifier = nn.Sequential(\n",
    "            nn.Linear(config[\"hidden_size\"]//2, num_labels),\n",
    "            nn.LogSoftmax(dim=1),\n",
    "        )\n",
    "\n",
    "\n",
    "#       Freeze bert layer\n",
    "        modules = [self.bert.embeddings, self.bert.encoder.layer[:6]] # freeze all \n",
    "        for module in modules:\n",
    "            for param in module.parameters():\n",
    "                param.requires_grad = False\n",
    "\n",
    "\n",
    "    def forward(\n",
    "          self,\n",
    "          input_ids=None,\n",
    "          attention_mask=None,\n",
    "          token_type_ids=None,\n",
    "          labels=None\n",
    "          ):\n",
    "\n",
    "        outputs = self.bert(\n",
    "                input_ids,\n",
    "                attention_mask=attention_mask,\n",
    "                token_type_ids=token_type_ids,\n",
    "            )\n",
    "\n",
    "        pooled_output = outputs.pooler_output\n",
    "        pooled_output = self.dropout(pooled_output)\n",
    "\n",
    "        pooled_output_prj = self.prj(pooled_output)\n",
    "        attack_pred = self.attack_classifier(pooled_output_prj)\n",
    "\n",
    "        return attack_pred.to(device), pooled_output_prj"
   ]
  },
  {
   "cell_type": "code",
   "execution_count": null,
   "id": "4c7db7f9",
   "metadata": {
    "execution": {
     "iopub.execute_input": "2024-03-25T06:45:10.163909Z",
     "iopub.status.busy": "2024-03-25T06:45:10.163155Z",
     "iopub.status.idle": "2024-03-25T06:45:10.168642Z",
     "shell.execute_reply": "2024-03-25T06:45:10.167934Z"
    },
    "id": "la-EEL6jyP7R",
    "papermill": {
     "duration": 0.019797,
     "end_time": "2024-03-25T06:45:10.170480",
     "exception": false,
     "start_time": "2024-03-25T06:45:10.150683",
     "status": "completed"
    },
    "tags": []
   },
   "outputs": [],
   "source": [
    "def compute_accuracy(logits, labels):\n",
    "    predicted_labels_dict = {\n",
    "      0: 0,\n",
    "      1: 0,\n",
    "      2: 0,\n",
    "      3: 0,\n",
    "      4: 0,\n",
    "      5: 0,\n",
    "        6:0\n",
    "    }\n",
    "\n",
    "    predicted_label = logits.max(dim = 1)[1]\n",
    "\n",
    "    for pred in predicted_label:\n",
    "        predicted_labels_dict[pred.item()] += 1\n",
    "    acc = (predicted_label == labels).float().mean()\n",
    "\n",
    "    return acc, predicted_labels_dict"
   ]
  },
  {
   "cell_type": "code",
   "execution_count": null,
   "id": "2ba47325",
   "metadata": {
    "execution": {
     "iopub.execute_input": "2024-03-25T06:45:10.194832Z",
     "iopub.status.busy": "2024-03-25T06:45:10.194552Z",
     "iopub.status.idle": "2024-03-25T06:45:10.207861Z",
     "shell.execute_reply": "2024-03-25T06:45:10.207139Z"
    },
    "id": "DRq0TLuayP7R",
    "papermill": {
     "duration": 0.027507,
     "end_time": "2024-03-25T06:45:10.209682",
     "exception": false,
     "start_time": "2024-03-25T06:45:10.182175",
     "status": "completed"
    },
    "tags": []
   },
   "outputs": [],
   "source": [
    "from sklearn.metrics import precision_score, recall_score, confusion_matrix, classification_report,accuracy_score, f1_score\n",
    "import time\n",
    "\n",
    "def evaluate(model):\n",
    "    start_time = time.time()\n",
    "    with torch.no_grad():\n",
    "        predicted_labels_dict = {\n",
    "          0: 0,\n",
    "          1: 0,\n",
    "          2: 0,\n",
    "          3: 0,\n",
    "          4: 0,\n",
    "          5: 0,\n",
    "        6:0\n",
    "        }\n",
    "        model.eval()\n",
    "        dataset = ReviewDataset(df_test)\n",
    "        dataloader = DataLoader(dataset = dataset, batch_size = training_parameters[\"batch_size\"], shuffle = True, num_workers = 2)\n",
    "\n",
    "        true_labels = list()\n",
    "        predicted_label = list()\n",
    "        for input_ids, attention_mask, token_type_ids, labels in dataloader:\n",
    "            inputs = {\n",
    "                \"input_ids\": input_ids.squeeze(axis=1),\n",
    "                \"attention_mask\": attention_mask.squeeze(axis=1),\n",
    "                \"token_type_ids\" : token_type_ids.squeeze(axis=1),\n",
    "                \"labels\": labels,\n",
    "            }\n",
    "            for k, v in inputs.items():\n",
    "                inputs[k] = v.to(device)\n",
    "            attack_pred, _ = model(**inputs)\n",
    "            true_labels.extend(inputs['labels'].cpu().numpy())\n",
    "            predicted_label.extend(attack_pred.max(dim = 1)[1].cpu().numpy())\n",
    "            _, predicted_labels = compute_accuracy(attack_pred, inputs[\"labels\"])\n",
    "\n",
    "            for i in range(7):\n",
    "                  predicted_labels_dict[i] += predicted_labels[i]\n",
    "\n",
    "        score = f1_score(true_labels,predicted_label,average=\"macro\")\n",
    "        precision = precision_score(true_labels, predicted_label,average=\"macro\")\n",
    "        recall = recall_score(true_labels, predicted_label,average=\"macro\")\n",
    "        report = classification_report(true_labels,predicted_label,digits=4)\n",
    "        acc= accuracy_score(true_labels, predicted_label)\n",
    "        #classifaction_report_csv(report,precision,recall,score,0)\n",
    "        print ('\\n clasification report:\\n', report)\n",
    "        print ('F1 score:', score)\n",
    "        print ('Recall:', recall)\n",
    "        print ('Precision:', precision)\n",
    "        print ('Acc:', acc)\n",
    "        print('Confusion Matrix: \\n',confusion_matrix(true_labels, predicted_label))\n",
    "        print(predicted_labels_dict)\n",
    "    print(\"Testing time:\", time.time()-start_time)"
   ]
  },
  {
   "cell_type": "markdown",
   "id": "19f9622d",
   "metadata": {
    "id": "PJWJi_UoyP7S",
    "papermill": {
     "duration": 0.011633,
     "end_time": "2024-03-25T06:45:10.233071",
     "exception": false,
     "start_time": "2024-03-25T06:45:10.221438",
     "status": "completed"
    },
    "tags": []
   },
   "source": [
    "## Training"
   ]
  },
  {
   "cell_type": "code",
   "execution_count": null,
   "id": "c0e384aa",
   "metadata": {
    "execution": {
     "iopub.execute_input": "2024-03-25T06:45:10.257544Z",
     "iopub.status.busy": "2024-03-25T06:45:10.257281Z",
     "iopub.status.idle": "2024-03-25T06:45:10.261366Z",
     "shell.execute_reply": "2024-03-25T06:45:10.260616Z"
    },
    "id": "prfapXba8i4f",
    "papermill": {
     "duration": 0.018452,
     "end_time": "2024-03-25T06:45:10.263265",
     "exception": false,
     "start_time": "2024-03-25T06:45:10.244813",
     "status": "completed"
    },
    "tags": []
   },
   "outputs": [],
   "source": [
    "lr = training_parameters[\"learning_rate\"]\n",
    "n_epochs = training_parameters[\"epochs\"]"
   ]
  },
  {
   "cell_type": "code",
   "execution_count": null,
   "id": "8fe96028",
   "metadata": {
    "execution": {
     "iopub.execute_input": "2024-03-25T06:45:10.287958Z",
     "iopub.status.busy": "2024-03-25T06:45:10.287425Z",
     "iopub.status.idle": "2024-03-25T09:05:47.840347Z",
     "shell.execute_reply": "2024-03-25T09:05:47.838927Z"
    },
    "id": "B0SjEiJPyP7S",
    "outputId": "4676061d-47c7-4c03-e162-e105e5d32adf",
    "papermill": {
     "duration": 8437.592325,
     "end_time": "2024-03-25T09:05:47.867277",
     "exception": false,
     "start_time": "2024-03-25T06:45:10.274952",
     "status": "completed"
    },
    "tags": []
   },
   "outputs": [],
   "source": [
    "%%time\n",
    "\n",
    "import time\n",
    "lr = training_parameters[\"learning_rate\"]\n",
    "n_epochs = training_parameters[\"epochs\"]\n",
    "\n",
    "model = DomainAdaptationModel()\n",
    "model.to(device)\n",
    "\n",
    "optimizer = optim.Adam(model.parameters(), lr)\n",
    "\n",
    "loss_fn_attack_classifier = torch.nn.NLLLoss()\n",
    "\n",
    "start_time = time.time()\n",
    "\n",
    "max_batches = len(source_dataloader)\n",
    "for epoch_idx in range(2):\n",
    "    source_iterator = iter(source_dataloader)\n",
    "    for batch_idx in range(max_batches):\n",
    "\n",
    "        model.train()\n",
    "        if(batch_idx%training_parameters[\"print_after_steps\"] == 0 ):\n",
    "            print(\"Training Step:\", batch_idx)\n",
    "        optimizer.zero_grad()\n",
    "\n",
    "        # Souce dataset training update\n",
    "        input_ids, attention_mask, token_type_ids, labels = next(source_iterator)\n",
    "        inputs = {\n",
    "            \"input_ids\": input_ids.squeeze(axis=1),\n",
    "            \"attention_mask\": attention_mask.squeeze(axis=1),\n",
    "            \"token_type_ids\" : token_type_ids.squeeze(axis=1),\n",
    "            \"labels\" : labels,\n",
    "        }\n",
    "\n",
    "        for k, v in inputs.items():\n",
    "            inputs[k] = v.to(device)\n",
    "\n",
    "        attack_pred, pooled_output_prj_source = model(**inputs)\n",
    "        loss_s_attack = loss_fn_attack_classifier(attack_pred, inputs[\"labels\"])\n",
    "\n",
    "        loss = loss_s_attack \n",
    "        loss.backward()\n",
    "        optimizer.step()\n",
    "    print(\"Epoch: \" + str(epoch_idx))\n",
    "print(\"Training time:\", time.time()-start_time)"
   ]
  },
  {
   "cell_type": "code",
   "execution_count": null,
   "id": "785ba5fe",
   "metadata": {
    "execution": {
     "iopub.execute_input": "2024-03-25T09:05:48.932627Z",
     "iopub.status.busy": "2024-03-25T09:05:48.932280Z",
     "iopub.status.idle": "2024-03-25T09:09:03.727024Z",
     "shell.execute_reply": "2024-03-25T09:09:03.725891Z"
    },
    "id": "N_LIGo0ByP7S",
    "outputId": "faabff84-fe94-4a72-83fa-ffa42c3cfa4b",
    "papermill": {
     "duration": 194.851587,
     "end_time": "2024-03-25T09:09:03.755328",
     "exception": false,
     "start_time": "2024-03-25T09:05:48.903741",
     "status": "completed"
    },
    "tags": []
   },
   "outputs": [],
   "source": [
    "evaluate(model)"
   ]
  }
 ],
 "metadata": {
  "kaggle": {
   "accelerator": "nvidiaTeslaT4",
   "dataSources": [
    {
     "datasetId": 3149701,
     "sourceId": 5447421,
     "sourceType": "datasetVersion"
    },
    {
     "datasetId": 3532088,
     "sourceId": 6157298,
     "sourceType": "datasetVersion"
    },
    {
     "datasetId": 4470122,
     "sourceId": 7719583,
     "sourceType": "datasetVersion"
    },
    {
     "datasetId": 4560209,
     "sourceId": 7790648,
     "sourceType": "datasetVersion"
    },
    {
     "datasetId": 4578711,
     "sourceId": 7815837,
     "sourceType": "datasetVersion"
    },
    {
     "datasetId": 4594809,
     "sourceId": 7838360,
     "sourceType": "datasetVersion"
    },
    {
     "modelInstanceId": 10599,
     "sourceId": 12822,
     "sourceType": "modelInstanceVersion"
    },
    {
     "modelInstanceId": 11263,
     "sourceId": 13610,
     "sourceType": "modelInstanceVersion"
    },
    {
     "modelInstanceId": 11264,
     "sourceId": 13611,
     "sourceType": "modelInstanceVersion"
    },
    {
     "modelInstanceId": 11368,
     "sourceId": 13739,
     "sourceType": "modelInstanceVersion"
    },
    {
     "isSourceIdPinned": true,
     "modelInstanceId": 13621,
     "sourceId": 16346,
     "sourceType": "modelInstanceVersion"
    }
   ],
   "dockerImageVersionId": 30528,
   "isGpuEnabled": true,
   "isInternetEnabled": false,
   "language": "python",
   "sourceType": "notebook"
  },
  "kernelspec": {
   "display_name": "Python 3",
   "language": "python",
   "name": "python3"
  },
  "language_info": {
   "codemirror_mode": {
    "name": "ipython",
    "version": 3
   },
   "file_extension": ".py",
   "mimetype": "text/x-python",
   "name": "python",
   "nbconvert_exporter": "python",
   "pygments_lexer": "ipython3",
   "version": "3.10.12"
  },
  "papermill": {
   "default_parameters": {},
   "duration": 9274.094365,
   "end_time": "2024-03-25T09:18:46.058961",
   "environment_variables": {},
   "exception": null,
   "input_path": "__notebook__.ipynb",
   "output_path": "__notebook__.ipynb",
   "parameters": {},
   "start_time": "2024-03-25T06:44:11.964596",
   "version": "2.4.0"
  }
 },
 "nbformat": 4,
 "nbformat_minor": 5
}
