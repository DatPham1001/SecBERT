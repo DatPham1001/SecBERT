{
  "cells": [
    {
      "cell_type": "code",
      "execution_count": 1,
      "metadata": {
        "colab": {
          "base_uri": "https://localhost:8080/"
        },
        "id": "W51kF49vtN5p",
        "outputId": "429720fe-52e9-44ba-d1f6-1269c9aee563"
      },
      "outputs": [
        {
          "name": "stderr",
          "output_type": "stream",
          "text": [
            "[nltk_data] Downloading package punkt to\n",
            "[nltk_data]     C:\\Users\\ngngo\\AppData\\Roaming\\nltk_data...\n",
            "[nltk_data]   Package punkt is already up-to-date!\n",
            "[nltk_data] Downloading package averaged_perceptron_tagger to\n",
            "[nltk_data]     C:\\Users\\ngngo\\AppData\\Roaming\\nltk_data...\n",
            "[nltk_data]   Package averaged_perceptron_tagger is already up-to-\n",
            "[nltk_data]       date!\n",
            "[nltk_data] Downloading package wordnet to\n",
            "[nltk_data]     C:\\Users\\ngngo\\AppData\\Roaming\\nltk_data...\n",
            "[nltk_data]   Package wordnet is already up-to-date!\n"
          ]
        }
      ],
      "source": [
        "import pandas as pd\n",
        "import numpy as np\n",
        "\n",
        "import seaborn as sns\n",
        "import matplotlib.pyplot as plt\n",
        "\n",
        "#for text pre-processing\n",
        "import re, string\n",
        "import nltk\n",
        "from nltk.tokenize import word_tokenize\n",
        "from nltk.corpus import stopwords\n",
        "from nltk.tokenize import word_tokenize\n",
        "from nltk.stem import SnowballStemmer\n",
        "from nltk.corpus import wordnet\n",
        "from nltk.stem import WordNetLemmatizer\n",
        "\n",
        "nltk.download('punkt')\n",
        "nltk.download('averaged_perceptron_tagger')\n",
        "nltk.download('wordnet')\n",
        "\n",
        "#for model-building\n",
        "from sklearn.model_selection import train_test_split\n",
        "from sklearn.linear_model import LogisticRegression\n",
        "from sklearn.linear_model import SGDClassifier\n",
        "from sklearn.naive_bayes import MultinomialNB\n",
        "from sklearn.metrics import classification_report, f1_score, accuracy_score, confusion_matrix\n",
        "from sklearn.metrics import roc_curve, auc, roc_auc_score\n",
        "\n",
        "# bag of words\n",
        "from sklearn.feature_extraction.text import TfidfVectorizer\n",
        "from sklearn.feature_extraction.text import CountVectorizer\n",
        "\n",
        "#for word embedding\n",
        "import gensim\n",
        "from gensim.models import Word2Vec #Word2Vec is mostly used for huge datasets"
      ]
    },
    {
      "cell_type": "code",
      "execution_count": 2,
      "metadata": {
        "colab": {
          "base_uri": "https://localhost:8080/"
        },
        "id": "aWabTmeUtSM5",
        "outputId": "e4f59c62-66a5-4eb3-e97f-e0a6a05a72d6"
      },
      "outputs": [],
      "source": [
        "# from google.colab import drive\n",
        "# drive.mount('/content/drive')"
      ]
    },
    {
      "cell_type": "code",
      "execution_count": 3,
      "metadata": {
        "colab": {
          "base_uri": "https://localhost:8080/"
        },
        "id": "GvEmu7PItSQI",
        "outputId": "44b0cb94-74bb-4078-b81d-9a2491ef8029"
      },
      "outputs": [
        {
          "name": "stdout",
          "output_type": "stream",
          "text": [
            "[WinError 3] The system cannot find the path specified: '/content/drive/MyDrive/Code_Injection_Dataset'\n",
            "e:\\Work_DatPT\\Study\\Master\\SecBERT\n"
          ]
        }
      ],
      "source": [
        "%cd /content/drive/MyDrive/Code_Injection_Dataset"
      ]
    },
    {
      "cell_type": "code",
      "execution_count": 4,
      "metadata": {
        "colab": {
          "base_uri": "https://localhost:8080/",
          "height": 206
        },
        "id": "L9g0nmB9tSTY",
        "outputId": "8b0d19f6-7216-4b75-8238-a0b2889dccc2"
      },
      "outputs": [
        {
          "data": {
            "text/html": [
              "<div>\n",
              "<style scoped>\n",
              "    .dataframe tbody tr th:only-of-type {\n",
              "        vertical-align: middle;\n",
              "    }\n",
              "\n",
              "    .dataframe tbody tr th {\n",
              "        vertical-align: top;\n",
              "    }\n",
              "\n",
              "    .dataframe thead th {\n",
              "        text-align: right;\n",
              "    }\n",
              "</style>\n",
              "<table border=\"1\" class=\"dataframe\">\n",
              "  <thead>\n",
              "    <tr style=\"text-align: right;\">\n",
              "      <th></th>\n",
              "      <th>text</th>\n",
              "      <th>label</th>\n",
              "    </tr>\n",
              "  </thead>\n",
              "  <tbody>\n",
              "    <tr>\n",
              "      <th>0</th>\n",
              "      <td>GET /blog/index.php/2020/04/04/voluptatum-repr...</td>\n",
              "      <td>000 - Normal</td>\n",
              "    </tr>\n",
              "    <tr>\n",
              "      <th>1</th>\n",
              "      <td>GET /blog/xmlrpc.php?rsd</td>\n",
              "      <td>000 - Normal</td>\n",
              "    </tr>\n",
              "    <tr>\n",
              "      <th>2</th>\n",
              "      <td>GET /blog/index.php/2020/04/04/nihil-tenetur-e...</td>\n",
              "      <td>000 - Normal</td>\n",
              "    </tr>\n",
              "    <tr>\n",
              "      <th>3</th>\n",
              "      <td>GET /blog/index.php/2020/04/04/explicabo-qui-f...</td>\n",
              "      <td>000 - Normal</td>\n",
              "    </tr>\n",
              "    <tr>\n",
              "      <th>4</th>\n",
              "      <td>GET /blog/index.php/2020/04/04/explicabo-qui-f...</td>\n",
              "      <td>000 - Normal</td>\n",
              "    </tr>\n",
              "  </tbody>\n",
              "</table>\n",
              "</div>"
            ],
            "text/plain": [
              "                                                text         label\n",
              "0  GET /blog/index.php/2020/04/04/voluptatum-repr...  000 - Normal\n",
              "1                           GET /blog/xmlrpc.php?rsd  000 - Normal\n",
              "2  GET /blog/index.php/2020/04/04/nihil-tenetur-e...  000 - Normal\n",
              "3  GET /blog/index.php/2020/04/04/explicabo-qui-f...  000 - Normal\n",
              "4  GET /blog/index.php/2020/04/04/explicabo-qui-f...  000 - Normal"
            ]
          },
          "execution_count": 4,
          "metadata": {},
          "output_type": "execute_result"
        }
      ],
      "source": [
        "data_dir = 'E:\\Work_DatPT\\Study\\Master\\dataset'\n",
        "df_train = pd.read_csv(data_dir + '/dataset_capec.csv')\n",
        "df_train.head()"
      ]
    },
    {
      "cell_type": "code",
      "execution_count": 5,
      "metadata": {
        "colab": {
          "base_uri": "https://localhost:8080/",
          "height": 966
        },
        "id": "fkjSw_zvtSWS",
        "outputId": "5a77b686-db84-4e4a-82e3-52eb48975428"
      },
      "outputs": [
        {
          "name": "stdout",
          "output_type": "stream",
          "text": [
            "label\n",
            "66 - SQL Injection                        248093\n",
            "000 - Normal                              226509\n",
            "194 - Fake the Source of Data              55982\n",
            "34 - HTTP Response Splitting               19134\n",
            "126 - Path Traversal                       17595\n",
            "242 - Code Injection                       13792\n",
            "272 - Protocol Manipulation                 6924\n",
            "310 - Scanning for Vulnerable Software      2382\n",
            "153 - Input Data Manipulation               1387\n",
            "Name: count, dtype: int64\n"
          ]
        },
        {
          "data": {
            "text/plain": [
              "(array([0, 1, 2, 3, 4, 5, 6, 7, 8]),\n",
              " [Text(0, 0, '66 - SQL Injection'),\n",
              "  Text(1, 0, '000 - Normal'),\n",
              "  Text(2, 0, '194 - Fake the Source of Data'),\n",
              "  Text(3, 0, '34 - HTTP Response Splitting'),\n",
              "  Text(4, 0, '126 - Path Traversal'),\n",
              "  Text(5, 0, '242 - Code Injection'),\n",
              "  Text(6, 0, '272 - Protocol Manipulation'),\n",
              "  Text(7, 0, '310 - Scanning for Vulnerable Software'),\n",
              "  Text(8, 0, '153 - Input Data Manipulation')])"
            ]
          },
          "execution_count": 5,
          "metadata": {},
          "output_type": "execute_result"
        },
        {
          "data": {
            "image/png": "[encoded data removed]",
            "text/plain": [
              "<Figure size 640x480 with 1 Axes>"
            ]
          },
          "metadata": {},
          "output_type": "display_data"
        }
      ],
      "source": [
        "# CLASS DISTRIBUTION\n",
        "#if dataset is balanced or not\n",
        "x=df_train['label'].value_counts()\n",
        "print(x)\n",
        "sns.barplot(x = x.index, y = x)\n",
        "plt.xticks(rotation=90)"
      ]
    },
    {
      "cell_type": "code",
      "execution_count": 6,
      "metadata": {
        "id": "Hupa0NALtnWS"
      },
      "outputs": [],
      "source": [
        "from sklearn.feature_extraction.text import CountVectorizer, TfidfVectorizer\n",
        "import numpy as np\n",
        "import json\n",
        "\n",
        "\n",
        "class Vectorizer:\n",
        "    def __init__(self, method='BOW', ngram_range=(1, 1), max_features=300, emb_fname='', word_index_fname=''):\n",
        "        self.method = method\n",
        "        if self.method == 'BOW':\n",
        "            self.vectorizer = CountVectorizer(analyzer='word', input='content', ngram_range=ngram_range, max_features=max_features)\n",
        "        elif self.method == 'TFIDF':\n",
        "            self.vectorizer = TfidfVectorizer(analyzer='word', input='content', max_features=max_features)\n",
        "        elif self.method == 'Word2Vec':\n",
        "            self.max_features = max_features\n",
        "            self.emb_fname = emb_fname\n",
        "            self.word_index_fname = word_index_fname\n",
        "        else:\n",
        "            raise ValueError('Feature extraction method does not exist.')\n",
        "\n",
        "    def feature_extraction(self, X_train, X_test):\n",
        "        train_data = self.vectorizer.fit_transform(X_train).toarray()\n",
        "        test_data = self.vectorizer.transform(X_test).toarray()\n",
        "        return train_data, test_data\n",
        "\n",
        "    def get_word_index(self):\n",
        "        word2id = json.load(open(self.word_index_fname, 'r'))\n",
        "        return word2id\n",
        "\n",
        "    def get_embedding_matrix(self):\n",
        "        np.random.seed(0)\n",
        "        word2id = self.get_word_index()\n",
        "        embedding_matrix = np.random.uniform(-0.25, 0.25, [len(word2id) + 1, self.max_features])\n",
        "        with open(self.emb_fname, 'r', encoding='utf-8') as f:\n",
        "            for line in f:\n",
        "                content = line.split(' ')\n",
        "                if content[0] in word2id:\n",
        "                    embedding_matrix[word2id[content[0]]] = np.array(list(map(float, content[1:])))\n",
        "        return embedding_matrix"
      ]
    },
    {
      "cell_type": "code",
      "execution_count": 7,
      "metadata": {
        "colab": {
          "base_uri": "https://localhost:8080/",
          "height": 206
        },
        "id": "YwWfdUf2todR",
        "outputId": "cd8033e1-4ce6-4fc6-fb4d-6cb94ea25044"
      },
      "outputs": [
        {
          "data": {
            "text/html": [
              "<div>\n",
              "<style scoped>\n",
              "    .dataframe tbody tr th:only-of-type {\n",
              "        vertical-align: middle;\n",
              "    }\n",
              "\n",
              "    .dataframe tbody tr th {\n",
              "        vertical-align: top;\n",
              "    }\n",
              "\n",
              "    .dataframe thead th {\n",
              "        text-align: right;\n",
              "    }\n",
              "</style>\n",
              "<table border=\"1\" class=\"dataframe\">\n",
              "  <thead>\n",
              "    <tr style=\"text-align: right;\">\n",
              "      <th></th>\n",
              "      <th>text</th>\n",
              "      <th>label</th>\n",
              "    </tr>\n",
              "  </thead>\n",
              "  <tbody>\n",
              "    <tr>\n",
              "      <th>0</th>\n",
              "      <td>GET  blog index.php 2020 04 04 voluptatum-repr...</td>\n",
              "      <td>000 - Normal</td>\n",
              "    </tr>\n",
              "    <tr>\n",
              "      <th>1</th>\n",
              "      <td>GET  blog xmlrpc.php?rsd</td>\n",
              "      <td>000 - Normal</td>\n",
              "    </tr>\n",
              "    <tr>\n",
              "      <th>2</th>\n",
              "      <td>GET  blog index.php 2020 04 04 nihil-tenetur-e...</td>\n",
              "      <td>000 - Normal</td>\n",
              "    </tr>\n",
              "    <tr>\n",
              "      <th>3</th>\n",
              "      <td>GET  blog index.php 2020 04 04 explicabo-qui-f...</td>\n",
              "      <td>000 - Normal</td>\n",
              "    </tr>\n",
              "    <tr>\n",
              "      <th>4</th>\n",
              "      <td>GET  blog index.php 2020 04 04 explicabo-qui-f...</td>\n",
              "      <td>000 - Normal</td>\n",
              "    </tr>\n",
              "  </tbody>\n",
              "</table>\n",
              "</div>"
            ],
            "text/plain": [
              "                                                text         label\n",
              "0  GET  blog index.php 2020 04 04 voluptatum-repr...  000 - Normal\n",
              "1                           GET  blog xmlrpc.php?rsd  000 - Normal\n",
              "2  GET  blog index.php 2020 04 04 nihil-tenetur-e...  000 - Normal\n",
              "3  GET  blog index.php 2020 04 04 explicabo-qui-f...  000 - Normal\n",
              "4  GET  blog index.php 2020 04 04 explicabo-qui-f...  000 - Normal"
            ]
          },
          "execution_count": 7,
          "metadata": {},
          "output_type": "execute_result"
        }
      ],
      "source": [
        "# Optional (not effect very much)\n",
        "df_train['text'] = df_train['text'].str.replace('/',' ')\n",
        "df_train.head()"
      ]
    },
    {
      "cell_type": "code",
      "execution_count": 8,
      "metadata": {
        "colab": {
          "base_uri": "https://localhost:8080/"
        },
        "id": "yQE8gtkRtof_",
        "outputId": "54b5fad3-505d-47ae-85b0-eed1ced0e03c"
      },
      "outputs": [
        {
          "name": "stdout",
          "output_type": "stream",
          "text": [
            "0.8683930381885773\n"
          ]
        }
      ],
      "source": [
        "# TF-IDF + NB\n",
        "# thực hiện quá trình huấn luyện một mô hình phân loại văn bản sử dụng phương pháp TF-IDF \n",
        "# để biểu diễn văn bản và mô hình Naive Bayes để phân loại.\n",
        "from sklearn.naive_bayes import MultinomialNB\n",
        "X_train, X_val, y_train, y_val = train_test_split(df_train[\"text\"],\n",
        "                                                  df_train[\"label\"],\n",
        "                                                  test_size=0.2,\n",
        "                                                  shuffle=True)\n",
        "vectorizer = Vectorizer('TFIDF')\n",
        "train_features, test_features = vectorizer.feature_extraction(X_train, X_val)\n",
        "mnb = MultinomialNB()\n",
        "mnb.fit(train_features, y_train)\n",
        "print(mnb.score(test_features, y_val))"
      ]
    },
    {
      "cell_type": "code",
      "execution_count": 9,
      "metadata": {
        "colab": {
          "base_uri": "https://localhost:8080/"
        },
        "id": "_LebUPkft-9R",
        "outputId": "c7f28207-cd37-40d9-b9b1-78fb4182d075"
      },
      "outputs": [
        {
          "name": "stderr",
          "output_type": "stream",
          "text": [
            "e:\\Python\\Lib\\site-packages\\sklearn\\metrics\\_classification.py:1344: UndefinedMetricWarning: Precision and F-score are ill-defined and being set to 0.0 in labels with no predicted samples. Use `zero_division` parameter to control this behavior.\n",
            "  _warn_prf(average, modifier, msg_start, len(result))\n",
            "e:\\Python\\Lib\\site-packages\\sklearn\\metrics\\_classification.py:1344: UndefinedMetricWarning: Precision and F-score are ill-defined and being set to 0.0 in labels with no predicted samples. Use `zero_division` parameter to control this behavior.\n",
            "  _warn_prf(average, modifier, msg_start, len(result))\n",
            "e:\\Python\\Lib\\site-packages\\sklearn\\metrics\\_classification.py:1344: UndefinedMetricWarning: Precision and F-score are ill-defined and being set to 0.0 in labels with no predicted samples. Use `zero_division` parameter to control this behavior.\n",
            "  _warn_prf(average, modifier, msg_start, len(result))\n"
          ]
        },
        {
          "name": "stdout",
          "output_type": "stream",
          "text": [
            "                                        precision    recall  f1-score   support\n",
            "\n",
            "                          000 - Normal       0.81      0.93      0.87     45332\n",
            "                  126 - Path Traversal       1.00      0.79      0.88      3484\n",
            "         153 - Input Data Manipulation       0.09      1.00      0.17       247\n",
            "         194 - Fake the Source of Data       0.98      0.92      0.94     11257\n",
            "                  242 - Code Injection       0.97      0.91      0.94      2720\n",
            "           272 - Protocol Manipulation       0.00      0.00      0.00      1393\n",
            "310 - Scanning for Vulnerable Software       0.96      0.28      0.43       469\n",
            "          34 - HTTP Response Splitting       0.94      0.92      0.93      3827\n",
            "                    66 - SQL Injection       0.94      0.83      0.88     49631\n",
            "\n",
            "                              accuracy                           0.87    118360\n",
            "                             macro avg       0.74      0.73      0.67    118360\n",
            "                          weighted avg       0.88      0.87      0.87    118360\n",
            "\n",
            "Confusion Matrix: \n",
            " [[42084    11   535    44     1     0     4   207  2446]\n",
            " [  550  2764    39   108     0     0     0     0    23]\n",
            " [    0     0   247     0     0     0     0     0     0]\n",
            " [  545     0   379 10301     0     0     1     0    31]\n",
            " [  194     0    17     0  2470     0     0     0    39]\n",
            " [ 1058     0    66   106     0     0     1     0   162]\n",
            " [  331     0     0     4     0     0   130     0     4]\n",
            " [  164     0   102     0     0     0     0  3538    23]\n",
            " [ 7018     0  1294     2    66     0     0     2 41249]]\n"
          ]
        }
      ],
      "source": [
        "y_predict = mnb.predict(test_features)\n",
        "print(classification_report(y_val,y_predict))\n",
        "print('Confusion Matrix: \\n',confusion_matrix(y_val, y_predict))"
      ]
    },
    {
      "cell_type": "code",
      "execution_count": 10,
      "metadata": {
        "colab": {
          "base_uri": "https://localhost:8080/"
        },
        "id": "SzTPsHvst-_x",
        "outputId": "5d77be40-fe6b-42b9-b158-85cc9115b3c0"
      },
      "outputs": [
        {
          "name": "stdout",
          "output_type": "stream",
          "text": [
            "0.9600794187225414\n"
          ]
        }
      ],
      "source": [
        "## TF-IDF + RF\n",
        "from sklearn.ensemble import RandomForestClassifier\n",
        "\n",
        "rf = RandomForestClassifier(n_estimators=10, criterion='gini')\n",
        "rf.fit(train_features, y_train)\n",
        "print(rf.score(test_features, y_val))"
      ]
    },
    {
      "cell_type": "code",
      "execution_count": 11,
      "metadata": {
        "colab": {
          "base_uri": "https://localhost:8080/"
        },
        "id": "8OIjKiPXt_CY",
        "outputId": "ed1f5896-b14e-4145-c61a-1aef2abbddca"
      },
      "outputs": [
        {
          "name": "stdout",
          "output_type": "stream",
          "text": [
            "                                        precision    recall  f1-score   support\n",
            "\n",
            "                          000 - Normal       0.92      0.99      0.96     45332\n",
            "                  126 - Path Traversal       1.00      0.93      0.96      3484\n",
            "         153 - Input Data Manipulation       0.60      0.01      0.02       247\n",
            "         194 - Fake the Source of Data       1.00      0.93      0.96     11257\n",
            "                  242 - Code Injection       1.00      0.99      1.00      2720\n",
            "           272 - Protocol Manipulation       0.65      0.14      0.24      1393\n",
            "310 - Scanning for Vulnerable Software       0.88      0.99      0.93       469\n",
            "          34 - HTTP Response Splitting       1.00      1.00      1.00      3827\n",
            "                    66 - SQL Injection       0.98      0.96      0.97     49631\n",
            "\n",
            "                              accuracy                           0.96    118360\n",
            "                             macro avg       0.89      0.77      0.78    118360\n",
            "                          weighted avg       0.96      0.96      0.96    118360\n",
            "\n",
            "Confusion Matrix: \n",
            " [[44931     6     0     5     0    18    34     0   338]\n",
            " [  214  3230     0     0     0     9     0     0    31]\n",
            " [   83     0     3     0     0     3     0     0   158]\n",
            " [  579     0     1 10508     0    22     1     0   146]\n",
            " [    0     0     0     0  2700     1     0     0    19]\n",
            " [ 1013     0     1    26     1   201    28     0   123]\n",
            " [    6     0     0     0     0     1   462     0     0]\n",
            " [    0     0     0     0     0     0     0  3827     0]\n",
            " [ 1793     0     0     1     6    56     2     0 47773]]\n"
          ]
        }
      ],
      "source": [
        "y_predict = rf.predict(test_features)\n",
        "print(classification_report(y_val,y_predict))\n",
        "print('Confusion Matrix: \\n',confusion_matrix(y_val, y_predict))"
      ]
    },
    {
      "attachments": {},
      "cell_type": "markdown",
      "metadata": {
        "id": "UmGIyjHkuooa"
      },
      "source": [
        "## Test for unseen data"
      ]
    },
    {
      "cell_type": "code",
      "execution_count": 12,
      "metadata": {
        "colab": {
          "base_uri": "https://localhost:8080/",
          "height": 206
        },
        "id": "qz2CfV-7t_FA",
        "outputId": "93a25b6d-0998-41d5-c442-f2263b3f9031"
      },
      "outputs": [
        {
          "data": {
            "text/html": [
              "<div>\n",
              "<style scoped>\n",
              "    .dataframe tbody tr th:only-of-type {\n",
              "        vertical-align: middle;\n",
              "    }\n",
              "\n",
              "    .dataframe tbody tr th {\n",
              "        vertical-align: top;\n",
              "    }\n",
              "\n",
              "    .dataframe thead th {\n",
              "        text-align: right;\n",
              "    }\n",
              "</style>\n",
              "<table border=\"1\" class=\"dataframe\">\n",
              "  <thead>\n",
              "    <tr style=\"text-align: right;\">\n",
              "      <th></th>\n",
              "      <th>text</th>\n",
              "      <th>label</th>\n",
              "    </tr>\n",
              "  </thead>\n",
              "  <tbody>\n",
              "    <tr>\n",
              "      <th>0</th>\n",
              "      <td>POST /vendor/phpunit/phpunit/src/Util/PHP/eval...</td>\n",
              "      <td>153 - Input Data Manipulation</td>\n",
              "    </tr>\n",
              "    <tr>\n",
              "      <th>1</th>\n",
              "      <td>POST /cgi-bin/ViewLog.asp  remote_submit_Flag=...</td>\n",
              "      <td>153 - Input Data Manipulation</td>\n",
              "    </tr>\n",
              "    <tr>\n",
              "      <th>2</th>\n",
              "      <td>GET /.svn/wc.db</td>\n",
              "      <td>153 - Input Data Manipulation</td>\n",
              "    </tr>\n",
              "    <tr>\n",
              "      <th>3</th>\n",
              "      <td>GET /blog/.svn/wc.db</td>\n",
              "      <td>153 - Input Data Manipulation</td>\n",
              "    </tr>\n",
              "    <tr>\n",
              "      <th>4</th>\n",
              "      <td>GET /blog/index.php/my-account/.svn/wc.db</td>\n",
              "      <td>153 - Input Data Manipulation</td>\n",
              "    </tr>\n",
              "  </tbody>\n",
              "</table>\n",
              "</div>"
            ],
            "text/plain": [
              "                                                text   \n",
              "0  POST /vendor/phpunit/phpunit/src/Util/PHP/eval...  \\\n",
              "1  POST /cgi-bin/ViewLog.asp  remote_submit_Flag=...   \n",
              "2                                    GET /.svn/wc.db   \n",
              "3                               GET /blog/.svn/wc.db   \n",
              "4          GET /blog/index.php/my-account/.svn/wc.db   \n",
              "\n",
              "                           label  \n",
              "0  153 - Input Data Manipulation  \n",
              "1  153 - Input Data Manipulation  \n",
              "2  153 - Input Data Manipulation  \n",
              "3  153 - Input Data Manipulation  \n",
              "4  153 - Input Data Manipulation  "
            ]
          },
          "execution_count": 12,
          "metadata": {},
          "output_type": "execute_result"
        }
      ],
      "source": [
        "df_transfer = pd.read_csv(data_dir +'/dataset_capec_transfer.csv')\n",
        "df_transfer.head()"
      ]
    },
    {
      "cell_type": "code",
      "execution_count": 13,
      "metadata": {
        "colab": {
          "base_uri": "https://localhost:8080/"
        },
        "id": "Gi-Ncb3xqoub",
        "outputId": "ea9c3cc8-c2e2-483f-dca0-c920736fc616"
      },
      "outputs": [
        {
          "data": {
            "text/plain": [
              "array(['153 - Input Data Manipulation', '242 - Code Injection',\n",
              "       '126 - Path Traversal', '34 - HTTP Response Splitting'],\n",
              "      dtype=object)"
            ]
          },
          "execution_count": 13,
          "metadata": {},
          "output_type": "execute_result"
        }
      ],
      "source": [
        "df_transfer.label.unique()"
      ]
    },
    {
      "cell_type": "code",
      "execution_count": 14,
      "metadata": {
        "colab": {
          "base_uri": "https://localhost:8080/",
          "height": 206
        },
        "id": "U5tVJGIMICzK",
        "outputId": "28304f21-e272-4339-ff9f-1d68f8bc3b55"
      },
      "outputs": [
        {
          "data": {
            "text/html": [
              "<div>\n",
              "<style scoped>\n",
              "    .dataframe tbody tr th:only-of-type {\n",
              "        vertical-align: middle;\n",
              "    }\n",
              "\n",
              "    .dataframe tbody tr th {\n",
              "        vertical-align: top;\n",
              "    }\n",
              "\n",
              "    .dataframe thead th {\n",
              "        text-align: right;\n",
              "    }\n",
              "</style>\n",
              "<table border=\"1\" class=\"dataframe\">\n",
              "  <thead>\n",
              "    <tr style=\"text-align: right;\">\n",
              "      <th></th>\n",
              "      <th>text</th>\n",
              "      <th>label</th>\n",
              "    </tr>\n",
              "  </thead>\n",
              "  <tbody>\n",
              "    <tr>\n",
              "      <th>0</th>\n",
              "      <td>POST  vendor phpunit phpunit src Util PHP eval...</td>\n",
              "      <td>153 - Input Data Manipulation</td>\n",
              "    </tr>\n",
              "    <tr>\n",
              "      <th>1</th>\n",
              "      <td>POST  cgi-bin ViewLog.asp  remote_submit_Flag=...</td>\n",
              "      <td>153 - Input Data Manipulation</td>\n",
              "    </tr>\n",
              "    <tr>\n",
              "      <th>2</th>\n",
              "      <td>GET  .svn wc.db</td>\n",
              "      <td>153 - Input Data Manipulation</td>\n",
              "    </tr>\n",
              "    <tr>\n",
              "      <th>3</th>\n",
              "      <td>GET  blog .svn wc.db</td>\n",
              "      <td>153 - Input Data Manipulation</td>\n",
              "    </tr>\n",
              "    <tr>\n",
              "      <th>4</th>\n",
              "      <td>GET  blog index.php my-account .svn wc.db</td>\n",
              "      <td>153 - Input Data Manipulation</td>\n",
              "    </tr>\n",
              "  </tbody>\n",
              "</table>\n",
              "</div>"
            ],
            "text/plain": [
              "                                                text   \n",
              "0  POST  vendor phpunit phpunit src Util PHP eval...  \\\n",
              "1  POST  cgi-bin ViewLog.asp  remote_submit_Flag=...   \n",
              "2                                    GET  .svn wc.db   \n",
              "3                               GET  blog .svn wc.db   \n",
              "4          GET  blog index.php my-account .svn wc.db   \n",
              "\n",
              "                           label  \n",
              "0  153 - Input Data Manipulation  \n",
              "1  153 - Input Data Manipulation  \n",
              "2  153 - Input Data Manipulation  \n",
              "3  153 - Input Data Manipulation  \n",
              "4  153 - Input Data Manipulation  "
            ]
          },
          "execution_count": 14,
          "metadata": {},
          "output_type": "execute_result"
        }
      ],
      "source": [
        "# Optional (not effect very much)\n",
        "df_transfer['text'] = df_transfer['text'].str.replace('/',' ')\n",
        "df_transfer.head()"
      ]
    },
    {
      "cell_type": "code",
      "execution_count": 15,
      "metadata": {
        "id": "tYfsqbsHt_H_"
      },
      "outputs": [],
      "source": [
        "vec = TfidfVectorizer(analyzer='word', input='content', max_features=300)\n",
        "transfer_feature = vec.fit_transform(df_transfer['text']).toarray()\n",
        "y_transfer = df_transfer['label']"
      ]
    },
    {
      "attachments": {},
      "cell_type": "markdown",
      "metadata": {
        "id": "cKqTaWTrrnEX"
      },
      "source": [
        "### 153 bị nhầm nhiều với 242, 126 cũng bị nhầm nhiều với 242 (có nên đổi label của 153 và 126 thành 242?)"
      ]
    },
    {
      "cell_type": "code",
      "execution_count": 17,
      "metadata": {
        "colab": {
          "base_uri": "https://localhost:8080/"
        },
        "id": "leInuQ5Gdqf2",
        "outputId": "20190794-b4d3-4979-b377-73a19595c9a5"
      },
      "outputs": [
        {
          "name": "stderr",
          "output_type": "stream",
          "text": [
            "e:\\Python\\Lib\\site-packages\\sklearn\\metrics\\_classification.py:1344: UndefinedMetricWarning: Precision and F-score are ill-defined and being set to 0.0 in labels with no predicted samples. Use `zero_division` parameter to control this behavior.\n",
            "  _warn_prf(average, modifier, msg_start, len(result))\n",
            "e:\\Python\\Lib\\site-packages\\sklearn\\metrics\\_classification.py:1344: UndefinedMetricWarning: Recall and F-score are ill-defined and being set to 0.0 in labels with no true samples. Use `zero_division` parameter to control this behavior.\n",
            "  _warn_prf(average, modifier, msg_start, len(result))\n",
            "e:\\Python\\Lib\\site-packages\\sklearn\\metrics\\_classification.py:1344: UndefinedMetricWarning: Precision and F-score are ill-defined and being set to 0.0 in labels with no predicted samples. Use `zero_division` parameter to control this behavior.\n",
            "  _warn_prf(average, modifier, msg_start, len(result))\n",
            "e:\\Python\\Lib\\site-packages\\sklearn\\metrics\\_classification.py:1344: UndefinedMetricWarning: Recall and F-score are ill-defined and being set to 0.0 in labels with no true samples. Use `zero_division` parameter to control this behavior.\n",
            "  _warn_prf(average, modifier, msg_start, len(result))\n"
          ]
        },
        {
          "name": "stdout",
          "output_type": "stream",
          "text": [
            "                               precision    recall  f1-score   support\n",
            "\n",
            "                 000 - Normal       0.00      0.00      0.00         0\n",
            "         126 - Path Traversal       0.00      0.00      0.00       167\n",
            "153 - Input Data Manipulation       0.00      0.00      0.00      1950\n",
            "194 - Fake the Source of Data       0.00      0.00      0.00         0\n",
            "         242 - Code Injection       0.98      0.09      0.16      9168\n",
            "  272 - Protocol Manipulation       0.00      0.00      0.00         0\n",
            " 34 - HTTP Response Splitting       0.51      0.20      0.29       534\n",
            "           66 - SQL Injection       0.00      0.00      0.00         0\n",
            "\n",
            "                     accuracy                           0.08     11819\n",
            "                    macro avg       0.19      0.04      0.06     11819\n",
            "                 weighted avg       0.78      0.08      0.14     11819\n",
            "\n",
            "Confusion Matrix: \n",
            " [[   0    0    0    0    0    0    0    0]\n",
            " [   4    0    0    0    0    0    0  163]\n",
            " [ 441    0    0   57   15    0   17 1420]\n",
            " [   0    0    0    0    0    0    0    0]\n",
            " [ 758    1    0   87  806    6   85 7425]\n",
            " [   0    0    0    0    0    0    0    0]\n",
            " [  16    0    0    0    0   13  107  398]\n",
            " [   0    0    0    0    0    0    0    0]]\n"
          ]
        },
        {
          "name": "stderr",
          "output_type": "stream",
          "text": [
            "e:\\Python\\Lib\\site-packages\\sklearn\\metrics\\_classification.py:1344: UndefinedMetricWarning: Precision and F-score are ill-defined and being set to 0.0 in labels with no predicted samples. Use `zero_division` parameter to control this behavior.\n",
            "  _warn_prf(average, modifier, msg_start, len(result))\n",
            "e:\\Python\\Lib\\site-packages\\sklearn\\metrics\\_classification.py:1344: UndefinedMetricWarning: Recall and F-score are ill-defined and being set to 0.0 in labels with no true samples. Use `zero_division` parameter to control this behavior.\n",
            "  _warn_prf(average, modifier, msg_start, len(result))\n"
          ]
        }
      ],
      "source": [
        "y_predict = mnb.predict(transfer_feature)\n",
        "print(classification_report(y_transfer,y_predict))\n",
        "print('Confusion Matrix: \\n',confusion_matrix(y_transfer, y_predict))"
      ]
    },
    {
      "cell_type": "code",
      "execution_count": 18,
      "metadata": {
        "colab": {
          "base_uri": "https://localhost:8080/"
        },
        "id": "RyNWhw7nw2f8",
        "outputId": "bc8c1266-4257-4c37-d99e-14a39d468cc1"
      },
      "outputs": [
        {
          "name": "stdout",
          "output_type": "stream",
          "text": [
            "0.08528640324900584\n"
          ]
        }
      ],
      "source": [
        "print(rf.score(transfer_feature, y_transfer))"
      ]
    },
    {
      "attachments": {},
      "cell_type": "markdown",
      "metadata": {
        "id": "052NRtWIsmvV"
      },
      "source": [
        "## 126 bị nhầm nhiều với 242, 194 bị nhầm nhiều với 310, 34 bị nhầm nhiều với 194"
      ]
    },
    {
      "cell_type": "code",
      "execution_count": 19,
      "metadata": {
        "colab": {
          "base_uri": "https://localhost:8080/"
        },
        "id": "CrO5ePkgrSnV",
        "outputId": "66716683-0e5f-470a-ae11-9ac0bbdb9e89"
      },
      "outputs": [
        {
          "name": "stderr",
          "output_type": "stream",
          "text": [
            "e:\\Python\\Lib\\site-packages\\sklearn\\metrics\\_classification.py:1344: UndefinedMetricWarning: Precision and F-score are ill-defined and being set to 0.0 in labels with no predicted samples. Use `zero_division` parameter to control this behavior.\n",
            "  _warn_prf(average, modifier, msg_start, len(result))\n",
            "e:\\Python\\Lib\\site-packages\\sklearn\\metrics\\_classification.py:1344: UndefinedMetricWarning: Recall and F-score are ill-defined and being set to 0.0 in labels with no true samples. Use `zero_division` parameter to control this behavior.\n",
            "  _warn_prf(average, modifier, msg_start, len(result))\n",
            "e:\\Python\\Lib\\site-packages\\sklearn\\metrics\\_classification.py:1344: UndefinedMetricWarning: Precision and F-score are ill-defined and being set to 0.0 in labels with no predicted samples. Use `zero_division` parameter to control this behavior.\n",
            "  _warn_prf(average, modifier, msg_start, len(result))\n",
            "e:\\Python\\Lib\\site-packages\\sklearn\\metrics\\_classification.py:1344: UndefinedMetricWarning: Recall and F-score are ill-defined and being set to 0.0 in labels with no true samples. Use `zero_division` parameter to control this behavior.\n",
            "  _warn_prf(average, modifier, msg_start, len(result))\n",
            "e:\\Python\\Lib\\site-packages\\sklearn\\metrics\\_classification.py:1344: UndefinedMetricWarning: Precision and F-score are ill-defined and being set to 0.0 in labels with no predicted samples. Use `zero_division` parameter to control this behavior.\n",
            "  _warn_prf(average, modifier, msg_start, len(result))\n",
            "e:\\Python\\Lib\\site-packages\\sklearn\\metrics\\_classification.py:1344: UndefinedMetricWarning: Recall and F-score are ill-defined and being set to 0.0 in labels with no true samples. Use `zero_division` parameter to control this behavior.\n",
            "  _warn_prf(average, modifier, msg_start, len(result))\n"
          ]
        },
        {
          "name": "stdout",
          "output_type": "stream",
          "text": [
            "                                        precision    recall  f1-score   support\n",
            "\n",
            "                          000 - Normal       0.00      0.00      0.00         0\n",
            "                  126 - Path Traversal       0.00      0.00      0.00       167\n",
            "         153 - Input Data Manipulation       0.00      0.00      0.00      1950\n",
            "         194 - Fake the Source of Data       0.00      0.00      0.00         0\n",
            "                  242 - Code Injection       0.98      0.09      0.16      9168\n",
            "           272 - Protocol Manipulation       0.00      0.00      0.00         0\n",
            "310 - Scanning for Vulnerable Software       0.00      0.00      0.00         0\n",
            "          34 - HTTP Response Splitting       0.85      0.38      0.53       534\n",
            "                    66 - SQL Injection       0.00      0.00      0.00         0\n",
            "\n",
            "                              accuracy                           0.09     11819\n",
            "                             macro avg       0.20      0.05      0.08     11819\n",
            "                          weighted avg       0.80      0.09      0.15     11819\n",
            "\n",
            "Confusion Matrix: \n",
            " [[   0    0    0    0    0    0    0    0    0]\n",
            " [   0    0    0    9    0    0   49    0  109]\n",
            " [ 349   40    0   68   15   12 1135    6  325]\n",
            " [   0    0    0    0    0    0    0    0    0]\n",
            " [2630   46    0  299  803   17  777   29 4567]\n",
            " [   0    0    0    0    0    0    0    0    0]\n",
            " [   0    0    0    0    0    0    0    0    0]\n",
            " [  48    4    0   16    0    8  236  205   17]\n",
            " [   0    0    0    0    0    0    0    0    0]]\n"
          ]
        }
      ],
      "source": [
        "y_predict = rf.predict(transfer_feature)\n",
        "print(classification_report(y_transfer,y_predict))\n",
        "print('Confusion Matrix: \\n',confusion_matrix(y_transfer, y_predict))"
      ]
    },
    {
      "attachments": {},
      "cell_type": "markdown",
      "metadata": {
        "id": "y-WXfnCc3D-o"
      },
      "source": [
        "## Deep Neural Nets"
      ]
    },
    {
      "cell_type": "code",
      "execution_count": 20,
      "metadata": {
        "id": "Gm706LAPtolX"
      },
      "outputs": [],
      "source": [
        "import pandas as pd\n",
        "import numpy as np\n",
        "import string\n",
        "from nltk.corpus import stopwords\n",
        "from nltk.tokenize import word_tokenize\n",
        "from gensim.models import Word2Vec\n",
        "from tensorflow.keras.preprocessing.text import Tokenizer\n",
        "from tensorflow.keras.preprocessing.sequence import pad_sequences\n",
        "from tensorflow.keras.layers import Embedding, Conv1D, MaxPooling1D, Flatten, Dense\n",
        "from tensorflow.keras.models import Sequential\n",
        "from sklearn.model_selection import train_test_split"
      ]
    },
    {
      "cell_type": "code",
      "execution_count": 21,
      "metadata": {
        "id": "PlV1RCm4KvwS"
      },
      "outputs": [],
      "source": [
        "import tensorflow as tf"
      ]
    },
    {
      "cell_type": "code",
      "execution_count": 22,
      "metadata": {
        "id": "bnAToqWDNLcj"
      },
      "outputs": [],
      "source": [
        "## Reduce data for testing\n",
        "df_242 = df_train[(df_train['label'] == '242 - Code Injection')]\n",
        "df_242 = df_242.sample(frac = 1)\n",
        "df_242 = df_242[:50000]\n",
        "df_000 = df_train[(df_train['label'] == '000 - Normal')]\n",
        "df_000 = df_000.sample(frac = 1)\n",
        "df_000 = df_000[:50000]"
      ]
    },
    {
      "cell_type": "code",
      "execution_count": 23,
      "metadata": {
        "id": "7fjOfaHsN9VK"
      },
      "outputs": [],
      "source": [
        "df_sub = df_train[(df_train['label'] != '000 - Normal') & (df_train['label'] != '242 - Code Injection')]"
      ]
    },
    {
      "cell_type": "code",
      "execution_count": 24,
      "metadata": {
        "id": "trPbTlI8OrNM"
      },
      "outputs": [],
      "source": [
        "df_train = pd.concat([df_train,df_242,df_000], ignore_index=True)"
      ]
    },
    {
      "cell_type": "code",
      "execution_count": 25,
      "metadata": {
        "colab": {
          "base_uri": "https://localhost:8080/"
        },
        "id": "i6mkVRdOMasy",
        "outputId": "bb09bc5b-53ae-4ab1-e778-70e0aff3fa4d"
      },
      "outputs": [
        {
          "data": {
            "text/plain": [
              "{'000 - Normal': 0,\n",
              " '126 - Path Traversal': 1,\n",
              " '66 - SQL Injection': 2,\n",
              " '272 - Protocol Manipulation': 3,\n",
              " '310 - Scanning for Vulnerable Software': 4,\n",
              " '242 - Code Injection': 5,\n",
              " '153 - Input Data Manipulation': 6,\n",
              " '194 - Fake the Source of Data': 7,\n",
              " '34 - HTTP Response Splitting': 8}"
            ]
          },
          "execution_count": 25,
          "metadata": {},
          "output_type": "execute_result"
        }
      ],
      "source": [
        "possible_labels = df_train.label.unique()\n",
        "\n",
        "label_dict = {}\n",
        "for index, possible_label in enumerate(possible_labels):\n",
        "    label_dict[possible_label] = index\n",
        "label_dict"
      ]
    },
    {
      "cell_type": "code",
      "execution_count": 26,
      "metadata": {
        "id": "ni15XLCHMfGK"
      },
      "outputs": [],
      "source": [
        "df_train['label_int'] = df_train.label.replace(label_dict)"
      ]
    },
    {
      "cell_type": "code",
      "execution_count": 33,
      "metadata": {
        "colab": {
          "base_uri": "https://localhost:8080/"
        },
        "id": "zJIUr2z1KZbi",
        "outputId": "bd3c54c7-614f-42a5-c832-700f5c150ad0"
      },
      "outputs": [],
      "source": [
        "x_train, x_test, y_train, y_test = train_test_split(df_train[\"text\"],\n",
        "                                                  df_train[\"label_int\"],\n",
        "                                                  test_size=0.2,\n",
        "                                                  shuffle=True)\n",
        "\n",
        "w2v = Word2Vec([sentence.lower().split() for sentence in x_train.values])\n",
        "\n",
        "maxlen = 100\n",
        "tokenizer = Tokenizer(num_words=10000, oov_token='<OOV>')\n",
        "tokenizer.fit_on_texts(x_train)\n",
        "\n",
        "word_index = tokenizer.word_index\n",
        "vocab_size = len(word_index) + 1\n",
        "\n",
        "x_train_sequences = tokenizer.texts_to_sequences(x_train)\n",
        "x_test_sequences = tokenizer.texts_to_sequences(x_test)\n",
        "\n",
        "x_train = pad_sequences(x_train_sequences, \n",
        "                                maxlen=100,\n",
        "                                padding='post',\n",
        "                                truncating='post')\n",
        "\n",
        "x_test = pad_sequences(x_test_sequences,\n",
        "                             maxlen=100,\n",
        "                             padding='post',\n",
        "                             truncating='post')\n",
        "\n",
        "embedding_matrix = np.zeros((len(word_index)+1, 100))\n",
        "for word,i in word_index.items():\n",
        "    try:\n",
        "        embedding_matrix[i] = w2v.wv[i]\n",
        "    except:\n",
        "        embedding_matrix[i] = np.zeros(100)\n",
        "\n",
        "model = tf.keras.Sequential([\n",
        "    tf.keras.layers.Embedding(vocab_size, 100, input_length=100,\n",
        "        weights=[embedding_matrix]),\n",
        "    tf.keras.layers.LSTM(128),\n",
        "    tf.keras.layers.Dense(128, activation='relu'),\n",
        "    tf.keras.layers.Dense(7, activation='softmax')\n",
        "])\n",
        "\n",
        "model.compile(optimizer='adam', metrics=['acc'], \n",
        "        loss='sparse_categorical_crossentropy')\n",
        "model.fit(x_train, y_train, validation_data=(x_test, y_test), epochs=2)"
      ]
    },
    {
      "cell_type": "code",
      "execution_count": 35,
      "metadata": {},
      "outputs": [
        {
          "name": "stdout",
          "output_type": "stream",
          "text": [
            "Epoch 1/2\n"
          ]
        },
        {
          "ename": "InvalidArgumentError",
          "evalue": "Graph execution error:\n\nDetected at node sparse_categorical_crossentropy/SparseSoftmaxCrossEntropyWithLogits/SparseSoftmaxCrossEntropyWithLogits defined at (most recent call last):\n  File \"<frozen runpy>\", line 198, in _run_module_as_main\n\n  File \"<frozen runpy>\", line 88, in _run_code\n\n  File \"C:\\Users\\ngngo\\AppData\\Roaming\\Python\\Python311\\site-packages\\ipykernel_launcher.py\", line 17, in <module>\n\n  File \"C:\\Users\\ngngo\\AppData\\Roaming\\Python\\Python311\\site-packages\\traitlets\\config\\application.py\", line 1043, in launch_instance\n\n  File \"C:\\Users\\ngngo\\AppData\\Roaming\\Python\\Python311\\site-packages\\ipykernel\\kernelapp.py\", line 725, in start\n\n  File \"C:\\Users\\ngngo\\AppData\\Roaming\\Python\\Python311\\site-packages\\tornado\\platform\\asyncio.py\", line 195, in start\n\n  File \"e:\\Python\\Lib\\asyncio\\base_events.py\", line 607, in run_forever\n\n  File \"e:\\Python\\Lib\\asyncio\\base_events.py\", line 1922, in _run_once\n\n  File \"e:\\Python\\Lib\\asyncio\\events.py\", line 80, in _run\n\n  File \"C:\\Users\\ngngo\\AppData\\Roaming\\Python\\Python311\\site-packages\\ipykernel\\kernelbase.py\", line 513, in dispatch_queue\n\n  File \"C:\\Users\\ngngo\\AppData\\Roaming\\Python\\Python311\\site-packages\\ipykernel\\kernelbase.py\", line 502, in process_one\n\n  File \"C:\\Users\\ngngo\\AppData\\Roaming\\Python\\Python311\\site-packages\\ipykernel\\kernelbase.py\", line 409, in dispatch_shell\n\n  File \"C:\\Users\\ngngo\\AppData\\Roaming\\Python\\Python311\\site-packages\\ipykernel\\kernelbase.py\", line 729, in execute_request\n\n  File \"C:\\Users\\ngngo\\AppData\\Roaming\\Python\\Python311\\site-packages\\ipykernel\\ipkernel.py\", line 422, in do_execute\n\n  File \"C:\\Users\\ngngo\\AppData\\Roaming\\Python\\Python311\\site-packages\\ipykernel\\zmqshell.py\", line 540, in run_cell\n\n  File \"C:\\Users\\ngngo\\AppData\\Roaming\\Python\\Python311\\site-packages\\IPython\\core\\interactiveshell.py\", line 3009, in run_cell\n\n  File \"C:\\Users\\ngngo\\AppData\\Roaming\\Python\\Python311\\site-packages\\IPython\\core\\interactiveshell.py\", line 3064, in _run_cell\n\n  File \"C:\\Users\\ngngo\\AppData\\Roaming\\Python\\Python311\\site-packages\\IPython\\core\\async_helpers.py\", line 129, in _pseudo_sync_runner\n\n  File \"C:\\Users\\ngngo\\AppData\\Roaming\\Python\\Python311\\site-packages\\IPython\\core\\interactiveshell.py\", line 3269, in run_cell_async\n\n  File \"C:\\Users\\ngngo\\AppData\\Roaming\\Python\\Python311\\site-packages\\IPython\\core\\interactiveshell.py\", line 3448, in run_ast_nodes\n\n  File \"C:\\Users\\ngngo\\AppData\\Roaming\\Python\\Python311\\site-packages\\IPython\\core\\interactiveshell.py\", line 3508, in run_code\n\n  File \"C:\\Users\\ngngo\\AppData\\Local\\Temp\\ipykernel_14936\\2069719752.py\", line 1, in <module>\n\n  File \"e:\\Python\\Lib\\site-packages\\keras\\src\\utils\\traceback_utils.py\", line 65, in error_handler\n\n  File \"e:\\Python\\Lib\\site-packages\\keras\\src\\engine\\training.py\", line 1783, in fit\n\n  File \"e:\\Python\\Lib\\site-packages\\keras\\src\\engine\\training.py\", line 1377, in train_function\n\n  File \"e:\\Python\\Lib\\site-packages\\keras\\src\\engine\\training.py\", line 1360, in step_function\n\n  File \"e:\\Python\\Lib\\site-packages\\keras\\src\\engine\\training.py\", line 1349, in run_step\n\n  File \"e:\\Python\\Lib\\site-packages\\keras\\src\\engine\\training.py\", line 1127, in train_step\n\n  File \"e:\\Python\\Lib\\site-packages\\keras\\src\\engine\\training.py\", line 1185, in compute_loss\n\n  File \"e:\\Python\\Lib\\site-packages\\keras\\src\\engine\\compile_utils.py\", line 277, in __call__\n\n  File \"e:\\Python\\Lib\\site-packages\\keras\\src\\losses.py\", line 143, in __call__\n\n  File \"e:\\Python\\Lib\\site-packages\\keras\\src\\losses.py\", line 270, in call\n\n  File \"e:\\Python\\Lib\\site-packages\\keras\\src\\losses.py\", line 2454, in sparse_categorical_crossentropy\n\n  File \"e:\\Python\\Lib\\site-packages\\keras\\src\\backend.py\", line 5777, in sparse_categorical_crossentropy\n\nReceived a label value of 7 which is outside the valid range of [0, 7).  Label values: 0 2 2 0 0 2 2 0 2 4 2 7 0 2 7 2 2 0 0 0 2 0 7 2 0 2 1 2 2 3 0 2\n\t [[{{node sparse_categorical_crossentropy/SparseSoftmaxCrossEntropyWithLogits/SparseSoftmaxCrossEntropyWithLogits}}]] [Op:__inference_train_function_21374]",
          "output_type": "error",
          "traceback": [
            "\u001b[1;31m---------------------------------------------------------------------------\u001b[0m",
            "\u001b[1;31mInvalidArgumentError\u001b[0m                      Traceback (most recent call last)",
            "Cell \u001b[1;32mIn[35], line 1\u001b[0m\n\u001b[1;32m----> 1\u001b[0m model\u001b[39m.\u001b[39;49mfit(x_train, y_train, validation_data\u001b[39m=\u001b[39;49m(x_test, y_test), epochs\u001b[39m=\u001b[39;49m\u001b[39m2\u001b[39;49m)\n",
            "File \u001b[1;32me:\\Python\\Lib\\site-packages\\keras\\src\\utils\\traceback_utils.py:70\u001b[0m, in \u001b[0;36mfilter_traceback.<locals>.error_handler\u001b[1;34m(*args, **kwargs)\u001b[0m\n\u001b[0;32m     67\u001b[0m     filtered_tb \u001b[39m=\u001b[39m _process_traceback_frames(e\u001b[39m.\u001b[39m__traceback__)\n\u001b[0;32m     68\u001b[0m     \u001b[39m# To get the full stack trace, call:\u001b[39;00m\n\u001b[0;32m     69\u001b[0m     \u001b[39m# `tf.debugging.disable_traceback_filtering()`\u001b[39;00m\n\u001b[1;32m---> 70\u001b[0m     \u001b[39mraise\u001b[39;00m e\u001b[39m.\u001b[39mwith_traceback(filtered_tb) \u001b[39mfrom\u001b[39;00m \u001b[39mNone\u001b[39;00m\n\u001b[0;32m     71\u001b[0m \u001b[39mfinally\u001b[39;00m:\n\u001b[0;32m     72\u001b[0m     \u001b[39mdel\u001b[39;00m filtered_tb\n",
            "File \u001b[1;32me:\\Python\\Lib\\site-packages\\tensorflow\\python\\eager\\execute.py:60\u001b[0m, in \u001b[0;36mquick_execute\u001b[1;34m(op_name, num_outputs, inputs, attrs, ctx, name)\u001b[0m\n\u001b[0;32m     53\u001b[0m   \u001b[39m# Convert any objects of type core_types.Tensor to Tensor.\u001b[39;00m\n\u001b[0;32m     54\u001b[0m   inputs \u001b[39m=\u001b[39m [\n\u001b[0;32m     55\u001b[0m       tensor_conversion_registry\u001b[39m.\u001b[39mconvert(t)\n\u001b[0;32m     56\u001b[0m       \u001b[39mif\u001b[39;00m \u001b[39misinstance\u001b[39m(t, core_types\u001b[39m.\u001b[39mTensor)\n\u001b[0;32m     57\u001b[0m       \u001b[39melse\u001b[39;00m t\n\u001b[0;32m     58\u001b[0m       \u001b[39mfor\u001b[39;00m t \u001b[39min\u001b[39;00m inputs\n\u001b[0;32m     59\u001b[0m   ]\n\u001b[1;32m---> 60\u001b[0m   tensors \u001b[39m=\u001b[39m pywrap_tfe\u001b[39m.\u001b[39mTFE_Py_Execute(ctx\u001b[39m.\u001b[39m_handle, device_name, op_name,\n\u001b[0;32m     61\u001b[0m                                       inputs, attrs, num_outputs)\n\u001b[0;32m     62\u001b[0m \u001b[39mexcept\u001b[39;00m core\u001b[39m.\u001b[39m_NotOkStatusException \u001b[39mas\u001b[39;00m e:\n\u001b[0;32m     63\u001b[0m   \u001b[39mif\u001b[39;00m name \u001b[39mis\u001b[39;00m \u001b[39mnot\u001b[39;00m \u001b[39mNone\u001b[39;00m:\n",
            "\u001b[1;31mInvalidArgumentError\u001b[0m: Graph execution error:\n\nDetected at node sparse_categorical_crossentropy/SparseSoftmaxCrossEntropyWithLogits/SparseSoftmaxCrossEntropyWithLogits defined at (most recent call last):\n  File \"<frozen runpy>\", line 198, in _run_module_as_main\n\n  File \"<frozen runpy>\", line 88, in _run_code\n\n  File \"C:\\Users\\ngngo\\AppData\\Roaming\\Python\\Python311\\site-packages\\ipykernel_launcher.py\", line 17, in <module>\n\n  File \"C:\\Users\\ngngo\\AppData\\Roaming\\Python\\Python311\\site-packages\\traitlets\\config\\application.py\", line 1043, in launch_instance\n\n  File \"C:\\Users\\ngngo\\AppData\\Roaming\\Python\\Python311\\site-packages\\ipykernel\\kernelapp.py\", line 725, in start\n\n  File \"C:\\Users\\ngngo\\AppData\\Roaming\\Python\\Python311\\site-packages\\tornado\\platform\\asyncio.py\", line 195, in start\n\n  File \"e:\\Python\\Lib\\asyncio\\base_events.py\", line 607, in run_forever\n\n  File \"e:\\Python\\Lib\\asyncio\\base_events.py\", line 1922, in _run_once\n\n  File \"e:\\Python\\Lib\\asyncio\\events.py\", line 80, in _run\n\n  File \"C:\\Users\\ngngo\\AppData\\Roaming\\Python\\Python311\\site-packages\\ipykernel\\kernelbase.py\", line 513, in dispatch_queue\n\n  File \"C:\\Users\\ngngo\\AppData\\Roaming\\Python\\Python311\\site-packages\\ipykernel\\kernelbase.py\", line 502, in process_one\n\n  File \"C:\\Users\\ngngo\\AppData\\Roaming\\Python\\Python311\\site-packages\\ipykernel\\kernelbase.py\", line 409, in dispatch_shell\n\n  File \"C:\\Users\\ngngo\\AppData\\Roaming\\Python\\Python311\\site-packages\\ipykernel\\kernelbase.py\", line 729, in execute_request\n\n  File \"C:\\Users\\ngngo\\AppData\\Roaming\\Python\\Python311\\site-packages\\ipykernel\\ipkernel.py\", line 422, in do_execute\n\n  File \"C:\\Users\\ngngo\\AppData\\Roaming\\Python\\Python311\\site-packages\\ipykernel\\zmqshell.py\", line 540, in run_cell\n\n  File \"C:\\Users\\ngngo\\AppData\\Roaming\\Python\\Python311\\site-packages\\IPython\\core\\interactiveshell.py\", line 3009, in run_cell\n\n  File \"C:\\Users\\ngngo\\AppData\\Roaming\\Python\\Python311\\site-packages\\IPython\\core\\interactiveshell.py\", line 3064, in _run_cell\n\n  File \"C:\\Users\\ngngo\\AppData\\Roaming\\Python\\Python311\\site-packages\\IPython\\core\\async_helpers.py\", line 129, in _pseudo_sync_runner\n\n  File \"C:\\Users\\ngngo\\AppData\\Roaming\\Python\\Python311\\site-packages\\IPython\\core\\interactiveshell.py\", line 3269, in run_cell_async\n\n  File \"C:\\Users\\ngngo\\AppData\\Roaming\\Python\\Python311\\site-packages\\IPython\\core\\interactiveshell.py\", line 3448, in run_ast_nodes\n\n  File \"C:\\Users\\ngngo\\AppData\\Roaming\\Python\\Python311\\site-packages\\IPython\\core\\interactiveshell.py\", line 3508, in run_code\n\n  File \"C:\\Users\\ngngo\\AppData\\Local\\Temp\\ipykernel_14936\\2069719752.py\", line 1, in <module>\n\n  File \"e:\\Python\\Lib\\site-packages\\keras\\src\\utils\\traceback_utils.py\", line 65, in error_handler\n\n  File \"e:\\Python\\Lib\\site-packages\\keras\\src\\engine\\training.py\", line 1783, in fit\n\n  File \"e:\\Python\\Lib\\site-packages\\keras\\src\\engine\\training.py\", line 1377, in train_function\n\n  File \"e:\\Python\\Lib\\site-packages\\keras\\src\\engine\\training.py\", line 1360, in step_function\n\n  File \"e:\\Python\\Lib\\site-packages\\keras\\src\\engine\\training.py\", line 1349, in run_step\n\n  File \"e:\\Python\\Lib\\site-packages\\keras\\src\\engine\\training.py\", line 1127, in train_step\n\n  File \"e:\\Python\\Lib\\site-packages\\keras\\src\\engine\\training.py\", line 1185, in compute_loss\n\n  File \"e:\\Python\\Lib\\site-packages\\keras\\src\\engine\\compile_utils.py\", line 277, in __call__\n\n  File \"e:\\Python\\Lib\\site-packages\\keras\\src\\losses.py\", line 143, in __call__\n\n  File \"e:\\Python\\Lib\\site-packages\\keras\\src\\losses.py\", line 270, in call\n\n  File \"e:\\Python\\Lib\\site-packages\\keras\\src\\losses.py\", line 2454, in sparse_categorical_crossentropy\n\n  File \"e:\\Python\\Lib\\site-packages\\keras\\src\\backend.py\", line 5777, in sparse_categorical_crossentropy\n\nReceived a label value of 7 which is outside the valid range of [0, 7).  Label values: 0 2 2 0 0 2 2 0 2 4 2 7 0 2 7 2 2 0 0 0 2 0 7 2 0 2 1 2 2 3 0 2\n\t [[{{node sparse_categorical_crossentropy/SparseSoftmaxCrossEntropyWithLogits/SparseSoftmaxCrossEntropyWithLogits}}]] [Op:__inference_train_function_21374]"
          ]
        }
      ],
      "source": [
        "model.fit(x_train, y_train, validation_data=(x_test, y_test), epochs=2)"
      ]
    },
    {
      "cell_type": "code",
      "execution_count": 36,
      "metadata": {
        "colab": {
          "base_uri": "https://localhost:8080/"
        },
        "id": "LqSsHRVVRnws",
        "outputId": "65d3f289-31cb-42b8-e56a-95a8f71a93fd"
      },
      "outputs": [
        {
          "ename": "InvalidArgumentError",
          "evalue": "Graph execution error:\n\nDetected at node sparse_categorical_crossentropy/SparseSoftmaxCrossEntropyWithLogits/SparseSoftmaxCrossEntropyWithLogits defined at (most recent call last):\n  File \"<frozen runpy>\", line 198, in _run_module_as_main\n\n  File \"<frozen runpy>\", line 88, in _run_code\n\n  File \"C:\\Users\\ngngo\\AppData\\Roaming\\Python\\Python311\\site-packages\\ipykernel_launcher.py\", line 17, in <module>\n\n  File \"C:\\Users\\ngngo\\AppData\\Roaming\\Python\\Python311\\site-packages\\traitlets\\config\\application.py\", line 1043, in launch_instance\n\n  File \"C:\\Users\\ngngo\\AppData\\Roaming\\Python\\Python311\\site-packages\\ipykernel\\kernelapp.py\", line 725, in start\n\n  File \"C:\\Users\\ngngo\\AppData\\Roaming\\Python\\Python311\\site-packages\\tornado\\platform\\asyncio.py\", line 195, in start\n\n  File \"e:\\Python\\Lib\\asyncio\\base_events.py\", line 607, in run_forever\n\n  File \"e:\\Python\\Lib\\asyncio\\base_events.py\", line 1922, in _run_once\n\n  File \"e:\\Python\\Lib\\asyncio\\events.py\", line 80, in _run\n\n  File \"C:\\Users\\ngngo\\AppData\\Roaming\\Python\\Python311\\site-packages\\ipykernel\\kernelbase.py\", line 513, in dispatch_queue\n\n  File \"C:\\Users\\ngngo\\AppData\\Roaming\\Python\\Python311\\site-packages\\ipykernel\\kernelbase.py\", line 502, in process_one\n\n  File \"C:\\Users\\ngngo\\AppData\\Roaming\\Python\\Python311\\site-packages\\ipykernel\\kernelbase.py\", line 409, in dispatch_shell\n\n  File \"C:\\Users\\ngngo\\AppData\\Roaming\\Python\\Python311\\site-packages\\ipykernel\\kernelbase.py\", line 729, in execute_request\n\n  File \"C:\\Users\\ngngo\\AppData\\Roaming\\Python\\Python311\\site-packages\\ipykernel\\ipkernel.py\", line 422, in do_execute\n\n  File \"C:\\Users\\ngngo\\AppData\\Roaming\\Python\\Python311\\site-packages\\ipykernel\\zmqshell.py\", line 540, in run_cell\n\n  File \"C:\\Users\\ngngo\\AppData\\Roaming\\Python\\Python311\\site-packages\\IPython\\core\\interactiveshell.py\", line 3009, in run_cell\n\n  File \"C:\\Users\\ngngo\\AppData\\Roaming\\Python\\Python311\\site-packages\\IPython\\core\\interactiveshell.py\", line 3064, in _run_cell\n\n  File \"C:\\Users\\ngngo\\AppData\\Roaming\\Python\\Python311\\site-packages\\IPython\\core\\async_helpers.py\", line 129, in _pseudo_sync_runner\n\n  File \"C:\\Users\\ngngo\\AppData\\Roaming\\Python\\Python311\\site-packages\\IPython\\core\\interactiveshell.py\", line 3269, in run_cell_async\n\n  File \"C:\\Users\\ngngo\\AppData\\Roaming\\Python\\Python311\\site-packages\\IPython\\core\\interactiveshell.py\", line 3448, in run_ast_nodes\n\n  File \"C:\\Users\\ngngo\\AppData\\Roaming\\Python\\Python311\\site-packages\\IPython\\core\\interactiveshell.py\", line 3508, in run_code\n\n  File \"C:\\Users\\ngngo\\AppData\\Local\\Temp\\ipykernel_14936\\2300355267.py\", line 1, in <module>\n\n  File \"e:\\Python\\Lib\\site-packages\\keras\\src\\utils\\traceback_utils.py\", line 65, in error_handler\n\n  File \"e:\\Python\\Lib\\site-packages\\keras\\src\\engine\\training.py\", line 2272, in evaluate\n\n  File \"e:\\Python\\Lib\\site-packages\\keras\\src\\engine\\training.py\", line 4079, in run_step\n\n  File \"e:\\Python\\Lib\\site-packages\\keras\\src\\engine\\training.py\", line 2042, in test_function\n\n  File \"e:\\Python\\Lib\\site-packages\\keras\\src\\engine\\training.py\", line 2025, in step_function\n\n  File \"e:\\Python\\Lib\\site-packages\\keras\\src\\engine\\training.py\", line 2013, in run_step\n\n  File \"e:\\Python\\Lib\\site-packages\\keras\\src\\engine\\training.py\", line 1895, in test_step\n\n  File \"e:\\Python\\Lib\\site-packages\\keras\\src\\engine\\training.py\", line 1185, in compute_loss\n\n  File \"e:\\Python\\Lib\\site-packages\\keras\\src\\engine\\compile_utils.py\", line 277, in __call__\n\n  File \"e:\\Python\\Lib\\site-packages\\keras\\src\\losses.py\", line 143, in __call__\n\n  File \"e:\\Python\\Lib\\site-packages\\keras\\src\\losses.py\", line 270, in call\n\n  File \"e:\\Python\\Lib\\site-packages\\keras\\src\\losses.py\", line 2454, in sparse_categorical_crossentropy\n\n  File \"e:\\Python\\Lib\\site-packages\\keras\\src\\backend.py\", line 5777, in sparse_categorical_crossentropy\n\nReceived a label value of 8 which is outside the valid range of [0, 7).  Label values: 0 2 2 0 0 5 7 2 5 0 2 0 2 2 0 7 7 0 0 2 2 0 2 1 0 5 0 0 2 0 2 8 2 7 2 0 0 0 7 1 2 5 2 2 0 0 2 0 0 2 0 0 2 7 0 2 5 0 0 0 2 2 7 2 0 8 2 2 1 7 7 2 3 0 0 0 0 0 7 0 2 0 2 2 7 0 0 0 0 0 2 0 7 2 0 0 0 2 0 2 0 0 0 2 0 5 0 0 2 2 0 2 0 2 2 2 1 0 2 8 2 2 0 0 2 0 0 7\n\t [[{{node sparse_categorical_crossentropy/SparseSoftmaxCrossEntropyWithLogits/SparseSoftmaxCrossEntropyWithLogits}}]] [Op:__inference_test_function_22043]",
          "output_type": "error",
          "traceback": [
            "\u001b[1;31m---------------------------------------------------------------------------\u001b[0m",
            "\u001b[1;31mInvalidArgumentError\u001b[0m                      Traceback (most recent call last)",
            "Cell \u001b[1;32mIn[36], line 1\u001b[0m\n\u001b[1;32m----> 1\u001b[0m results \u001b[39m=\u001b[39m model\u001b[39m.\u001b[39;49mevaluate(x_test, y_test, batch_size\u001b[39m=\u001b[39;49m\u001b[39m128\u001b[39;49m)\n\u001b[0;32m      2\u001b[0m \u001b[39mprint\u001b[39m(\u001b[39m\"\u001b[39m\u001b[39macc: \u001b[39m\u001b[39m\"\u001b[39m, results[\u001b[39m1\u001b[39m])\n",
            "File \u001b[1;32me:\\Python\\Lib\\site-packages\\keras\\src\\utils\\traceback_utils.py:70\u001b[0m, in \u001b[0;36mfilter_traceback.<locals>.error_handler\u001b[1;34m(*args, **kwargs)\u001b[0m\n\u001b[0;32m     67\u001b[0m     filtered_tb \u001b[39m=\u001b[39m _process_traceback_frames(e\u001b[39m.\u001b[39m__traceback__)\n\u001b[0;32m     68\u001b[0m     \u001b[39m# To get the full stack trace, call:\u001b[39;00m\n\u001b[0;32m     69\u001b[0m     \u001b[39m# `tf.debugging.disable_traceback_filtering()`\u001b[39;00m\n\u001b[1;32m---> 70\u001b[0m     \u001b[39mraise\u001b[39;00m e\u001b[39m.\u001b[39mwith_traceback(filtered_tb) \u001b[39mfrom\u001b[39;00m \u001b[39mNone\u001b[39;00m\n\u001b[0;32m     71\u001b[0m \u001b[39mfinally\u001b[39;00m:\n\u001b[0;32m     72\u001b[0m     \u001b[39mdel\u001b[39;00m filtered_tb\n",
            "File \u001b[1;32me:\\Python\\Lib\\site-packages\\tensorflow\\python\\eager\\execute.py:60\u001b[0m, in \u001b[0;36mquick_execute\u001b[1;34m(op_name, num_outputs, inputs, attrs, ctx, name)\u001b[0m\n\u001b[0;32m     53\u001b[0m   \u001b[39m# Convert any objects of type core_types.Tensor to Tensor.\u001b[39;00m\n\u001b[0;32m     54\u001b[0m   inputs \u001b[39m=\u001b[39m [\n\u001b[0;32m     55\u001b[0m       tensor_conversion_registry\u001b[39m.\u001b[39mconvert(t)\n\u001b[0;32m     56\u001b[0m       \u001b[39mif\u001b[39;00m \u001b[39misinstance\u001b[39m(t, core_types\u001b[39m.\u001b[39mTensor)\n\u001b[0;32m     57\u001b[0m       \u001b[39melse\u001b[39;00m t\n\u001b[0;32m     58\u001b[0m       \u001b[39mfor\u001b[39;00m t \u001b[39min\u001b[39;00m inputs\n\u001b[0;32m     59\u001b[0m   ]\n\u001b[1;32m---> 60\u001b[0m   tensors \u001b[39m=\u001b[39m pywrap_tfe\u001b[39m.\u001b[39mTFE_Py_Execute(ctx\u001b[39m.\u001b[39m_handle, device_name, op_name,\n\u001b[0;32m     61\u001b[0m                                       inputs, attrs, num_outputs)\n\u001b[0;32m     62\u001b[0m \u001b[39mexcept\u001b[39;00m core\u001b[39m.\u001b[39m_NotOkStatusException \u001b[39mas\u001b[39;00m e:\n\u001b[0;32m     63\u001b[0m   \u001b[39mif\u001b[39;00m name \u001b[39mis\u001b[39;00m \u001b[39mnot\u001b[39;00m \u001b[39mNone\u001b[39;00m:\n",
            "\u001b[1;31mInvalidArgumentError\u001b[0m: Graph execution error:\n\nDetected at node sparse_categorical_crossentropy/SparseSoftmaxCrossEntropyWithLogits/SparseSoftmaxCrossEntropyWithLogits defined at (most recent call last):\n  File \"<frozen runpy>\", line 198, in _run_module_as_main\n\n  File \"<frozen runpy>\", line 88, in _run_code\n\n  File \"C:\\Users\\ngngo\\AppData\\Roaming\\Python\\Python311\\site-packages\\ipykernel_launcher.py\", line 17, in <module>\n\n  File \"C:\\Users\\ngngo\\AppData\\Roaming\\Python\\Python311\\site-packages\\traitlets\\config\\application.py\", line 1043, in launch_instance\n\n  File \"C:\\Users\\ngngo\\AppData\\Roaming\\Python\\Python311\\site-packages\\ipykernel\\kernelapp.py\", line 725, in start\n\n  File \"C:\\Users\\ngngo\\AppData\\Roaming\\Python\\Python311\\site-packages\\tornado\\platform\\asyncio.py\", line 195, in start\n\n  File \"e:\\Python\\Lib\\asyncio\\base_events.py\", line 607, in run_forever\n\n  File \"e:\\Python\\Lib\\asyncio\\base_events.py\", line 1922, in _run_once\n\n  File \"e:\\Python\\Lib\\asyncio\\events.py\", line 80, in _run\n\n  File \"C:\\Users\\ngngo\\AppData\\Roaming\\Python\\Python311\\site-packages\\ipykernel\\kernelbase.py\", line 513, in dispatch_queue\n\n  File \"C:\\Users\\ngngo\\AppData\\Roaming\\Python\\Python311\\site-packages\\ipykernel\\kernelbase.py\", line 502, in process_one\n\n  File \"C:\\Users\\ngngo\\AppData\\Roaming\\Python\\Python311\\site-packages\\ipykernel\\kernelbase.py\", line 409, in dispatch_shell\n\n  File \"C:\\Users\\ngngo\\AppData\\Roaming\\Python\\Python311\\site-packages\\ipykernel\\kernelbase.py\", line 729, in execute_request\n\n  File \"C:\\Users\\ngngo\\AppData\\Roaming\\Python\\Python311\\site-packages\\ipykernel\\ipkernel.py\", line 422, in do_execute\n\n  File \"C:\\Users\\ngngo\\AppData\\Roaming\\Python\\Python311\\site-packages\\ipykernel\\zmqshell.py\", line 540, in run_cell\n\n  File \"C:\\Users\\ngngo\\AppData\\Roaming\\Python\\Python311\\site-packages\\IPython\\core\\interactiveshell.py\", line 3009, in run_cell\n\n  File \"C:\\Users\\ngngo\\AppData\\Roaming\\Python\\Python311\\site-packages\\IPython\\core\\interactiveshell.py\", line 3064, in _run_cell\n\n  File \"C:\\Users\\ngngo\\AppData\\Roaming\\Python\\Python311\\site-packages\\IPython\\core\\async_helpers.py\", line 129, in _pseudo_sync_runner\n\n  File \"C:\\Users\\ngngo\\AppData\\Roaming\\Python\\Python311\\site-packages\\IPython\\core\\interactiveshell.py\", line 3269, in run_cell_async\n\n  File \"C:\\Users\\ngngo\\AppData\\Roaming\\Python\\Python311\\site-packages\\IPython\\core\\interactiveshell.py\", line 3448, in run_ast_nodes\n\n  File \"C:\\Users\\ngngo\\AppData\\Roaming\\Python\\Python311\\site-packages\\IPython\\core\\interactiveshell.py\", line 3508, in run_code\n\n  File \"C:\\Users\\ngngo\\AppData\\Local\\Temp\\ipykernel_14936\\2300355267.py\", line 1, in <module>\n\n  File \"e:\\Python\\Lib\\site-packages\\keras\\src\\utils\\traceback_utils.py\", line 65, in error_handler\n\n  File \"e:\\Python\\Lib\\site-packages\\keras\\src\\engine\\training.py\", line 2272, in evaluate\n\n  File \"e:\\Python\\Lib\\site-packages\\keras\\src\\engine\\training.py\", line 4079, in run_step\n\n  File \"e:\\Python\\Lib\\site-packages\\keras\\src\\engine\\training.py\", line 2042, in test_function\n\n  File \"e:\\Python\\Lib\\site-packages\\keras\\src\\engine\\training.py\", line 2025, in step_function\n\n  File \"e:\\Python\\Lib\\site-packages\\keras\\src\\engine\\training.py\", line 2013, in run_step\n\n  File \"e:\\Python\\Lib\\site-packages\\keras\\src\\engine\\training.py\", line 1895, in test_step\n\n  File \"e:\\Python\\Lib\\site-packages\\keras\\src\\engine\\training.py\", line 1185, in compute_loss\n\n  File \"e:\\Python\\Lib\\site-packages\\keras\\src\\engine\\compile_utils.py\", line 277, in __call__\n\n  File \"e:\\Python\\Lib\\site-packages\\keras\\src\\losses.py\", line 143, in __call__\n\n  File \"e:\\Python\\Lib\\site-packages\\keras\\src\\losses.py\", line 270, in call\n\n  File \"e:\\Python\\Lib\\site-packages\\keras\\src\\losses.py\", line 2454, in sparse_categorical_crossentropy\n\n  File \"e:\\Python\\Lib\\site-packages\\keras\\src\\backend.py\", line 5777, in sparse_categorical_crossentropy\n\nReceived a label value of 8 which is outside the valid range of [0, 7).  Label values: 0 2 2 0 0 5 7 2 5 0 2 0 2 2 0 7 7 0 0 2 2 0 2 1 0 5 0 0 2 0 2 8 2 7 2 0 0 0 7 1 2 5 2 2 0 0 2 0 0 2 0 0 2 7 0 2 5 0 0 0 2 2 7 2 0 8 2 2 1 7 7 2 3 0 0 0 0 0 7 0 2 0 2 2 7 0 0 0 0 0 2 0 7 2 0 0 0 2 0 2 0 0 0 2 0 5 0 0 2 2 0 2 0 2 2 2 1 0 2 8 2 2 0 0 2 0 0 7\n\t [[{{node sparse_categorical_crossentropy/SparseSoftmaxCrossEntropyWithLogits/SparseSoftmaxCrossEntropyWithLogits}}]] [Op:__inference_test_function_22043]"
          ]
        }
      ],
      "source": [
        "results = model.evaluate(x_test, y_test, batch_size=128)\n",
        "print(\"acc: \", results[1])"
      ]
    },
    {
      "cell_type": "code",
      "execution_count": null,
      "metadata": {
        "id": "y-PnK9YvU0TR"
      },
      "outputs": [],
      "source": [
        "def predict_class(reviews):\n",
        "  '''predict class of input text\n",
        "  Args:\n",
        "    - reviews (list of strings)\n",
        "  Output:\n",
        "    - class (list of int)\n",
        "  '''\n",
        "  return [np.argmax(pred) for pred in model.predict(reviews)]\n",
        "\n"
      ]
    },
    {
      "cell_type": "code",
      "execution_count": null,
      "metadata": {
        "colab": {
          "base_uri": "https://localhost:8080/"
        },
        "id": "IPRXZu8OQWlT",
        "outputId": "f3186f4a-3ac6-4990-fecc-d73c451df49a"
      },
      "outputs": [],
      "source": [
        "from sklearn.metrics import classification_report\n",
        "\n",
        "y_pred = predict_class(x_test)\n",
        "\n",
        "print(classification_report(y_test, y_pred))"
      ]
    },
    {
      "cell_type": "code",
      "execution_count": null,
      "metadata": {
        "id": "hMUuTGGaWl7n"
      },
      "outputs": [],
      "source": [
        "df_transfer['int_label'] = 0"
      ]
    },
    {
      "cell_type": "code",
      "execution_count": null,
      "metadata": {
        "id": "dI8g42onWEmA"
      },
      "outputs": [],
      "source": [
        "w2v = Word2Vec([sentence.lower().split() for sentence in df_transfer['text'].values])\n",
        "\n",
        "maxlen = 100\n",
        "tokenizer = Tokenizer(num_words=10000, oov_token='<OOV>')\n",
        "tokenizer.fit_on_texts(df_transfer['text'])\n",
        "\n",
        "word_index = tokenizer.word_index\n",
        "vocab_size = len(word_index) + 1\n",
        "\n",
        "x_train_sequences = tokenizer.texts_to_sequences(df_transfer['text'])\n",
        "\n",
        "x_transfer = pad_sequences(x_train_sequences, \n",
        "                                maxlen=100,\n",
        "                                padding='post',\n",
        "                                truncating='post')"
      ]
    },
    {
      "cell_type": "code",
      "execution_count": null,
      "metadata": {
        "colab": {
          "base_uri": "https://localhost:8080/"
        },
        "id": "ErsUaNGr4FNl",
        "outputId": "2be40eeb-ef1f-44de-ea6e-e47669064e0e"
      },
      "outputs": [],
      "source": [
        "print(1 - model.evaluate(x_transfer, df_transfer['int_label'], batch_size=128)[1])"
      ]
    },
    {
      "cell_type": "code",
      "execution_count": null,
      "metadata": {
        "id": "jQ9K--s94Fyt"
      },
      "outputs": [],
      "source": []
    },
    {
      "cell_type": "code",
      "execution_count": null,
      "metadata": {
        "id": "2QeyvH5u4F1E"
      },
      "outputs": [],
      "source": []
    },
    {
      "cell_type": "code",
      "execution_count": null,
      "metadata": {
        "id": "T8W6sNXD4F3w"
      },
      "outputs": [],
      "source": []
    },
    {
      "cell_type": "code",
      "execution_count": null,
      "metadata": {
        "id": "AI1fsa9N4F6l"
      },
      "outputs": [],
      "source": []
    }
  ],
  "metadata": {
    "accelerator": "GPU",
    "colab": {
      "provenance": []
    },
    "gpuClass": "standard",
    "kernelspec": {
      "display_name": "Python 3",
      "name": "python3"
    },
    "language_info": {
      "codemirror_mode": {
        "name": "ipython",
        "version": 3
      },
      "file_extension": ".py",
      "mimetype": "text/x-python",
      "name": "python",
      "nbconvert_exporter": "python",
      "pygments_lexer": "ipython3",
      "version": "3.11.3"
    }
  },
  "nbformat": 4,
  "nbformat_minor": 0
}
