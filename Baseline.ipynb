{
  "cells": [
    {
      "cell_type": "code",
      "execution_count": 1,
      "metadata": {
        "colab": {
          "base_uri": "https://localhost:8080/"
        },
        "id": "7ZMgATHzNciv",
        "outputId": "ead3568c-5dce-43f1-f6b7-e7774c194788"
      },
      "outputs": [
        {
          "name": "stderr",
          "output_type": "stream",
          "text": [
            "[nltk_data] Downloading package punkt to\n",
            "[nltk_data]     C:\\Users\\ngngo\\AppData\\Roaming\\nltk_data...\n",
            "[nltk_data]   Package punkt is already up-to-date!\n",
            "[nltk_data] Downloading package averaged_perceptron_tagger to\n",
            "[nltk_data]     C:\\Users\\ngngo\\AppData\\Roaming\\nltk_data...\n",
            "[nltk_data]   Package averaged_perceptron_tagger is already up-to-\n",
            "[nltk_data]       date!\n",
            "[nltk_data] Downloading package wordnet to\n",
            "[nltk_data]     C:\\Users\\ngngo\\AppData\\Roaming\\nltk_data...\n",
            "[nltk_data]   Package wordnet is already up-to-date!\n"
          ]
        }
      ],
      "source": [
        "import pandas as pd\n",
        "import numpy as np\n",
        "\n",
        "import seaborn as sns\n",
        "import matplotlib.pyplot as plt\n",
        "\n",
        "#for text pre-processing\n",
        "import re, string\n",
        "import nltk\n",
        "from nltk.tokenize import word_tokenize\n",
        "from nltk.corpus import stopwords\n",
        "from nltk.tokenize import word_tokenize\n",
        "from nltk.stem import SnowballStemmer\n",
        "from nltk.corpus import wordnet\n",
        "from nltk.stem import WordNetLemmatizer\n",
        "\n",
        "nltk.download('punkt')\n",
        "nltk.download('averaged_perceptron_tagger')\n",
        "nltk.download('wordnet')\n",
        "\n",
        "#for model-building\n",
        "from sklearn.model_selection import train_test_split\n",
        "from sklearn.linear_model import LogisticRegression\n",
        "from sklearn.linear_model import SGDClassifier\n",
        "from sklearn.naive_bayes import MultinomialNB\n",
        "from sklearn.metrics import classification_report, f1_score, accuracy_score, confusion_matrix\n",
        "from sklearn.metrics import roc_curve, auc, roc_auc_score\n",
        "\n",
        "# bag of words\n",
        "from sklearn.feature_extraction.text import TfidfVectorizer\n",
        "from sklearn.feature_extraction.text import CountVectorizer\n",
        "\n",
        "#for word embedding\n",
        "import gensim\n",
        "from gensim.models import Word2Vec #Word2Vec is mostly used for huge datasets"
      ]
    },
    {
      "cell_type": "code",
      "execution_count": 2,
      "metadata": {
        "colab": {
          "base_uri": "https://localhost:8080/"
        },
        "id": "IFvBmI3aN0n0",
        "outputId": "2f38847d-0254-48a0-b478-d80752690b3f"
      },
      "outputs": [],
      "source": [
        "# from google.colab import drive\n",
        "# drive.mount('/content/drive')"
      ]
    },
    {
      "cell_type": "code",
      "execution_count": 3,
      "metadata": {
        "colab": {
          "base_uri": "https://localhost:8080/"
        },
        "id": "9vdlUa3GN0rM",
        "outputId": "081746e2-28f8-4171-9adf-986745746b44"
      },
      "outputs": [
        {
          "name": "stdout",
          "output_type": "stream",
          "text": [
            "[WinError 3] The system cannot find the path specified: '/content/drive/MyDrive/Code_Injection_Dataset'\n",
            "e:\\Work_DatPT\\Study\\Master\\SecBERT\n"
          ]
        }
      ],
      "source": [
        "%cd /content/drive/MyDrive/Code_Injection_Dataset"
      ]
    },
    {
      "cell_type": "code",
      "execution_count": 4,
      "metadata": {
        "colab": {
          "base_uri": "https://localhost:8080/",
          "height": 206
        },
        "id": "vRCaqhhqN0um",
        "outputId": "4e2e902d-3a38-4a7e-9426-900c35b8005b"
      },
      "outputs": [
        {
          "data": {
            "text/html": [
              "<div>\n",
              "<style scoped>\n",
              "    .dataframe tbody tr th:only-of-type {\n",
              "        vertical-align: middle;\n",
              "    }\n",
              "\n",
              "    .dataframe tbody tr th {\n",
              "        vertical-align: top;\n",
              "    }\n",
              "\n",
              "    .dataframe thead th {\n",
              "        text-align: right;\n",
              "    }\n",
              "</style>\n",
              "<table border=\"1\" class=\"dataframe\">\n",
              "  <thead>\n",
              "    <tr style=\"text-align: right;\">\n",
              "      <th></th>\n",
              "      <th>text</th>\n",
              "      <th>label</th>\n",
              "    </tr>\n",
              "  </thead>\n",
              "  <tbody>\n",
              "    <tr>\n",
              "      <th>0</th>\n",
              "      <td>GET /blog/index.php/2020/04/04/voluptatum-repr...</td>\n",
              "      <td>000 - Normal</td>\n",
              "    </tr>\n",
              "    <tr>\n",
              "      <th>1</th>\n",
              "      <td>GET /blog/xmlrpc.php?rsd</td>\n",
              "      <td>000 - Normal</td>\n",
              "    </tr>\n",
              "    <tr>\n",
              "      <th>2</th>\n",
              "      <td>GET /blog/index.php/2020/04/04/nihil-tenetur-e...</td>\n",
              "      <td>000 - Normal</td>\n",
              "    </tr>\n",
              "    <tr>\n",
              "      <th>3</th>\n",
              "      <td>GET /blog/index.php/2020/04/04/explicabo-qui-f...</td>\n",
              "      <td>000 - Normal</td>\n",
              "    </tr>\n",
              "    <tr>\n",
              "      <th>4</th>\n",
              "      <td>GET /blog/index.php/2020/04/04/explicabo-qui-f...</td>\n",
              "      <td>000 - Normal</td>\n",
              "    </tr>\n",
              "  </tbody>\n",
              "</table>\n",
              "</div>"
            ],
            "text/plain": [
              "                                                text         label\n",
              "0  GET /blog/index.php/2020/04/04/voluptatum-repr...  000 - Normal\n",
              "1                           GET /blog/xmlrpc.php?rsd  000 - Normal\n",
              "2  GET /blog/index.php/2020/04/04/nihil-tenetur-e...  000 - Normal\n",
              "3  GET /blog/index.php/2020/04/04/explicabo-qui-f...  000 - Normal\n",
              "4  GET /blog/index.php/2020/04/04/explicabo-qui-f...  000 - Normal"
            ]
          },
          "execution_count": 4,
          "metadata": {},
          "output_type": "execute_result"
        }
      ],
      "source": [
        "data_dir = 'E:\\Work_DatPT\\Study\\Master'\n",
        "df_train = pd.read_csv(data_dir+'\\SecBERT\\dataset_capec.csv')\n",
        "df_train.head()"
      ]
    },
    {
      "cell_type": "code",
      "execution_count": 5,
      "metadata": {
        "colab": {
          "base_uri": "https://localhost:8080/",
          "height": 1000
        },
        "id": "Q3AHD17DN0xb",
        "outputId": "74b7ed06-ba35-4264-b238-4c0b6d8c411d"
      },
      "outputs": [
        {
          "name": "stdout",
          "output_type": "stream",
          "text": [
            "label\n",
            "66 - SQL Injection                        248093\n",
            "000 - Normal                              226509\n",
            "194 - Fake the Source of Data              55982\n",
            "34 - HTTP Response Splitting               19134\n",
            "126 - Path Traversal                       17595\n",
            "242 - Code Injection                       13792\n",
            "272 - Protocol Manipulation                 6924\n",
            "310 - Scanning for Vulnerable Software      2382\n",
            "153 - Input Data Manipulation               1387\n",
            "Name: count, dtype: int64\n"
          ]
        },
        {
          "data": {
            "text/plain": [
              "(array([0, 1, 2, 3, 4, 5, 6, 7, 8]),\n",
              " [Text(0, 0, '66 - SQL Injection'),\n",
              "  Text(1, 0, '000 - Normal'),\n",
              "  Text(2, 0, '194 - Fake the Source of Data'),\n",
              "  Text(3, 0, '34 - HTTP Response Splitting'),\n",
              "  Text(4, 0, '126 - Path Traversal'),\n",
              "  Text(5, 0, '242 - Code Injection'),\n",
              "  Text(6, 0, '272 - Protocol Manipulation'),\n",
              "  Text(7, 0, '310 - Scanning for Vulnerable Software'),\n",
              "  Text(8, 0, '153 - Input Data Manipulation')])"
            ]
          },
          "execution_count": 5,
          "metadata": {},
          "output_type": "execute_result"
        },
        {
          "data": {
            "image/png": "[encoded data removed]",
            "text/plain": [
              "<Figure size 640x480 with 1 Axes>"
            ]
          },
          "metadata": {},
          "output_type": "display_data"
        }
      ],
      "source": [
        "# CLASS DISTRIBUTION\n",
        "#if dataset is balanced or not\n",
        "x=df_train['label'].value_counts()\n",
        "print(x)\n",
        "sns.barplot(x = x.index, y = x)\n",
        "plt.xticks(rotation=90)"
      ]
    },
    {
      "attachments": {},
      "cell_type": "markdown",
      "metadata": {
        "id": "_3U21mu7Fk0B"
      },
      "source": [
        "# Create Feature Extraction Module (BOW and TF-IDF)"
      ]
    },
    {
      "cell_type": "code",
      "execution_count": 6,
      "metadata": {
        "id": "Aq5EwTspULoC"
      },
      "outputs": [],
      "source": [
        "from sklearn.feature_extraction.text import CountVectorizer, TfidfVectorizer\n",
        "import numpy as np\n",
        "import json\n",
        "\n",
        "\n",
        "class Vectorizer:\n",
        "    def __init__(self, method='BOW', ngram_range=(1, 1), max_features=300, emb_fname='', word_index_fname=''):\n",
        "        self.method = method\n",
        "        if self.method == 'BOW':\n",
        "            self.vectorizer = CountVectorizer(analyzer='word', input='content', ngram_range=ngram_range, max_features=max_features)\n",
        "        elif self.method == 'TFIDF':\n",
        "            self.vectorizer = TfidfVectorizer(analyzer='word', input='content', max_features=max_features)\n",
        "        elif self.method == 'Word2Vec':\n",
        "            self.max_features = max_features\n",
        "            self.emb_fname = emb_fname\n",
        "            self.word_index_fname = word_index_fname\n",
        "        else:\n",
        "            raise ValueError('Feature extraction method does not exist.')\n",
        "\n",
        "    def feature_extraction(self, X_train, X_test):\n",
        "        train_data = self.vectorizer.fit_transform(X_train).toarray()\n",
        "        test_data = self.vectorizer.transform(X_test).toarray()\n",
        "        return train_data, test_data\n",
        "\n",
        "    def get_word_index(self):\n",
        "        word2id = json.load(open(self.word_index_fname, 'r'))\n",
        "        return word2id\n",
        "\n",
        "    def get_embedding_matrix(self):\n",
        "        np.random.seed(0)\n",
        "        word2id = self.get_word_index()\n",
        "        embedding_matrix = np.random.uniform(-0.25, 0.25, [len(word2id) + 1, self.max_features])\n",
        "        with open(self.emb_fname, 'r', encoding='utf-8') as f:\n",
        "            for line in f:\n",
        "                content = line.split(' ')\n",
        "                if content[0] in word2id:\n",
        "                    embedding_matrix[word2id[content[0]]] = np.array(list(map(float, content[1:])))\n",
        "        return embedding_matrix"
      ]
    },
    {
      "cell_type": "code",
      "execution_count": 7,
      "metadata": {
        "colab": {
          "base_uri": "https://localhost:8080/",
          "height": 206
        },
        "id": "bGe-PWnU_Lqt",
        "outputId": "1e812fb6-db41-426c-d3c4-671a23c4ea7f"
      },
      "outputs": [
        {
          "data": {
            "text/html": [
              "<div>\n",
              "<style scoped>\n",
              "    .dataframe tbody tr th:only-of-type {\n",
              "        vertical-align: middle;\n",
              "    }\n",
              "\n",
              "    .dataframe tbody tr th {\n",
              "        vertical-align: top;\n",
              "    }\n",
              "\n",
              "    .dataframe thead th {\n",
              "        text-align: right;\n",
              "    }\n",
              "</style>\n",
              "<table border=\"1\" class=\"dataframe\">\n",
              "  <thead>\n",
              "    <tr style=\"text-align: right;\">\n",
              "      <th></th>\n",
              "      <th>text</th>\n",
              "      <th>label</th>\n",
              "    </tr>\n",
              "  </thead>\n",
              "  <tbody>\n",
              "    <tr>\n",
              "      <th>0</th>\n",
              "      <td>GET  blog index.php 2020 04 04 voluptatum-repr...</td>\n",
              "      <td>000 - Normal</td>\n",
              "    </tr>\n",
              "    <tr>\n",
              "      <th>1</th>\n",
              "      <td>GET  blog xmlrpc.php?rsd</td>\n",
              "      <td>000 - Normal</td>\n",
              "    </tr>\n",
              "    <tr>\n",
              "      <th>2</th>\n",
              "      <td>GET  blog index.php 2020 04 04 nihil-tenetur-e...</td>\n",
              "      <td>000 - Normal</td>\n",
              "    </tr>\n",
              "    <tr>\n",
              "      <th>3</th>\n",
              "      <td>GET  blog index.php 2020 04 04 explicabo-qui-f...</td>\n",
              "      <td>000 - Normal</td>\n",
              "    </tr>\n",
              "    <tr>\n",
              "      <th>4</th>\n",
              "      <td>GET  blog index.php 2020 04 04 explicabo-qui-f...</td>\n",
              "      <td>000 - Normal</td>\n",
              "    </tr>\n",
              "  </tbody>\n",
              "</table>\n",
              "</div>"
            ],
            "text/plain": [
              "                                                text         label\n",
              "0  GET  blog index.php 2020 04 04 voluptatum-repr...  000 - Normal\n",
              "1                           GET  blog xmlrpc.php?rsd  000 - Normal\n",
              "2  GET  blog index.php 2020 04 04 nihil-tenetur-e...  000 - Normal\n",
              "3  GET  blog index.php 2020 04 04 explicabo-qui-f...  000 - Normal\n",
              "4  GET  blog index.php 2020 04 04 explicabo-qui-f...  000 - Normal"
            ]
          },
          "execution_count": 7,
          "metadata": {},
          "output_type": "execute_result"
        }
      ],
      "source": [
        "# Optional (not effect very much)\n",
        "df_train['text'] = df_train['text'].str.replace('/',' ')\n",
        "df_train.head()"
      ]
    },
    {
      "attachments": {},
      "cell_type": "markdown",
      "metadata": {
        "id": "54GCGlu5F0N9"
      },
      "source": [
        "# TF-IDF Feature Extraction"
      ]
    },
    {
      "attachments": {},
      "cell_type": "markdown",
      "metadata": {
        "id": "MSrinD3LGDPB"
      },
      "source": [
        "## Naive Bayes Classifier"
      ]
    },
    {
      "cell_type": "code",
      "execution_count": 8,
      "metadata": {
        "colab": {
          "base_uri": "https://localhost:8080/"
        },
        "id": "ZMOBKdJNULtX",
        "outputId": "52c5644d-3a4d-4d13-e742-a4af012c9f91"
      },
      "outputs": [
        {
          "name": "stdout",
          "output_type": "stream",
          "text": [
            "0.868012842176411\n"
          ]
        }
      ],
      "source": [
        "from sklearn.naive_bayes import MultinomialNB\n",
        "X_train, X_val, y_train, y_val = train_test_split(df_train[\"text\"],\n",
        "                                                  df_train[\"label\"],\n",
        "                                                  test_size=0.2,\n",
        "                                                  shuffle=True)\n",
        "vectorizer = Vectorizer('TFIDF')\n",
        "train_features, test_features = vectorizer.feature_extraction(X_train, X_val)\n",
        "mnb = MultinomialNB()\n",
        "mnb.fit(train_features, y_train)\n",
        "print(mnb.score(test_features, y_val))\n",
        "\n",
        "\n"
      ]
    },
    {
      "cell_type": "code",
      "execution_count": 9,
      "metadata": {
        "colab": {
          "base_uri": "https://localhost:8080/"
        },
        "id": "vlawH7IJ1zK4",
        "outputId": "abf364b1-432b-4b80-ea22-2cea99cbecb7"
      },
      "outputs": [
        {
          "name": "stderr",
          "output_type": "stream",
          "text": [
            "e:\\Python\\Lib\\site-packages\\sklearn\\metrics\\_classification.py:1344: UndefinedMetricWarning: Precision and F-score are ill-defined and being set to 0.0 in labels with no predicted samples. Use `zero_division` parameter to control this behavior.\n",
            "  _warn_prf(average, modifier, msg_start, len(result))\n",
            "e:\\Python\\Lib\\site-packages\\sklearn\\metrics\\_classification.py:1344: UndefinedMetricWarning: Precision and F-score are ill-defined and being set to 0.0 in labels with no predicted samples. Use `zero_division` parameter to control this behavior.\n",
            "  _warn_prf(average, modifier, msg_start, len(result))\n",
            "e:\\Python\\Lib\\site-packages\\sklearn\\metrics\\_classification.py:1344: UndefinedMetricWarning: Precision and F-score are ill-defined and being set to 0.0 in labels with no predicted samples. Use `zero_division` parameter to control this behavior.\n",
            "  _warn_prf(average, modifier, msg_start, len(result))\n"
          ]
        },
        {
          "name": "stdout",
          "output_type": "stream",
          "text": [
            "                                        precision    recall  f1-score   support\n",
            "\n",
            "                          000 - Normal       0.81      0.93      0.86     45334\n",
            "                  126 - Path Traversal       0.99      0.78      0.87      3435\n",
            "         153 - Input Data Manipulation       0.11      1.00      0.19       285\n",
            "         194 - Fake the Source of Data       0.98      0.91      0.94     11159\n",
            "                  242 - Code Injection       0.97      0.91      0.94      2812\n",
            "           272 - Protocol Manipulation       0.00      0.00      0.00      1381\n",
            "310 - Scanning for Vulnerable Software       0.91      0.32      0.47       455\n",
            "          34 - HTTP Response Splitting       0.95      0.93      0.94      3792\n",
            "                    66 - SQL Injection       0.94      0.83      0.88     49707\n",
            "\n",
            "                              accuracy                           0.87    118360\n",
            "                             macro avg       0.74      0.73      0.68    118360\n",
            "                          weighted avg       0.88      0.87      0.87    118360\n",
            "\n",
            "Confusion Matrix: \n",
            " [[42086    15   510    36     0     0    12   183  2492]\n",
            " [  576  2683    44   111     0     0     0     0    21]\n",
            " [    0     0   285     0     0     0     0     0     0]\n",
            " [  531     1   382 10197     0     0     0     0    48]\n",
            " [  194     0    21     0  2554     0     0     0    43]\n",
            " [ 1062     0    61    97     0     0     2     0   159]\n",
            " [  307     0     0     3     0     0   145     0     0]\n",
            " [  156     0    70     0     0     0     0  3533    33]\n",
            " [ 7092     0  1279     6    74     0     0     1 41255]]\n"
          ]
        }
      ],
      "source": [
        "y_predict = mnb.predict(test_features)\n",
        "print(classification_report(y_val,y_predict))\n",
        "print('Confusion Matrix: \\n',confusion_matrix(y_val, y_predict))"
      ]
    },
    {
      "attachments": {},
      "cell_type": "markdown",
      "metadata": {
        "id": "hF2mmpGYGIri"
      },
      "source": [
        "## Random Forest Classifier"
      ]
    },
    {
      "cell_type": "code",
      "execution_count": 10,
      "metadata": {
        "colab": {
          "base_uri": "https://localhost:8080/"
        },
        "id": "-1gAEMFe2ksd",
        "outputId": "3379d907-2b0a-4210-eb69-8e9a5445c5c9"
      },
      "outputs": [
        {
          "name": "stdout",
          "output_type": "stream",
          "text": [
            "0.9591753970936127\n"
          ]
        }
      ],
      "source": [
        "from sklearn.ensemble import RandomForestClassifier\n",
        "\n",
        "rf = RandomForestClassifier(n_estimators=10, criterion='gini')\n",
        "rf.fit(train_features, y_train)\n",
        "print(rf.score(test_features, y_val))"
      ]
    },
    {
      "cell_type": "code",
      "execution_count": 11,
      "metadata": {
        "colab": {
          "base_uri": "https://localhost:8080/"
        },
        "id": "D0tKg33t2kus",
        "outputId": "25300dff-1b97-47ca-a26c-e9ead3f50e29"
      },
      "outputs": [
        {
          "name": "stdout",
          "output_type": "stream",
          "text": [
            "                                        precision    recall  f1-score   support\n",
            "\n",
            "                          000 - Normal       0.92      0.99      0.96     45334\n",
            "                  126 - Path Traversal       1.00      0.92      0.96      3435\n",
            "         153 - Input Data Manipulation       0.29      0.11      0.15       285\n",
            "         194 - Fake the Source of Data       1.00      0.93      0.96     11159\n",
            "                  242 - Code Injection       0.99      0.99      0.99      2812\n",
            "           272 - Protocol Manipulation       0.65      0.12      0.20      1381\n",
            "310 - Scanning for Vulnerable Software       0.86      0.98      0.91       455\n",
            "          34 - HTTP Response Splitting       1.00      1.00      1.00      3792\n",
            "                    66 - SQL Injection       0.98      0.96      0.97     49707\n",
            "\n",
            "                              accuracy                           0.96    118360\n",
            "                             macro avg       0.85      0.78      0.79    118360\n",
            "                          weighted avg       0.96      0.96      0.96    118360\n",
            "\n",
            "Confusion Matrix: \n",
            " [[44931     3     2     2     0    15    44     0   337]\n",
            " [  219  3167     1     0     0    13     1     0    34]\n",
            " [   97     0    30     0     0     0     0     0   158]\n",
            " [  577     1    15 10416     0    19     0     0   131]\n",
            " [    7     0     0     0  2783     1     0     0    21]\n",
            " [ 1032     0     6    27     0   167    28     0   121]\n",
            " [   10     0     0     0     0     0   445     0     0]\n",
            " [    0     0     0     0     0     0     0  3792     0]\n",
            " [ 1801     0    50     0    15    42     2     0 47797]]\n"
          ]
        }
      ],
      "source": [
        "y_predict = rf.predict(test_features)\n",
        "print(classification_report(y_val,y_predict))\n",
        "print('Confusion Matrix: \\n',confusion_matrix(y_val, y_predict))"
      ]
    },
    {
      "attachments": {},
      "cell_type": "markdown",
      "metadata": {
        "id": "OKnfOsljGL9q"
      },
      "source": [
        "## Decision Tree Classifier"
      ]
    },
    {
      "cell_type": "code",
      "execution_count": 12,
      "metadata": {
        "colab": {
          "base_uri": "https://localhost:8080/"
        },
        "id": "jtK4JMDFD0EO",
        "outputId": "2150f9eb-7e82-4b1d-fb84-066d7cd8b0d7"
      },
      "outputs": [
        {
          "name": "stdout",
          "output_type": "stream",
          "text": [
            "0.9594457587022642\n"
          ]
        }
      ],
      "source": [
        "from sklearn.tree import DecisionTreeClassifier\n",
        "\n",
        "dt = DecisionTreeClassifier(criterion='gini')\n",
        "dt.fit(train_features, y_train)\n",
        "print(dt.score(test_features, y_val))"
      ]
    },
    {
      "cell_type": "code",
      "execution_count": 13,
      "metadata": {
        "colab": {
          "base_uri": "https://localhost:8080/"
        },
        "id": "lNu1tXfrEHuZ",
        "outputId": "820ece35-bad7-4884-97ce-485d51c6da70"
      },
      "outputs": [
        {
          "name": "stdout",
          "output_type": "stream",
          "text": [
            "                                        precision    recall  f1-score   support\n",
            "\n",
            "                          000 - Normal       0.92      0.99      0.96     45334\n",
            "                  126 - Path Traversal       1.00      0.92      0.96      3435\n",
            "         153 - Input Data Manipulation       0.75      0.02      0.04       285\n",
            "         194 - Fake the Source of Data       1.00      0.93      0.96     11159\n",
            "                  242 - Code Injection       0.99      0.99      0.99      2812\n",
            "           272 - Protocol Manipulation       0.63      0.13      0.22      1381\n",
            "310 - Scanning for Vulnerable Software       0.86      0.98      0.91       455\n",
            "          34 - HTTP Response Splitting       1.00      1.00      1.00      3792\n",
            "                    66 - SQL Injection       0.98      0.96      0.97     49707\n",
            "\n",
            "                              accuracy                           0.96    118360\n",
            "                             macro avg       0.90      0.77      0.78    118360\n",
            "                          weighted avg       0.96      0.96      0.96    118360\n",
            "\n",
            "Confusion Matrix: \n",
            " [[44943     3     1     2     1    17    42     1   324]\n",
            " [  219  3170     0     0     0    15     1     0    30]\n",
            " [   97     0     6     0     0     0     0     0   182]\n",
            " [  577     1     0 10411     0    25     0     0   145]\n",
            " [    5     1     0     0  2788     1     0     0    17]\n",
            " [ 1034     0     1    19     0   179    28     0   120]\n",
            " [   11     0     0     0     0     0   444     0     0]\n",
            " [    0     0     0     0     0     0     0  3792     0]\n",
            " [ 1802     0     0     0    29    47     2     0 47827]]\n"
          ]
        }
      ],
      "source": [
        "y_predict = dt.predict(test_features)\n",
        "print(classification_report(y_val,y_predict))\n",
        "print('Confusion Matrix: \\n',confusion_matrix(y_val, y_predict))"
      ]
    },
    {
      "attachments": {},
      "cell_type": "markdown",
      "metadata": {
        "id": "edp_bhD3GOqe"
      },
      "source": [
        "# AdaBoost Classifier"
      ]
    },
    {
      "cell_type": "code",
      "execution_count": 14,
      "metadata": {
        "colab": {
          "base_uri": "https://localhost:8080/"
        },
        "id": "rYaVHjG82k8c",
        "outputId": "bcc365f2-205c-4af2-8495-3a68379851d6"
      },
      "outputs": [
        {
          "name": "stdout",
          "output_type": "stream",
          "text": [
            "0.5630956404190605\n"
          ]
        }
      ],
      "source": [
        "from sklearn.ensemble import AdaBoostClassifier\n",
        "\n",
        "abc = AdaBoostClassifier(n_estimators=10)\n",
        "abc.fit(train_features, y_train)\n",
        "print(abc.score(test_features, y_val))"
      ]
    },
    {
      "cell_type": "code",
      "execution_count": 15,
      "metadata": {
        "colab": {
          "base_uri": "https://localhost:8080/"
        },
        "id": "Q8hwR-IR5ZDA",
        "outputId": "2c0b1da4-05d0-4a66-eeb9-bee29bc95908"
      },
      "outputs": [
        {
          "name": "stderr",
          "output_type": "stream",
          "text": [
            "e:\\Python\\Lib\\site-packages\\sklearn\\metrics\\_classification.py:1344: UndefinedMetricWarning: Precision and F-score are ill-defined and being set to 0.0 in labels with no predicted samples. Use `zero_division` parameter to control this behavior.\n",
            "  _warn_prf(average, modifier, msg_start, len(result))\n",
            "e:\\Python\\Lib\\site-packages\\sklearn\\metrics\\_classification.py:1344: UndefinedMetricWarning: Precision and F-score are ill-defined and being set to 0.0 in labels with no predicted samples. Use `zero_division` parameter to control this behavior.\n",
            "  _warn_prf(average, modifier, msg_start, len(result))\n",
            "e:\\Python\\Lib\\site-packages\\sklearn\\metrics\\_classification.py:1344: UndefinedMetricWarning: Precision and F-score are ill-defined and being set to 0.0 in labels with no predicted samples. Use `zero_division` parameter to control this behavior.\n",
            "  _warn_prf(average, modifier, msg_start, len(result))\n"
          ]
        },
        {
          "name": "stdout",
          "output_type": "stream",
          "text": [
            "                                        precision    recall  f1-score   support\n",
            "\n",
            "                          000 - Normal       0.00      0.00      0.00     45334\n",
            "                  126 - Path Traversal       0.00      0.00      0.00      3435\n",
            "         153 - Input Data Manipulation       0.00      0.00      0.00       285\n",
            "         194 - Fake the Source of Data       0.99      0.93      0.96     11159\n",
            "                  242 - Code Injection       1.00      0.97      0.98      2812\n",
            "           272 - Protocol Manipulation       0.00      0.00      0.00      1381\n",
            "310 - Scanning for Vulnerable Software       0.00      0.00      0.00       455\n",
            "          34 - HTTP Response Splitting       1.00      1.00      1.00      3792\n",
            "                    66 - SQL Injection       0.49      1.00      0.66     49707\n",
            "\n",
            "                              accuracy                           0.56    118360\n",
            "                             macro avg       0.39      0.43      0.40    118360\n",
            "                          weighted avg       0.36      0.56      0.42    118360\n",
            "\n",
            "Confusion Matrix: \n",
            " [[    0     0     0     0     1     0     0     0 45333]\n",
            " [    0     0     0     0     0     0     0     0  3435]\n",
            " [    0     0     0     0     0     0     0     0   285]\n",
            " [    0     0     0 10422     0     0     0     0   737]\n",
            " [    0     0     0     0  2727     0     0     0    85]\n",
            " [    0     0     0    95     0     0     0     0  1286]\n",
            " [    0     0     0     0     0     0     0     0   455]\n",
            " [    0     0     0     0     0     0     0  3792     0]\n",
            " [    0     0     0     0     0     0     0     0 49707]]\n"
          ]
        }
      ],
      "source": [
        "y_predict = abc.predict(test_features)\n",
        "print(classification_report(y_val,y_predict))\n",
        "print('Confusion Matrix: \\n',confusion_matrix(y_val, y_predict))"
      ]
    },
    {
      "attachments": {},
      "cell_type": "markdown",
      "metadata": {
        "id": "WFyh5wxdGRZD"
      },
      "source": [
        "## Logistic Regression Classifier"
      ]
    },
    {
      "cell_type": "code",
      "execution_count": 16,
      "metadata": {
        "colab": {
          "base_uri": "https://localhost:8080/"
        },
        "id": "T3Nip0265ZFo",
        "outputId": "c6dab4be-704c-4d57-fc61-7b51dee596d4"
      },
      "outputs": [
        {
          "name": "stderr",
          "output_type": "stream",
          "text": [
            "e:\\Python\\Lib\\site-packages\\sklearn\\linear_model\\_logistic.py:458: ConvergenceWarning: lbfgs failed to converge (status=1):\n",
            "STOP: TOTAL NO. of ITERATIONS REACHED LIMIT.\n",
            "\n",
            "Increase the number of iterations (max_iter) or scale the data as shown in:\n",
            "    https://scikit-learn.org/stable/modules/preprocessing.html\n",
            "Please also refer to the documentation for alternative solver options:\n",
            "    https://scikit-learn.org/stable/modules/linear_model.html#logistic-regression\n",
            "  n_iter_i = _check_optimize_result(\n"
          ]
        },
        {
          "name": "stdout",
          "output_type": "stream",
          "text": [
            "0.9497296383913484\n"
          ]
        }
      ],
      "source": [
        "from sklearn.linear_model import LogisticRegression\n",
        "\n",
        "lr = LogisticRegression()\n",
        "lr.fit(train_features, y_train)\n",
        "print(lr.score(test_features, y_val))\n"
      ]
    },
    {
      "cell_type": "code",
      "execution_count": 17,
      "metadata": {
        "colab": {
          "base_uri": "https://localhost:8080/"
        },
        "id": "uM8uWCJx5ZIm",
        "outputId": "f2ee76fc-45eb-4c1f-cdf5-ceae6f7b6460"
      },
      "outputs": [
        {
          "name": "stdout",
          "output_type": "stream",
          "text": [
            "                                        precision    recall  f1-score   support\n",
            "\n",
            "                          000 - Normal       0.91      0.98      0.94     45334\n",
            "                  126 - Path Traversal       0.98      0.90      0.94      3435\n",
            "         153 - Input Data Manipulation       0.67      0.01      0.03       285\n",
            "         194 - Fake the Source of Data       0.99      0.93      0.96     11159\n",
            "                  242 - Code Injection       1.00      0.97      0.99      2812\n",
            "           272 - Protocol Manipulation       0.00      0.00      0.00      1381\n",
            "310 - Scanning for Vulnerable Software       0.83      0.93      0.88       455\n",
            "          34 - HTTP Response Splitting       1.00      1.00      1.00      3792\n",
            "                    66 - SQL Injection       0.98      0.95      0.96     49707\n",
            "\n",
            "                              accuracy                           0.95    118360\n",
            "                             macro avg       0.82      0.74      0.74    118360\n",
            "                          weighted avg       0.94      0.95      0.94    118360\n",
            "\n",
            "Confusion Matrix: \n",
            " [[44545    67     0     7     1     0    53     0   661]\n",
            " [  295  3105     2     0     0     0     1     0    32]\n",
            " [   97     0     4     0     0     0     0     0   184]\n",
            " [  596     1     0 10422     0     1     0     0   139]\n",
            " [    8     1     0     0  2732     0     0     0    71]\n",
            " [ 1132     0     0    95     0     0    31     0   123]\n",
            " [   26     0     0     0     0     4   423     0     2]\n",
            " [    0     0     0     0     0     0     0  3792     0]\n",
            " [ 2318     0     0     0     0     0     2     0 47387]]\n"
          ]
        }
      ],
      "source": [
        "y_predict = lr.predict(test_features)\n",
        "print(classification_report(y_val,y_predict))\n",
        "print('Confusion Matrix: \\n',confusion_matrix(y_val, y_predict))"
      ]
    },
    {
      "attachments": {},
      "cell_type": "markdown",
      "metadata": {
        "id": "KLw6SpOxGVOS"
      },
      "source": [
        "# BOW Feature Extraction"
      ]
    },
    {
      "attachments": {},
      "cell_type": "markdown",
      "metadata": {
        "id": "Kq7XC6rPGgba"
      },
      "source": [
        "## Naive Bayes Classifier"
      ]
    },
    {
      "cell_type": "code",
      "execution_count": 18,
      "metadata": {
        "colab": {
          "base_uri": "https://localhost:8080/"
        },
        "id": "VJbqm6iUE2bj",
        "outputId": "07dcacfa-2d75-4766-c3f5-e2e48b75bfd1"
      },
      "outputs": [
        {
          "name": "stdout",
          "output_type": "stream",
          "text": [
            "0.8273741128759716\n"
          ]
        }
      ],
      "source": [
        "vectorizer = Vectorizer('BOW')\n",
        "train_features, test_features = vectorizer.feature_extraction(X_train, X_val)\n",
        "mnb = MultinomialNB()\n",
        "mnb.fit(train_features, y_train)\n",
        "print(mnb.score(test_features, y_val))"
      ]
    },
    {
      "cell_type": "code",
      "execution_count": 19,
      "metadata": {
        "colab": {
          "base_uri": "https://localhost:8080/"
        },
        "id": "EurujopUE8FK",
        "outputId": "0289132d-6ea0-4ca3-ab9b-bb96ba224c3c"
      },
      "outputs": [
        {
          "name": "stdout",
          "output_type": "stream",
          "text": [
            "                                        precision    recall  f1-score   support\n",
            "\n",
            "                          000 - Normal       0.77      0.92      0.84     45334\n",
            "                  126 - Path Traversal       0.99      0.89      0.94      3435\n",
            "         153 - Input Data Manipulation       0.09      1.00      0.17       285\n",
            "         194 - Fake the Source of Data       0.94      0.91      0.92     11159\n",
            "                  242 - Code Injection       0.97      0.87      0.92      2812\n",
            "           272 - Protocol Manipulation       0.04      0.08      0.05      1381\n",
            "310 - Scanning for Vulnerable Software       0.81      0.40      0.53       455\n",
            "          34 - HTTP Response Splitting       0.94      0.97      0.95      3792\n",
            "                    66 - SQL Injection       0.96      0.73      0.83     49707\n",
            "\n",
            "                              accuracy                           0.83    118360\n",
            "                             macro avg       0.72      0.75      0.68    118360\n",
            "                          weighted avg       0.87      0.83      0.84    118360\n",
            "\n",
            "Confusion Matrix: \n",
            " [[41617    42   645   420     0  1098    35   235  1242]\n",
            " [  237  3068    80     6     0    32     0     0    12]\n",
            " [    0     0   285     0     0     0     0     0     0]\n",
            " [  457     1   484 10107     0    99     0     0    11]\n",
            " [  119     0    30     0  2453   187     0     0    23]\n",
            " [ 1009     0    66   103     0   108     5     0    90]\n",
            " [  272     0     0     2     0     1   180     0     0]\n",
            " [   17     0    70     3     0     5     0  3676    21]\n",
            " [10192     0  1509   154    74  1327     3    14 36434]]\n"
          ]
        }
      ],
      "source": [
        "y_predict = mnb.predict(test_features)\n",
        "print(classification_report(y_val,y_predict))\n",
        "print('Confusion Matrix: \\n',confusion_matrix(y_val, y_predict))"
      ]
    },
    {
      "attachments": {},
      "cell_type": "markdown",
      "metadata": {
        "id": "UkfTtKPYGlBm"
      },
      "source": [
        "## Random Forest Classifier"
      ]
    },
    {
      "cell_type": "code",
      "execution_count": 20,
      "metadata": {
        "colab": {
          "base_uri": "https://localhost:8080/"
        },
        "id": "U-A_-YSfFBwS",
        "outputId": "ddfe6ecb-93e8-4851-c8c3-c2b642124364"
      },
      "outputs": [
        {
          "name": "stdout",
          "output_type": "stream",
          "text": [
            "0.9594288611017235\n"
          ]
        }
      ],
      "source": [
        "from sklearn.ensemble import RandomForestClassifier\n",
        "\n",
        "rf = RandomForestClassifier(n_estimators=10, criterion='gini')\n",
        "rf.fit(train_features, y_train)\n",
        "print(rf.score(test_features, y_val))"
      ]
    },
    {
      "cell_type": "code",
      "execution_count": 21,
      "metadata": {
        "colab": {
          "base_uri": "https://localhost:8080/"
        },
        "id": "_MEkkBgxFByz",
        "outputId": "a7a14a0d-16c2-4558-e9e7-f5bc37a90c96"
      },
      "outputs": [
        {
          "name": "stdout",
          "output_type": "stream",
          "text": [
            "                                        precision    recall  f1-score   support\n",
            "\n",
            "                          000 - Normal       0.92      0.99      0.96     45334\n",
            "                  126 - Path Traversal       1.00      0.92      0.96      3435\n",
            "         153 - Input Data Manipulation       0.75      0.02      0.04       285\n",
            "         194 - Fake the Source of Data       1.00      0.93      0.96     11159\n",
            "                  242 - Code Injection       0.99      0.99      0.99      2812\n",
            "           272 - Protocol Manipulation       0.64      0.12      0.21      1381\n",
            "310 - Scanning for Vulnerable Software       0.86      0.99      0.92       455\n",
            "          34 - HTTP Response Splitting       1.00      1.00      1.00      3792\n",
            "                    66 - SQL Injection       0.98      0.96      0.97     49707\n",
            "\n",
            "                              accuracy                           0.96    118360\n",
            "                             macro avg       0.90      0.77      0.78    118360\n",
            "                          weighted avg       0.96      0.96      0.95    118360\n",
            "\n",
            "Confusion Matrix: \n",
            " [[44937     2     1     4     0    19    44     0   327]\n",
            " [  220  3168     0     0     0    13     1     0    33]\n",
            " [   97     0     6     0     0     0     0     0   182]\n",
            " [  577     1     0 10416     0    20     0     0   145]\n",
            " [    4     0     0     0  2789     0     0     0    19]\n",
            " [ 1033     2     1    23     0   169    28     0   125]\n",
            " [    6     0     0     0     0     0   449     0     0]\n",
            " [    0     0     0     0     0     0     0  3792     0]\n",
            " [ 1811     0     0     0    18    43     2     1 47832]]\n"
          ]
        }
      ],
      "source": [
        "y_predict = rf.predict(test_features)\n",
        "print(classification_report(y_val,y_predict))\n",
        "print('Confusion Matrix: \\n',confusion_matrix(y_val, y_predict))"
      ]
    },
    {
      "attachments": {},
      "cell_type": "markdown",
      "metadata": {
        "id": "H_6dtPnFGorS"
      },
      "source": [
        "## Decision Tree Classifier"
      ]
    },
    {
      "cell_type": "code",
      "execution_count": 22,
      "metadata": {
        "colab": {
          "base_uri": "https://localhost:8080/"
        },
        "id": "2xKbOulCFB00",
        "outputId": "48a01176-47cd-417d-f8c6-cb1a204a26d9"
      },
      "outputs": [
        {
          "name": "stdout",
          "output_type": "stream",
          "text": [
            "0.9596992227103751\n"
          ]
        }
      ],
      "source": [
        "from sklearn.tree import DecisionTreeClassifier\n",
        "\n",
        "dt = DecisionTreeClassifier(criterion='gini')\n",
        "dt.fit(train_features, y_train)\n",
        "print(dt.score(test_features, y_val))"
      ]
    },
    {
      "cell_type": "code",
      "execution_count": 23,
      "metadata": {
        "colab": {
          "base_uri": "https://localhost:8080/"
        },
        "id": "Hjgavip6FB3g",
        "outputId": "30eef8e5-f908-4c41-f8f4-3fd13cbace42"
      },
      "outputs": [
        {
          "name": "stdout",
          "output_type": "stream",
          "text": [
            "                                        precision    recall  f1-score   support\n",
            "\n",
            "                          000 - Normal       0.92      0.99      0.96     45334\n",
            "                  126 - Path Traversal       1.00      0.92      0.96      3435\n",
            "         153 - Input Data Manipulation       0.75      0.02      0.04       285\n",
            "         194 - Fake the Source of Data       1.00      0.93      0.96     11159\n",
            "                  242 - Code Injection       0.99      0.99      0.99      2812\n",
            "           272 - Protocol Manipulation       0.63      0.13      0.21      1381\n",
            "310 - Scanning for Vulnerable Software       0.86      0.98      0.92       455\n",
            "          34 - HTTP Response Splitting       1.00      1.00      1.00      3792\n",
            "                    66 - SQL Injection       0.98      0.96      0.97     49707\n",
            "\n",
            "                              accuracy                           0.96    118360\n",
            "                             macro avg       0.90      0.77      0.78    118360\n",
            "                          weighted avg       0.96      0.96      0.96    118360\n",
            "\n",
            "Confusion Matrix: \n",
            " [[44952     2     1     2     0    19    44     0   314]\n",
            " [  217  3172     0     0     0    15     1     0    30]\n",
            " [   97     0     6     0     0     0     0     0   182]\n",
            " [  577     1     0 10414     0    22     0     0   145]\n",
            " [    2     0     0     0  2793     2     0     0    15]\n",
            " [ 1033     0     1    17     0   179    28     0   123]\n",
            " [    7     0     0     0     0     0   448     0     0]\n",
            " [    0     0     0     0     0     0     0  3792     0]\n",
            " [ 1800     0     0     0    23    48     2     0 47834]]\n"
          ]
        }
      ],
      "source": [
        "y_predict = dt.predict(test_features)\n",
        "print(classification_report(y_val,y_predict))\n",
        "print('Confusion Matrix: \\n',confusion_matrix(y_val, y_predict))"
      ]
    },
    {
      "attachments": {},
      "cell_type": "markdown",
      "metadata": {
        "id": "DuZsNl5sGrIE"
      },
      "source": [
        "## AdaBoost Classifier"
      ]
    },
    {
      "cell_type": "code",
      "execution_count": 24,
      "metadata": {
        "colab": {
          "base_uri": "https://localhost:8080/"
        },
        "id": "xiB_KiKMFB6G",
        "outputId": "3ad677e6-49fd-49b2-ba2c-6c9912b58b95"
      },
      "outputs": [
        {
          "name": "stdout",
          "output_type": "stream",
          "text": [
            "0.5630956404190605\n"
          ]
        }
      ],
      "source": [
        "from sklearn.ensemble import AdaBoostClassifier\n",
        "\n",
        "abc = AdaBoostClassifier(n_estimators=10)\n",
        "abc.fit(train_features, y_train)\n",
        "print(abc.score(test_features, y_val))"
      ]
    },
    {
      "cell_type": "code",
      "execution_count": 25,
      "metadata": {
        "colab": {
          "base_uri": "https://localhost:8080/"
        },
        "id": "WP2LTC1EE8PV",
        "outputId": "aa3557af-51af-49f5-d296-9bc793ae93ac"
      },
      "outputs": [
        {
          "name": "stderr",
          "output_type": "stream",
          "text": [
            "e:\\Python\\Lib\\site-packages\\sklearn\\metrics\\_classification.py:1344: UndefinedMetricWarning: Precision and F-score are ill-defined and being set to 0.0 in labels with no predicted samples. Use `zero_division` parameter to control this behavior.\n",
            "  _warn_prf(average, modifier, msg_start, len(result))\n",
            "e:\\Python\\Lib\\site-packages\\sklearn\\metrics\\_classification.py:1344: UndefinedMetricWarning: Precision and F-score are ill-defined and being set to 0.0 in labels with no predicted samples. Use `zero_division` parameter to control this behavior.\n",
            "  _warn_prf(average, modifier, msg_start, len(result))\n",
            "e:\\Python\\Lib\\site-packages\\sklearn\\metrics\\_classification.py:1344: UndefinedMetricWarning: Precision and F-score are ill-defined and being set to 0.0 in labels with no predicted samples. Use `zero_division` parameter to control this behavior.\n",
            "  _warn_prf(average, modifier, msg_start, len(result))\n"
          ]
        },
        {
          "name": "stdout",
          "output_type": "stream",
          "text": [
            "                                        precision    recall  f1-score   support\n",
            "\n",
            "                          000 - Normal       0.00      0.00      0.00     45334\n",
            "                  126 - Path Traversal       0.00      0.00      0.00      3435\n",
            "         153 - Input Data Manipulation       0.00      0.00      0.00       285\n",
            "         194 - Fake the Source of Data       0.99      0.93      0.96     11159\n",
            "                  242 - Code Injection       1.00      0.97      0.98      2812\n",
            "           272 - Protocol Manipulation       0.00      0.00      0.00      1381\n",
            "310 - Scanning for Vulnerable Software       0.00      0.00      0.00       455\n",
            "          34 - HTTP Response Splitting       1.00      1.00      1.00      3792\n",
            "                    66 - SQL Injection       0.49      1.00      0.66     49707\n",
            "\n",
            "                              accuracy                           0.56    118360\n",
            "                             macro avg       0.39      0.43      0.40    118360\n",
            "                          weighted avg       0.36      0.56      0.42    118360\n",
            "\n",
            "Confusion Matrix: \n",
            " [[    0     0     0     0     1     0     0     0 45333]\n",
            " [    0     0     0     0     0     0     0     0  3435]\n",
            " [    0     0     0     0     0     0     0     0   285]\n",
            " [    0     0     0 10422     0     0     0     0   737]\n",
            " [    0     0     0     0  2727     0     0     0    85]\n",
            " [    0     0     0    95     0     0     0     0  1286]\n",
            " [    0     0     0     0     0     0     0     0   455]\n",
            " [    0     0     0     0     0     0     0  3792     0]\n",
            " [    0     0     0     0     0     0     0     0 49707]]\n"
          ]
        }
      ],
      "source": [
        "y_predict = abc.predict(test_features)\n",
        "print(classification_report(y_val,y_predict))\n",
        "print('Confusion Matrix: \\n',confusion_matrix(y_val, y_predict))"
      ]
    },
    {
      "attachments": {},
      "cell_type": "markdown",
      "metadata": {
        "id": "o7uBssUuGtjC"
      },
      "source": [
        "## Logistic Regression Classifier"
      ]
    },
    {
      "cell_type": "code",
      "execution_count": 26,
      "metadata": {
        "id": "QKn3_0LCFTHy"
      },
      "outputs": [
        {
          "name": "stderr",
          "output_type": "stream",
          "text": [
            "e:\\Python\\Lib\\site-packages\\sklearn\\linear_model\\_logistic.py:458: ConvergenceWarning: lbfgs failed to converge (status=1):\n",
            "STOP: TOTAL NO. of ITERATIONS REACHED LIMIT.\n",
            "\n",
            "Increase the number of iterations (max_iter) or scale the data as shown in:\n",
            "    https://scikit-learn.org/stable/modules/preprocessing.html\n",
            "Please also refer to the documentation for alternative solver options:\n",
            "    https://scikit-learn.org/stable/modules/linear_model.html#logistic-regression\n",
            "  n_iter_i = _check_optimize_result(\n"
          ]
        },
        {
          "name": "stdout",
          "output_type": "stream",
          "text": [
            "0.951495437647854\n"
          ]
        }
      ],
      "source": [
        "from sklearn.linear_model import LogisticRegression\n",
        "\n",
        "lr = LogisticRegression()\n",
        "lr.fit(train_features, y_train)\n",
        "print(lr.score(test_features, y_val))"
      ]
    },
    {
      "cell_type": "code",
      "execution_count": 27,
      "metadata": {
        "id": "JggrlpA6FTKs"
      },
      "outputs": [
        {
          "name": "stdout",
          "output_type": "stream",
          "text": [
            "                                        precision    recall  f1-score   support\n",
            "\n",
            "                          000 - Normal       0.91      0.98      0.95     45334\n",
            "                  126 - Path Traversal       1.00      0.92      0.96      3435\n",
            "         153 - Input Data Manipulation       0.35      0.20      0.26       285\n",
            "         194 - Fake the Source of Data       0.99      0.93      0.96     11159\n",
            "                  242 - Code Injection       1.00      0.97      0.99      2812\n",
            "           272 - Protocol Manipulation       0.22      0.00      0.00      1381\n",
            "310 - Scanning for Vulnerable Software       0.84      0.96      0.90       455\n",
            "          34 - HTTP Response Splitting       1.00      1.00      1.00      3792\n",
            "                    66 - SQL Injection       0.98      0.95      0.97     49707\n",
            "\n",
            "                              accuracy                           0.95    118360\n",
            "                             macro avg       0.81      0.77      0.77    118360\n",
            "                          weighted avg       0.94      0.95      0.95    118360\n",
            "\n",
            "Confusion Matrix: \n",
            " [[44566    12     3     3     1     5    48     0   696]\n",
            " [  240  3160     1     1     0     0     1     0    32]\n",
            " [   97     0    57     0     0     0     0     0   131]\n",
            " [  597     1    30 10423     0     0     0     0   108]\n",
            " [    8     1     0     0  2738     0     0     0    65]\n",
            " [ 1126     0    13    96     0     2    34     0   110]\n",
            " [   16     0     0     0     0     1   438     0     0]\n",
            " [    0     0     0     0     0     0     0  3792     0]\n",
            " [ 2200     1    57     0     3     1     2     0 47443]]\n"
          ]
        }
      ],
      "source": [
        "y_predict = lr.predict(test_features)\n",
        "print(classification_report(y_val,y_predict))\n",
        "print('Confusion Matrix: \\n',confusion_matrix(y_val, y_predict))"
      ]
    },
    {
      "attachments": {},
      "cell_type": "markdown",
      "metadata": {
        "id": "sKbQmUrfG4x0"
      },
      "source": [
        "# Word2Vec Feature Extraction"
      ]
    },
    {
      "cell_type": "code",
      "execution_count": 28,
      "metadata": {
        "id": "x3CtKCrfe049"
      },
      "outputs": [],
      "source": [
        "import pandas as pd\n",
        "import numpy as np\n",
        "import string\n",
        "from nltk.corpus import stopwords\n",
        "from nltk.tokenize import word_tokenize\n",
        "from gensim.models import Word2Vec\n",
        "from tensorflow.keras.preprocessing.text import Tokenizer\n",
        "from tensorflow.keras.preprocessing.sequence import pad_sequences\n",
        "from tensorflow.keras.layers import Embedding, Conv1D, MaxPooling1D, Flatten, Dense\n",
        "from tensorflow.keras.models import Sequential\n",
        "from sklearn.model_selection import train_test_split"
      ]
    },
    {
      "cell_type": "code",
      "execution_count": 29,
      "metadata": {
        "id": "SB8pIwzZceO1"
      },
      "outputs": [],
      "source": [
        "X_train, X_test, y_train, y_test = train_test_split(df_train[\"text\"],\n",
        "                                                  df_train[\"label\"],\n",
        "                                                  test_size=0.2,\n",
        "                                                  shuffle=True)"
      ]
    },
    {
      "cell_type": "code",
      "execution_count": 30,
      "metadata": {
        "id": "9vb4yR7ocmAi"
      },
      "outputs": [],
      "source": [
        "from gensim.models import Word2Vec\n",
        "\n",
        "sentences = [sentence.split() for sentence in X_train]\n",
        "w2v_model = Word2Vec(sentences, window=5, min_count=5, workers=4)"
      ]
    },
    {
      "cell_type": "code",
      "execution_count": 31,
      "metadata": {
        "id": "iCj5lFh9c_vm"
      },
      "outputs": [],
      "source": [
        "import numpy as np\n",
        "\n",
        "def vectorize(sentence):\n",
        "    words = sentence.split()\n",
        "    words_vecs = [w2v_model.wv[word] for word in words if word in w2v_model.wv]\n",
        "    if len(words_vecs) == 0:\n",
        "        return np.zeros(100)\n",
        "    words_vecs = np.array(words_vecs)\n",
        "    return words_vecs.mean(axis=0)\n",
        "\n",
        "X_train = np.array([vectorize(sentence) for sentence in X_train])\n",
        "X_test = np.array([vectorize(sentence) for sentence in X_test])"
      ]
    },
    {
      "cell_type": "code",
      "execution_count": 32,
      "metadata": {
        "colab": {
          "base_uri": "https://localhost:8080/"
        },
        "id": "nxQ_KB0CdP7a",
        "outputId": "22a7a38f-fefe-43ac-b4a6-b6a62a146e13"
      },
      "outputs": [
        {
          "name": "stderr",
          "output_type": "stream",
          "text": [
            "e:\\Python\\Lib\\site-packages\\sklearn\\linear_model\\_logistic.py:458: ConvergenceWarning: lbfgs failed to converge (status=1):\n",
            "STOP: TOTAL NO. of ITERATIONS REACHED LIMIT.\n",
            "\n",
            "Increase the number of iterations (max_iter) or scale the data as shown in:\n",
            "    https://scikit-learn.org/stable/modules/preprocessing.html\n",
            "Please also refer to the documentation for alternative solver options:\n",
            "    https://scikit-learn.org/stable/modules/linear_model.html#logistic-regression\n",
            "  n_iter_i = _check_optimize_result(\n"
          ]
        },
        {
          "name": "stdout",
          "output_type": "stream",
          "text": [
            "0.6186042581953363\n"
          ]
        }
      ],
      "source": [
        "from sklearn.linear_model import LogisticRegression\n",
        "\n",
        "clf = LogisticRegression()\n",
        "clf.fit(X_train, y_train)\n",
        "print(clf.score(X_test, y_test))"
      ]
    },
    {
      "cell_type": "code",
      "execution_count": 33,
      "metadata": {
        "colab": {
          "base_uri": "https://localhost:8080/"
        },
        "id": "XXZPJHY5eQDB",
        "outputId": "1e1d0bcf-b8f7-4560-adbc-de9b96af014e"
      },
      "outputs": [
        {
          "name": "stderr",
          "output_type": "stream",
          "text": [
            "e:\\Python\\Lib\\site-packages\\sklearn\\metrics\\_classification.py:1344: UndefinedMetricWarning: Precision and F-score are ill-defined and being set to 0.0 in labels with no predicted samples. Use `zero_division` parameter to control this behavior.\n",
            "  _warn_prf(average, modifier, msg_start, len(result))\n",
            "e:\\Python\\Lib\\site-packages\\sklearn\\metrics\\_classification.py:1344: UndefinedMetricWarning: Precision and F-score are ill-defined and being set to 0.0 in labels with no predicted samples. Use `zero_division` parameter to control this behavior.\n",
            "  _warn_prf(average, modifier, msg_start, len(result))\n",
            "e:\\Python\\Lib\\site-packages\\sklearn\\metrics\\_classification.py:1344: UndefinedMetricWarning: Precision and F-score are ill-defined and being set to 0.0 in labels with no predicted samples. Use `zero_division` parameter to control this behavior.\n",
            "  _warn_prf(average, modifier, msg_start, len(result))\n"
          ]
        },
        {
          "name": "stdout",
          "output_type": "stream",
          "text": [
            "                                        precision    recall  f1-score   support\n",
            "\n",
            "                          000 - Normal       0.57      0.79      0.66     45111\n",
            "                  126 - Path Traversal       0.41      0.08      0.14      3530\n",
            "         153 - Input Data Manipulation       0.00      0.00      0.00       272\n",
            "         194 - Fake the Source of Data       0.29      0.05      0.08     11287\n",
            "                  242 - Code Injection       0.40      0.03      0.06      2814\n",
            "           272 - Protocol Manipulation       0.00      0.00      0.00      1358\n",
            "310 - Scanning for Vulnerable Software       0.71      0.91      0.80       510\n",
            "          34 - HTTP Response Splitting       0.25      0.00      0.01      3842\n",
            "                    66 - SQL Injection       0.69      0.73      0.71     49636\n",
            "\n",
            "                              accuracy                           0.62    118360\n",
            "                             macro avg       0.37      0.29      0.27    118360\n",
            "                          weighted avg       0.57      0.62      0.57    118360\n",
            "\n",
            "Confusion Matrix: \n",
            " [[35522   242     0   763    76     0    55    30  8423]\n",
            " [ 2192   297     0   193    39     0     1     0   808]\n",
            " [   22     0     0    14     0     0     0     0   236]\n",
            " [ 6506   104     0   556     4     0    14    23  4080]\n",
            " [ 1969    52     0   126    89     0     1     4   573]\n",
            " [ 1046     8     0    13     0     0     7     0   284]\n",
            " [   14     0     0     1     0     0   466     1    28]\n",
            " [ 2092     0     0    30     0     0    16    19  1685]\n",
            " [13022    23     0   205    17     0   100     0 36269]]\n"
          ]
        }
      ],
      "source": [
        "y_predict = clf.predict(X_test)\n",
        "print(classification_report(y_test,y_predict))\n",
        "print('Confusion Matrix: \\n',confusion_matrix(y_test, y_predict))"
      ]
    },
    {
      "cell_type": "code",
      "execution_count": 34,
      "metadata": {
        "id": "ka4tAuFCj-yk"
      },
      "outputs": [],
      "source": [
        "X_train, X_test, y_train, y_test = train_test_split(df_train[\"text\"],\n",
        "                                                  df_train[\"label\"],\n",
        "                                                  test_size=0.2,\n",
        "                                                  shuffle=True)"
      ]
    },
    {
      "cell_type": "code",
      "execution_count": 35,
      "metadata": {
        "id": "C5jAqT9PiQnq"
      },
      "outputs": [],
      "source": [
        "X_train, X_test, y_train, y_test = train_test_split(df_train[\"text\"],\n",
        "                                                  df_train[\"label\"],\n",
        "                                                  test_size=0.2,\n",
        "                                                  shuffle=True)\n",
        "# Tokenize the text data\n",
        "tokenizer = Tokenizer()\n",
        "tokenizer.fit_on_texts(X_train)\n",
        "\n",
        "X_train = tokenizer.texts_to_sequences(X_train)\n",
        "X_test = tokenizer.texts_to_sequences(X_test)\n",
        "\n",
        "vocab_size = len(tokenizer.word_index) + 1\n",
        "\n",
        "# Pad the sequences to a fixed length\n",
        "max_length = 100\n",
        "X_train = pad_sequences(X_train, maxlen=max_length, padding='post')\n",
        "X_test = pad_sequences(X_test, maxlen=max_length, padding='post')"
      ]
    },
    {
      "cell_type": "code",
      "execution_count": 36,
      "metadata": {
        "colab": {
          "base_uri": "https://localhost:8080/"
        },
        "id": "P_nEIM3Ml6NU",
        "outputId": "1df99c1e-ac10-429e-9869-bc86c26754a3"
      },
      "outputs": [
        {
          "name": "stderr",
          "output_type": "stream",
          "text": [
            "[nltk_data] Downloading package punkt to\n",
            "[nltk_data]     C:\\Users\\ngngo\\AppData\\Roaming\\nltk_data...\n",
            "[nltk_data]   Package punkt is already up-to-date!\n",
            "[nltk_data] Downloading package stopwords to\n",
            "[nltk_data]     C:\\Users\\ngngo\\AppData\\Roaming\\nltk_data...\n",
            "[nltk_data]   Unzipping corpora\\stopwords.zip.\n",
            "[nltk_data] Downloading package wordnet to\n",
            "[nltk_data]     C:\\Users\\ngngo\\AppData\\Roaming\\nltk_data...\n",
            "[nltk_data]   Package wordnet is already up-to-date!\n"
          ]
        }
      ],
      "source": [
        "## importing all libraries\n",
        "import numpy as np\n",
        "import pandas as pd\n",
        "import seaborn as sns\n",
        "import matplotlib.pyplot as plt\n",
        "import re\n",
        "import nltk\n",
        "nltk.download('punkt')\n",
        "nltk.download('stopwords')\n",
        "nltk.download('wordnet')\n",
        "from sklearn.preprocessing import LabelEncoder\n",
        "from sklearn.model_selection import GridSearchCV\n",
        "from sklearn.model_selection import train_test_split\n",
        "\n",
        "## Case 1 : Would use Word2Vec and then apply different classifiers\n",
        "from gensim.models import Word2Vec  \n",
        "\n",
        "## Case 2 : Would use TfidfVectorizer and then apply different classifiers\n",
        "from sklearn.feature_extraction.text import TfidfVectorizer   \n",
        "\n",
        "## This would help us understand : Does the type of Vectorizing Process influence the precision , accuracy , recall score of the classifiers ??\n",
        "\n",
        "\n",
        "from sklearn.pipeline import Pipeline\n",
        "from sklearn.svm import SVC\n",
        "from sklearn.naive_bayes import GaussianNB\n",
        "from sklearn.naive_bayes import MultinomialNB\n",
        "from sklearn.tree import DecisionTreeClassifier\n",
        "from sklearn.neural_network import MLPClassifier\n",
        "from sklearn.ensemble import GradientBoostingClassifier\n",
        "from sklearn.metrics import precision_score, recall_score, f1_score, accuracy_score\n",
        "import warnings\n",
        "warnings.filterwarnings(\"ignore\")"
      ]
    },
    {
      "cell_type": "code",
      "execution_count": 37,
      "metadata": {
        "colab": {
          "background_save": true,
          "base_uri": "https://localhost:8080/"
        },
        "id": "X3av8NDrlnsR",
        "outputId": "501a58c9-4c57-4015-9ebd-56c365152124"
      },
      "outputs": [
        {
          "name": "stdout",
          "output_type": "stream",
          "text": [
            "Tokenization complete.\n",
            "Naive Bayes :\n",
            "Accuracy: 0.475 \tPrecision: 0.359 \tRecall: 0.632 \t\tF1: 0.365\n",
            "\n",
            "Confusion Matrix: \n",
            " [[ 5340   822   579  4275   737 12852 12124  3646  5078]\n",
            " [   31  1619    27    62  1437   100   158    14    23]\n",
            " [    0     0   232    17     0     3    10     0     0]\n",
            " [  338   252   569  7518   245   921   453   822   112]\n",
            " [   34    66    14   219  2354     5     0    25    52]\n",
            " [  216     6    63    62     1   355   691     5    23]\n",
            " [    8     0     1     3     0    22   441     0     0]\n",
            " [  170     0   136   193     0    88    28  3137   114]\n",
            " [ 3384  1185   752  2671   740  2258  1024  2152 35246]]\n",
            "Decision Tree :\n",
            "Accuracy: 0.940 \tPrecision: 0.817 \tRecall: 0.781 \t\tF1: 0.795\n",
            "\n",
            "Confusion Matrix: \n",
            " [[43602    77    56   324    48   269    41    98   938]\n",
            " [  164  3238     6     7     7    14     7     2    26]\n",
            " [   61     6    87    27     0     5     0     0    76]\n",
            " [  880     8    51  9871    40    62     5    13   300]\n",
            " [   74     7     0    57  2563     0     0     8    60]\n",
            " [  896    14     7    46     1   402     8     2    46]\n",
            " [   53     5     0    12     1    13   378     2    11]\n",
            " [   68     0     1    23     8     3     0  3706    57]\n",
            " [ 1625    12    73   176    35    29     8    35 47419]]\n"
          ]
        },
        {
          "ename": "KeyboardInterrupt",
          "evalue": "",
          "output_type": "error",
          "traceback": [
            "\u001b[1;31m---------------------------------------------------------------------------\u001b[0m",
            "\u001b[1;31mKeyboardInterrupt\u001b[0m                         Traceback (most recent call last)",
            "\u001b[1;32me:\\Work_DatPT\\Study\\Master\\SecBERT\\Baseline.ipynb Cell 51\u001b[0m line \u001b[0;36m7\n\u001b[0;32m     <a href='vscode-notebook-cell:/e%3A/Work_DatPT/Study/Master/SecBERT/Baseline.ipynb#Y101sZmlsZQ%3D%3D?line=65'>66</a>\u001b[0m \u001b[39mfor\u001b[39;00m key \u001b[39min\u001b[39;00m clf_models\u001b[39m.\u001b[39mkeys():\n\u001b[0;32m     <a href='vscode-notebook-cell:/e%3A/Work_DatPT/Study/Master/SecBERT/Baseline.ipynb#Y101sZmlsZQ%3D%3D?line=67'>68</a>\u001b[0m     clf \u001b[39m=\u001b[39m Pipeline([(\u001b[39m'\u001b[39m\u001b[39mWord2Vec vectorizer\u001b[39m\u001b[39m'\u001b[39m, Vectorizer(w2v)), (\u001b[39m'\u001b[39m\u001b[39mClassifier\u001b[39m\u001b[39m'\u001b[39m, Classifier(clf_models[key], clf_params[key]))])\n\u001b[1;32m---> <a href='vscode-notebook-cell:/e%3A/Work_DatPT/Study/Master/SecBERT/Baseline.ipynb#Y101sZmlsZQ%3D%3D?line=69'>70</a>\u001b[0m     clf\u001b[39m.\u001b[39;49mfit(X_train, y_train)  \u001b[39m## Note : we are calling user defined fit method. This fit method uses Cross Validation\u001b[39;00m\n\u001b[0;32m     <a href='vscode-notebook-cell:/e%3A/Work_DatPT/Study/Master/SecBERT/Baseline.ipynb#Y101sZmlsZQ%3D%3D?line=70'>71</a>\u001b[0m     y_pred \u001b[39m=\u001b[39m clf\u001b[39m.\u001b[39mpredict(X_test)  \u001b[39m## Note : we are calling user defined predict method. This predict method uses Cross Validation\u001b[39;00m\n\u001b[0;32m     <a href='vscode-notebook-cell:/e%3A/Work_DatPT/Study/Master/SecBERT/Baseline.ipynb#Y101sZmlsZQ%3D%3D?line=72'>73</a>\u001b[0m     \u001b[39m## printing performance metrics for each classifier \u001b[39;00m\n",
            "File \u001b[1;32me:\\Python\\Lib\\site-packages\\sklearn\\pipeline.py:405\u001b[0m, in \u001b[0;36mPipeline.fit\u001b[1;34m(self, X, y, **fit_params)\u001b[0m\n\u001b[0;32m    403\u001b[0m     \u001b[39mif\u001b[39;00m \u001b[39mself\u001b[39m\u001b[39m.\u001b[39m_final_estimator \u001b[39m!=\u001b[39m \u001b[39m\"\u001b[39m\u001b[39mpassthrough\u001b[39m\u001b[39m\"\u001b[39m:\n\u001b[0;32m    404\u001b[0m         fit_params_last_step \u001b[39m=\u001b[39m fit_params_steps[\u001b[39mself\u001b[39m\u001b[39m.\u001b[39msteps[\u001b[39m-\u001b[39m\u001b[39m1\u001b[39m][\u001b[39m0\u001b[39m]]\n\u001b[1;32m--> 405\u001b[0m         \u001b[39mself\u001b[39;49m\u001b[39m.\u001b[39;49m_final_estimator\u001b[39m.\u001b[39;49mfit(Xt, y, \u001b[39m*\u001b[39;49m\u001b[39m*\u001b[39;49mfit_params_last_step)\n\u001b[0;32m    407\u001b[0m \u001b[39mreturn\u001b[39;00m \u001b[39mself\u001b[39m\n",
            "\u001b[1;32me:\\Work_DatPT\\Study\\Master\\SecBERT\\Baseline.ipynb Cell 51\u001b[0m line \u001b[0;36m4\n\u001b[0;32m     <a href='vscode-notebook-cell:/e%3A/Work_DatPT/Study/Master/SecBERT/Baseline.ipynb#Y101sZmlsZQ%3D%3D?line=38'>39</a>\u001b[0m \u001b[39mdef\u001b[39;00m \u001b[39mfit\u001b[39m(\u001b[39mself\u001b[39m, X, y):        \n\u001b[1;32m---> <a href='vscode-notebook-cell:/e%3A/Work_DatPT/Study/Master/SecBERT/Baseline.ipynb#Y101sZmlsZQ%3D%3D?line=39'>40</a>\u001b[0m     \u001b[39mreturn\u001b[39;00m \u001b[39mself\u001b[39;49m\u001b[39m.\u001b[39;49mgs\u001b[39m.\u001b[39;49mfit(X, y)\n",
            "File \u001b[1;32me:\\Python\\Lib\\site-packages\\sklearn\\model_selection\\_search.py:874\u001b[0m, in \u001b[0;36mBaseSearchCV.fit\u001b[1;34m(self, X, y, groups, **fit_params)\u001b[0m\n\u001b[0;32m    868\u001b[0m     results \u001b[39m=\u001b[39m \u001b[39mself\u001b[39m\u001b[39m.\u001b[39m_format_results(\n\u001b[0;32m    869\u001b[0m         all_candidate_params, n_splits, all_out, all_more_results\n\u001b[0;32m    870\u001b[0m     )\n\u001b[0;32m    872\u001b[0m     \u001b[39mreturn\u001b[39;00m results\n\u001b[1;32m--> 874\u001b[0m \u001b[39mself\u001b[39;49m\u001b[39m.\u001b[39;49m_run_search(evaluate_candidates)\n\u001b[0;32m    876\u001b[0m \u001b[39m# multimetric is determined here because in the case of a callable\u001b[39;00m\n\u001b[0;32m    877\u001b[0m \u001b[39m# self.scoring the return type is only known after calling\u001b[39;00m\n\u001b[0;32m    878\u001b[0m first_test_score \u001b[39m=\u001b[39m all_out[\u001b[39m0\u001b[39m][\u001b[39m\"\u001b[39m\u001b[39mtest_scores\u001b[39m\u001b[39m\"\u001b[39m]\n",
            "File \u001b[1;32me:\\Python\\Lib\\site-packages\\sklearn\\model_selection\\_search.py:1388\u001b[0m, in \u001b[0;36mGridSearchCV._run_search\u001b[1;34m(self, evaluate_candidates)\u001b[0m\n\u001b[0;32m   1386\u001b[0m \u001b[39mdef\u001b[39;00m \u001b[39m_run_search\u001b[39m(\u001b[39mself\u001b[39m, evaluate_candidates):\n\u001b[0;32m   1387\u001b[0m \u001b[39m    \u001b[39m\u001b[39m\"\"\"Search all candidates in param_grid\"\"\"\u001b[39;00m\n\u001b[1;32m-> 1388\u001b[0m     evaluate_candidates(ParameterGrid(\u001b[39mself\u001b[39;49m\u001b[39m.\u001b[39;49mparam_grid))\n",
            "File \u001b[1;32me:\\Python\\Lib\\site-packages\\sklearn\\model_selection\\_search.py:821\u001b[0m, in \u001b[0;36mBaseSearchCV.fit.<locals>.evaluate_candidates\u001b[1;34m(candidate_params, cv, more_results)\u001b[0m\n\u001b[0;32m    813\u001b[0m \u001b[39mif\u001b[39;00m \u001b[39mself\u001b[39m\u001b[39m.\u001b[39mverbose \u001b[39m>\u001b[39m \u001b[39m0\u001b[39m:\n\u001b[0;32m    814\u001b[0m     \u001b[39mprint\u001b[39m(\n\u001b[0;32m    815\u001b[0m         \u001b[39m\"\u001b[39m\u001b[39mFitting \u001b[39m\u001b[39m{0}\u001b[39;00m\u001b[39m folds for each of \u001b[39m\u001b[39m{1}\u001b[39;00m\u001b[39m candidates,\u001b[39m\u001b[39m\"\u001b[39m\n\u001b[0;32m    816\u001b[0m         \u001b[39m\"\u001b[39m\u001b[39m totalling \u001b[39m\u001b[39m{2}\u001b[39;00m\u001b[39m fits\u001b[39m\u001b[39m\"\u001b[39m\u001b[39m.\u001b[39mformat(\n\u001b[0;32m    817\u001b[0m             n_splits, n_candidates, n_candidates \u001b[39m*\u001b[39m n_splits\n\u001b[0;32m    818\u001b[0m         )\n\u001b[0;32m    819\u001b[0m     )\n\u001b[1;32m--> 821\u001b[0m out \u001b[39m=\u001b[39m parallel(\n\u001b[0;32m    822\u001b[0m     delayed(_fit_and_score)(\n\u001b[0;32m    823\u001b[0m         clone(base_estimator),\n\u001b[0;32m    824\u001b[0m         X,\n\u001b[0;32m    825\u001b[0m         y,\n\u001b[0;32m    826\u001b[0m         train\u001b[39m=\u001b[39;49mtrain,\n\u001b[0;32m    827\u001b[0m         test\u001b[39m=\u001b[39;49mtest,\n\u001b[0;32m    828\u001b[0m         parameters\u001b[39m=\u001b[39;49mparameters,\n\u001b[0;32m    829\u001b[0m         split_progress\u001b[39m=\u001b[39;49m(split_idx, n_splits),\n\u001b[0;32m    830\u001b[0m         candidate_progress\u001b[39m=\u001b[39;49m(cand_idx, n_candidates),\n\u001b[0;32m    831\u001b[0m         \u001b[39m*\u001b[39;49m\u001b[39m*\u001b[39;49mfit_and_score_kwargs,\n\u001b[0;32m    832\u001b[0m     )\n\u001b[0;32m    833\u001b[0m     \u001b[39mfor\u001b[39;49;00m (cand_idx, parameters), (split_idx, (train, test)) \u001b[39min\u001b[39;49;00m product(\n\u001b[0;32m    834\u001b[0m         \u001b[39menumerate\u001b[39;49m(candidate_params), \u001b[39menumerate\u001b[39;49m(cv\u001b[39m.\u001b[39;49msplit(X, y, groups))\n\u001b[0;32m    835\u001b[0m     )\n\u001b[0;32m    836\u001b[0m )\n\u001b[0;32m    838\u001b[0m \u001b[39mif\u001b[39;00m \u001b[39mlen\u001b[39m(out) \u001b[39m<\u001b[39m \u001b[39m1\u001b[39m:\n\u001b[0;32m    839\u001b[0m     \u001b[39mraise\u001b[39;00m \u001b[39mValueError\u001b[39;00m(\n\u001b[0;32m    840\u001b[0m         \u001b[39m\"\u001b[39m\u001b[39mNo fits were performed. \u001b[39m\u001b[39m\"\u001b[39m\n\u001b[0;32m    841\u001b[0m         \u001b[39m\"\u001b[39m\u001b[39mWas the CV iterator empty? \u001b[39m\u001b[39m\"\u001b[39m\n\u001b[0;32m    842\u001b[0m         \u001b[39m\"\u001b[39m\u001b[39mWere there no candidates?\u001b[39m\u001b[39m\"\u001b[39m\n\u001b[0;32m    843\u001b[0m     )\n",
            "File \u001b[1;32me:\\Python\\Lib\\site-packages\\sklearn\\utils\\parallel.py:63\u001b[0m, in \u001b[0;36mParallel.__call__\u001b[1;34m(self, iterable)\u001b[0m\n\u001b[0;32m     58\u001b[0m config \u001b[39m=\u001b[39m get_config()\n\u001b[0;32m     59\u001b[0m iterable_with_config \u001b[39m=\u001b[39m (\n\u001b[0;32m     60\u001b[0m     (_with_config(delayed_func, config), args, kwargs)\n\u001b[0;32m     61\u001b[0m     \u001b[39mfor\u001b[39;00m delayed_func, args, kwargs \u001b[39min\u001b[39;00m iterable\n\u001b[0;32m     62\u001b[0m )\n\u001b[1;32m---> 63\u001b[0m \u001b[39mreturn\u001b[39;00m \u001b[39msuper\u001b[39;49m()\u001b[39m.\u001b[39;49m\u001b[39m__call__\u001b[39;49m(iterable_with_config)\n",
            "File \u001b[1;32me:\\Python\\Lib\\site-packages\\joblib\\parallel.py:1088\u001b[0m, in \u001b[0;36mParallel.__call__\u001b[1;34m(self, iterable)\u001b[0m\n\u001b[0;32m   1085\u001b[0m \u001b[39mif\u001b[39;00m \u001b[39mself\u001b[39m\u001b[39m.\u001b[39mdispatch_one_batch(iterator):\n\u001b[0;32m   1086\u001b[0m     \u001b[39mself\u001b[39m\u001b[39m.\u001b[39m_iterating \u001b[39m=\u001b[39m \u001b[39mself\u001b[39m\u001b[39m.\u001b[39m_original_iterator \u001b[39mis\u001b[39;00m \u001b[39mnot\u001b[39;00m \u001b[39mNone\u001b[39;00m\n\u001b[1;32m-> 1088\u001b[0m \u001b[39mwhile\u001b[39;00m \u001b[39mself\u001b[39;49m\u001b[39m.\u001b[39;49mdispatch_one_batch(iterator):\n\u001b[0;32m   1089\u001b[0m     \u001b[39mpass\u001b[39;00m\n\u001b[0;32m   1091\u001b[0m \u001b[39mif\u001b[39;00m pre_dispatch \u001b[39m==\u001b[39m \u001b[39m\"\u001b[39m\u001b[39mall\u001b[39m\u001b[39m\"\u001b[39m \u001b[39mor\u001b[39;00m n_jobs \u001b[39m==\u001b[39m \u001b[39m1\u001b[39m:\n\u001b[0;32m   1092\u001b[0m     \u001b[39m# The iterable was consumed all at once by the above for loop.\u001b[39;00m\n\u001b[0;32m   1093\u001b[0m     \u001b[39m# No need to wait for async callbacks to trigger to\u001b[39;00m\n\u001b[0;32m   1094\u001b[0m     \u001b[39m# consumption.\u001b[39;00m\n",
            "File \u001b[1;32me:\\Python\\Lib\\site-packages\\joblib\\parallel.py:901\u001b[0m, in \u001b[0;36mParallel.dispatch_one_batch\u001b[1;34m(self, iterator)\u001b[0m\n\u001b[0;32m    899\u001b[0m     \u001b[39mreturn\u001b[39;00m \u001b[39mFalse\u001b[39;00m\n\u001b[0;32m    900\u001b[0m \u001b[39melse\u001b[39;00m:\n\u001b[1;32m--> 901\u001b[0m     \u001b[39mself\u001b[39;49m\u001b[39m.\u001b[39;49m_dispatch(tasks)\n\u001b[0;32m    902\u001b[0m     \u001b[39mreturn\u001b[39;00m \u001b[39mTrue\u001b[39;00m\n",
            "File \u001b[1;32me:\\Python\\Lib\\site-packages\\joblib\\parallel.py:819\u001b[0m, in \u001b[0;36mParallel._dispatch\u001b[1;34m(self, batch)\u001b[0m\n\u001b[0;32m    817\u001b[0m \u001b[39mwith\u001b[39;00m \u001b[39mself\u001b[39m\u001b[39m.\u001b[39m_lock:\n\u001b[0;32m    818\u001b[0m     job_idx \u001b[39m=\u001b[39m \u001b[39mlen\u001b[39m(\u001b[39mself\u001b[39m\u001b[39m.\u001b[39m_jobs)\n\u001b[1;32m--> 819\u001b[0m     job \u001b[39m=\u001b[39m \u001b[39mself\u001b[39;49m\u001b[39m.\u001b[39;49m_backend\u001b[39m.\u001b[39;49mapply_async(batch, callback\u001b[39m=\u001b[39;49mcb)\n\u001b[0;32m    820\u001b[0m     \u001b[39m# A job can complete so quickly than its callback is\u001b[39;00m\n\u001b[0;32m    821\u001b[0m     \u001b[39m# called before we get here, causing self._jobs to\u001b[39;00m\n\u001b[0;32m    822\u001b[0m     \u001b[39m# grow. To ensure correct results ordering, .insert is\u001b[39;00m\n\u001b[0;32m    823\u001b[0m     \u001b[39m# used (rather than .append) in the following line\u001b[39;00m\n\u001b[0;32m    824\u001b[0m     \u001b[39mself\u001b[39m\u001b[39m.\u001b[39m_jobs\u001b[39m.\u001b[39minsert(job_idx, job)\n",
            "File \u001b[1;32me:\\Python\\Lib\\site-packages\\joblib\\_parallel_backends.py:208\u001b[0m, in \u001b[0;36mSequentialBackend.apply_async\u001b[1;34m(self, func, callback)\u001b[0m\n\u001b[0;32m    206\u001b[0m \u001b[39mdef\u001b[39;00m \u001b[39mapply_async\u001b[39m(\u001b[39mself\u001b[39m, func, callback\u001b[39m=\u001b[39m\u001b[39mNone\u001b[39;00m):\n\u001b[0;32m    207\u001b[0m \u001b[39m    \u001b[39m\u001b[39m\"\"\"Schedule a func to be run\"\"\"\u001b[39;00m\n\u001b[1;32m--> 208\u001b[0m     result \u001b[39m=\u001b[39m ImmediateResult(func)\n\u001b[0;32m    209\u001b[0m     \u001b[39mif\u001b[39;00m callback:\n\u001b[0;32m    210\u001b[0m         callback(result)\n",
            "File \u001b[1;32me:\\Python\\Lib\\site-packages\\joblib\\_parallel_backends.py:597\u001b[0m, in \u001b[0;36mImmediateResult.__init__\u001b[1;34m(self, batch)\u001b[0m\n\u001b[0;32m    594\u001b[0m \u001b[39mdef\u001b[39;00m \u001b[39m__init__\u001b[39m(\u001b[39mself\u001b[39m, batch):\n\u001b[0;32m    595\u001b[0m     \u001b[39m# Don't delay the application, to avoid keeping the input\u001b[39;00m\n\u001b[0;32m    596\u001b[0m     \u001b[39m# arguments in memory\u001b[39;00m\n\u001b[1;32m--> 597\u001b[0m     \u001b[39mself\u001b[39m\u001b[39m.\u001b[39mresults \u001b[39m=\u001b[39m batch()\n",
            "File \u001b[1;32me:\\Python\\Lib\\site-packages\\joblib\\parallel.py:288\u001b[0m, in \u001b[0;36mBatchedCalls.__call__\u001b[1;34m(self)\u001b[0m\n\u001b[0;32m    284\u001b[0m \u001b[39mdef\u001b[39;00m \u001b[39m__call__\u001b[39m(\u001b[39mself\u001b[39m):\n\u001b[0;32m    285\u001b[0m     \u001b[39m# Set the default nested backend to self._backend but do not set the\u001b[39;00m\n\u001b[0;32m    286\u001b[0m     \u001b[39m# change the default number of processes to -1\u001b[39;00m\n\u001b[0;32m    287\u001b[0m     \u001b[39mwith\u001b[39;00m parallel_backend(\u001b[39mself\u001b[39m\u001b[39m.\u001b[39m_backend, n_jobs\u001b[39m=\u001b[39m\u001b[39mself\u001b[39m\u001b[39m.\u001b[39m_n_jobs):\n\u001b[1;32m--> 288\u001b[0m         \u001b[39mreturn\u001b[39;00m [func(\u001b[39m*\u001b[39;49margs, \u001b[39m*\u001b[39;49m\u001b[39m*\u001b[39;49mkwargs)\n\u001b[0;32m    289\u001b[0m                 \u001b[39mfor\u001b[39;49;00m func, args, kwargs \u001b[39min\u001b[39;49;00m \u001b[39mself\u001b[39;49m\u001b[39m.\u001b[39;49mitems]\n",
            "File \u001b[1;32me:\\Python\\Lib\\site-packages\\joblib\\parallel.py:288\u001b[0m, in \u001b[0;36m<listcomp>\u001b[1;34m(.0)\u001b[0m\n\u001b[0;32m    284\u001b[0m \u001b[39mdef\u001b[39;00m \u001b[39m__call__\u001b[39m(\u001b[39mself\u001b[39m):\n\u001b[0;32m    285\u001b[0m     \u001b[39m# Set the default nested backend to self._backend but do not set the\u001b[39;00m\n\u001b[0;32m    286\u001b[0m     \u001b[39m# change the default number of processes to -1\u001b[39;00m\n\u001b[0;32m    287\u001b[0m     \u001b[39mwith\u001b[39;00m parallel_backend(\u001b[39mself\u001b[39m\u001b[39m.\u001b[39m_backend, n_jobs\u001b[39m=\u001b[39m\u001b[39mself\u001b[39m\u001b[39m.\u001b[39m_n_jobs):\n\u001b[1;32m--> 288\u001b[0m         \u001b[39mreturn\u001b[39;00m [func(\u001b[39m*\u001b[39;49margs, \u001b[39m*\u001b[39;49m\u001b[39m*\u001b[39;49mkwargs)\n\u001b[0;32m    289\u001b[0m                 \u001b[39mfor\u001b[39;00m func, args, kwargs \u001b[39min\u001b[39;00m \u001b[39mself\u001b[39m\u001b[39m.\u001b[39mitems]\n",
            "File \u001b[1;32me:\\Python\\Lib\\site-packages\\sklearn\\utils\\parallel.py:123\u001b[0m, in \u001b[0;36m_FuncWrapper.__call__\u001b[1;34m(self, *args, **kwargs)\u001b[0m\n\u001b[0;32m    121\u001b[0m     config \u001b[39m=\u001b[39m {}\n\u001b[0;32m    122\u001b[0m \u001b[39mwith\u001b[39;00m config_context(\u001b[39m*\u001b[39m\u001b[39m*\u001b[39mconfig):\n\u001b[1;32m--> 123\u001b[0m     \u001b[39mreturn\u001b[39;00m \u001b[39mself\u001b[39;49m\u001b[39m.\u001b[39;49mfunction(\u001b[39m*\u001b[39;49margs, \u001b[39m*\u001b[39;49m\u001b[39m*\u001b[39;49mkwargs)\n",
            "File \u001b[1;32me:\\Python\\Lib\\site-packages\\sklearn\\model_selection\\_validation.py:686\u001b[0m, in \u001b[0;36m_fit_and_score\u001b[1;34m(estimator, X, y, scorer, train, test, verbose, parameters, fit_params, return_train_score, return_parameters, return_n_test_samples, return_times, return_estimator, split_progress, candidate_progress, error_score)\u001b[0m\n\u001b[0;32m    684\u001b[0m         estimator\u001b[39m.\u001b[39mfit(X_train, \u001b[39m*\u001b[39m\u001b[39m*\u001b[39mfit_params)\n\u001b[0;32m    685\u001b[0m     \u001b[39melse\u001b[39;00m:\n\u001b[1;32m--> 686\u001b[0m         estimator\u001b[39m.\u001b[39;49mfit(X_train, y_train, \u001b[39m*\u001b[39;49m\u001b[39m*\u001b[39;49mfit_params)\n\u001b[0;32m    688\u001b[0m \u001b[39mexcept\u001b[39;00m \u001b[39mException\u001b[39;00m:\n\u001b[0;32m    689\u001b[0m     \u001b[39m# Note fit time as time until error\u001b[39;00m\n\u001b[0;32m    690\u001b[0m     fit_time \u001b[39m=\u001b[39m time\u001b[39m.\u001b[39mtime() \u001b[39m-\u001b[39m start_time\n",
            "File \u001b[1;32me:\\Python\\Lib\\site-packages\\sklearn\\ensemble\\_forest.py:473\u001b[0m, in \u001b[0;36mBaseForest.fit\u001b[1;34m(self, X, y, sample_weight)\u001b[0m\n\u001b[0;32m    462\u001b[0m trees \u001b[39m=\u001b[39m [\n\u001b[0;32m    463\u001b[0m     \u001b[39mself\u001b[39m\u001b[39m.\u001b[39m_make_estimator(append\u001b[39m=\u001b[39m\u001b[39mFalse\u001b[39;00m, random_state\u001b[39m=\u001b[39mrandom_state)\n\u001b[0;32m    464\u001b[0m     \u001b[39mfor\u001b[39;00m i \u001b[39min\u001b[39;00m \u001b[39mrange\u001b[39m(n_more_estimators)\n\u001b[0;32m    465\u001b[0m ]\n\u001b[0;32m    467\u001b[0m \u001b[39m# Parallel loop: we prefer the threading backend as the Cython code\u001b[39;00m\n\u001b[0;32m    468\u001b[0m \u001b[39m# for fitting the trees is internally releasing the Python GIL\u001b[39;00m\n\u001b[0;32m    469\u001b[0m \u001b[39m# making threading more efficient than multiprocessing in\u001b[39;00m\n\u001b[0;32m    470\u001b[0m \u001b[39m# that case. However, for joblib 0.12+ we respect any\u001b[39;00m\n\u001b[0;32m    471\u001b[0m \u001b[39m# parallel_backend contexts set at a higher level,\u001b[39;00m\n\u001b[0;32m    472\u001b[0m \u001b[39m# since correctness does not rely on using threads.\u001b[39;00m\n\u001b[1;32m--> 473\u001b[0m trees \u001b[39m=\u001b[39m Parallel(\n\u001b[0;32m    474\u001b[0m     n_jobs\u001b[39m=\u001b[39;49m\u001b[39mself\u001b[39;49m\u001b[39m.\u001b[39;49mn_jobs,\n\u001b[0;32m    475\u001b[0m     verbose\u001b[39m=\u001b[39;49m\u001b[39mself\u001b[39;49m\u001b[39m.\u001b[39;49mverbose,\n\u001b[0;32m    476\u001b[0m     prefer\u001b[39m=\u001b[39;49m\u001b[39m\"\u001b[39;49m\u001b[39mthreads\u001b[39;49m\u001b[39m\"\u001b[39;49m,\n\u001b[0;32m    477\u001b[0m )(\n\u001b[0;32m    478\u001b[0m     delayed(_parallel_build_trees)(\n\u001b[0;32m    479\u001b[0m         t,\n\u001b[0;32m    480\u001b[0m         \u001b[39mself\u001b[39;49m\u001b[39m.\u001b[39;49mbootstrap,\n\u001b[0;32m    481\u001b[0m         X,\n\u001b[0;32m    482\u001b[0m         y,\n\u001b[0;32m    483\u001b[0m         sample_weight,\n\u001b[0;32m    484\u001b[0m         i,\n\u001b[0;32m    485\u001b[0m         \u001b[39mlen\u001b[39;49m(trees),\n\u001b[0;32m    486\u001b[0m         verbose\u001b[39m=\u001b[39;49m\u001b[39mself\u001b[39;49m\u001b[39m.\u001b[39;49mverbose,\n\u001b[0;32m    487\u001b[0m         class_weight\u001b[39m=\u001b[39;49m\u001b[39mself\u001b[39;49m\u001b[39m.\u001b[39;49mclass_weight,\n\u001b[0;32m    488\u001b[0m         n_samples_bootstrap\u001b[39m=\u001b[39;49mn_samples_bootstrap,\n\u001b[0;32m    489\u001b[0m     )\n\u001b[0;32m    490\u001b[0m     \u001b[39mfor\u001b[39;49;00m i, t \u001b[39min\u001b[39;49;00m \u001b[39menumerate\u001b[39;49m(trees)\n\u001b[0;32m    491\u001b[0m )\n\u001b[0;32m    493\u001b[0m \u001b[39m# Collect newly grown trees\u001b[39;00m\n\u001b[0;32m    494\u001b[0m \u001b[39mself\u001b[39m\u001b[39m.\u001b[39mestimators_\u001b[39m.\u001b[39mextend(trees)\n",
            "File \u001b[1;32me:\\Python\\Lib\\site-packages\\sklearn\\utils\\parallel.py:63\u001b[0m, in \u001b[0;36mParallel.__call__\u001b[1;34m(self, iterable)\u001b[0m\n\u001b[0;32m     58\u001b[0m config \u001b[39m=\u001b[39m get_config()\n\u001b[0;32m     59\u001b[0m iterable_with_config \u001b[39m=\u001b[39m (\n\u001b[0;32m     60\u001b[0m     (_with_config(delayed_func, config), args, kwargs)\n\u001b[0;32m     61\u001b[0m     \u001b[39mfor\u001b[39;00m delayed_func, args, kwargs \u001b[39min\u001b[39;00m iterable\n\u001b[0;32m     62\u001b[0m )\n\u001b[1;32m---> 63\u001b[0m \u001b[39mreturn\u001b[39;00m \u001b[39msuper\u001b[39;49m()\u001b[39m.\u001b[39;49m\u001b[39m__call__\u001b[39;49m(iterable_with_config)\n",
            "File \u001b[1;32me:\\Python\\Lib\\site-packages\\joblib\\parallel.py:1088\u001b[0m, in \u001b[0;36mParallel.__call__\u001b[1;34m(self, iterable)\u001b[0m\n\u001b[0;32m   1085\u001b[0m \u001b[39mif\u001b[39;00m \u001b[39mself\u001b[39m\u001b[39m.\u001b[39mdispatch_one_batch(iterator):\n\u001b[0;32m   1086\u001b[0m     \u001b[39mself\u001b[39m\u001b[39m.\u001b[39m_iterating \u001b[39m=\u001b[39m \u001b[39mself\u001b[39m\u001b[39m.\u001b[39m_original_iterator \u001b[39mis\u001b[39;00m \u001b[39mnot\u001b[39;00m \u001b[39mNone\u001b[39;00m\n\u001b[1;32m-> 1088\u001b[0m \u001b[39mwhile\u001b[39;00m \u001b[39mself\u001b[39;49m\u001b[39m.\u001b[39;49mdispatch_one_batch(iterator):\n\u001b[0;32m   1089\u001b[0m     \u001b[39mpass\u001b[39;00m\n\u001b[0;32m   1091\u001b[0m \u001b[39mif\u001b[39;00m pre_dispatch \u001b[39m==\u001b[39m \u001b[39m\"\u001b[39m\u001b[39mall\u001b[39m\u001b[39m\"\u001b[39m \u001b[39mor\u001b[39;00m n_jobs \u001b[39m==\u001b[39m \u001b[39m1\u001b[39m:\n\u001b[0;32m   1092\u001b[0m     \u001b[39m# The iterable was consumed all at once by the above for loop.\u001b[39;00m\n\u001b[0;32m   1093\u001b[0m     \u001b[39m# No need to wait for async callbacks to trigger to\u001b[39;00m\n\u001b[0;32m   1094\u001b[0m     \u001b[39m# consumption.\u001b[39;00m\n",
            "File \u001b[1;32me:\\Python\\Lib\\site-packages\\joblib\\parallel.py:901\u001b[0m, in \u001b[0;36mParallel.dispatch_one_batch\u001b[1;34m(self, iterator)\u001b[0m\n\u001b[0;32m    899\u001b[0m     \u001b[39mreturn\u001b[39;00m \u001b[39mFalse\u001b[39;00m\n\u001b[0;32m    900\u001b[0m \u001b[39melse\u001b[39;00m:\n\u001b[1;32m--> 901\u001b[0m     \u001b[39mself\u001b[39;49m\u001b[39m.\u001b[39;49m_dispatch(tasks)\n\u001b[0;32m    902\u001b[0m     \u001b[39mreturn\u001b[39;00m \u001b[39mTrue\u001b[39;00m\n",
            "File \u001b[1;32me:\\Python\\Lib\\site-packages\\joblib\\parallel.py:819\u001b[0m, in \u001b[0;36mParallel._dispatch\u001b[1;34m(self, batch)\u001b[0m\n\u001b[0;32m    817\u001b[0m \u001b[39mwith\u001b[39;00m \u001b[39mself\u001b[39m\u001b[39m.\u001b[39m_lock:\n\u001b[0;32m    818\u001b[0m     job_idx \u001b[39m=\u001b[39m \u001b[39mlen\u001b[39m(\u001b[39mself\u001b[39m\u001b[39m.\u001b[39m_jobs)\n\u001b[1;32m--> 819\u001b[0m     job \u001b[39m=\u001b[39m \u001b[39mself\u001b[39;49m\u001b[39m.\u001b[39;49m_backend\u001b[39m.\u001b[39;49mapply_async(batch, callback\u001b[39m=\u001b[39;49mcb)\n\u001b[0;32m    820\u001b[0m     \u001b[39m# A job can complete so quickly than its callback is\u001b[39;00m\n\u001b[0;32m    821\u001b[0m     \u001b[39m# called before we get here, causing self._jobs to\u001b[39;00m\n\u001b[0;32m    822\u001b[0m     \u001b[39m# grow. To ensure correct results ordering, .insert is\u001b[39;00m\n\u001b[0;32m    823\u001b[0m     \u001b[39m# used (rather than .append) in the following line\u001b[39;00m\n\u001b[0;32m    824\u001b[0m     \u001b[39mself\u001b[39m\u001b[39m.\u001b[39m_jobs\u001b[39m.\u001b[39minsert(job_idx, job)\n",
            "File \u001b[1;32me:\\Python\\Lib\\site-packages\\joblib\\_parallel_backends.py:208\u001b[0m, in \u001b[0;36mSequentialBackend.apply_async\u001b[1;34m(self, func, callback)\u001b[0m\n\u001b[0;32m    206\u001b[0m \u001b[39mdef\u001b[39;00m \u001b[39mapply_async\u001b[39m(\u001b[39mself\u001b[39m, func, callback\u001b[39m=\u001b[39m\u001b[39mNone\u001b[39;00m):\n\u001b[0;32m    207\u001b[0m \u001b[39m    \u001b[39m\u001b[39m\"\"\"Schedule a func to be run\"\"\"\u001b[39;00m\n\u001b[1;32m--> 208\u001b[0m     result \u001b[39m=\u001b[39m ImmediateResult(func)\n\u001b[0;32m    209\u001b[0m     \u001b[39mif\u001b[39;00m callback:\n\u001b[0;32m    210\u001b[0m         callback(result)\n",
            "File \u001b[1;32me:\\Python\\Lib\\site-packages\\joblib\\_parallel_backends.py:597\u001b[0m, in \u001b[0;36mImmediateResult.__init__\u001b[1;34m(self, batch)\u001b[0m\n\u001b[0;32m    594\u001b[0m \u001b[39mdef\u001b[39;00m \u001b[39m__init__\u001b[39m(\u001b[39mself\u001b[39m, batch):\n\u001b[0;32m    595\u001b[0m     \u001b[39m# Don't delay the application, to avoid keeping the input\u001b[39;00m\n\u001b[0;32m    596\u001b[0m     \u001b[39m# arguments in memory\u001b[39;00m\n\u001b[1;32m--> 597\u001b[0m     \u001b[39mself\u001b[39m\u001b[39m.\u001b[39mresults \u001b[39m=\u001b[39m batch()\n",
            "File \u001b[1;32me:\\Python\\Lib\\site-packages\\joblib\\parallel.py:288\u001b[0m, in \u001b[0;36mBatchedCalls.__call__\u001b[1;34m(self)\u001b[0m\n\u001b[0;32m    284\u001b[0m \u001b[39mdef\u001b[39;00m \u001b[39m__call__\u001b[39m(\u001b[39mself\u001b[39m):\n\u001b[0;32m    285\u001b[0m     \u001b[39m# Set the default nested backend to self._backend but do not set the\u001b[39;00m\n\u001b[0;32m    286\u001b[0m     \u001b[39m# change the default number of processes to -1\u001b[39;00m\n\u001b[0;32m    287\u001b[0m     \u001b[39mwith\u001b[39;00m parallel_backend(\u001b[39mself\u001b[39m\u001b[39m.\u001b[39m_backend, n_jobs\u001b[39m=\u001b[39m\u001b[39mself\u001b[39m\u001b[39m.\u001b[39m_n_jobs):\n\u001b[1;32m--> 288\u001b[0m         \u001b[39mreturn\u001b[39;00m [func(\u001b[39m*\u001b[39;49margs, \u001b[39m*\u001b[39;49m\u001b[39m*\u001b[39;49mkwargs)\n\u001b[0;32m    289\u001b[0m                 \u001b[39mfor\u001b[39;49;00m func, args, kwargs \u001b[39min\u001b[39;49;00m \u001b[39mself\u001b[39;49m\u001b[39m.\u001b[39;49mitems]\n",
            "File \u001b[1;32me:\\Python\\Lib\\site-packages\\joblib\\parallel.py:288\u001b[0m, in \u001b[0;36m<listcomp>\u001b[1;34m(.0)\u001b[0m\n\u001b[0;32m    284\u001b[0m \u001b[39mdef\u001b[39;00m \u001b[39m__call__\u001b[39m(\u001b[39mself\u001b[39m):\n\u001b[0;32m    285\u001b[0m     \u001b[39m# Set the default nested backend to self._backend but do not set the\u001b[39;00m\n\u001b[0;32m    286\u001b[0m     \u001b[39m# change the default number of processes to -1\u001b[39;00m\n\u001b[0;32m    287\u001b[0m     \u001b[39mwith\u001b[39;00m parallel_backend(\u001b[39mself\u001b[39m\u001b[39m.\u001b[39m_backend, n_jobs\u001b[39m=\u001b[39m\u001b[39mself\u001b[39m\u001b[39m.\u001b[39m_n_jobs):\n\u001b[1;32m--> 288\u001b[0m         \u001b[39mreturn\u001b[39;00m [func(\u001b[39m*\u001b[39;49margs, \u001b[39m*\u001b[39;49m\u001b[39m*\u001b[39;49mkwargs)\n\u001b[0;32m    289\u001b[0m                 \u001b[39mfor\u001b[39;00m func, args, kwargs \u001b[39min\u001b[39;00m \u001b[39mself\u001b[39m\u001b[39m.\u001b[39mitems]\n",
            "File \u001b[1;32me:\\Python\\Lib\\site-packages\\sklearn\\utils\\parallel.py:123\u001b[0m, in \u001b[0;36m_FuncWrapper.__call__\u001b[1;34m(self, *args, **kwargs)\u001b[0m\n\u001b[0;32m    121\u001b[0m     config \u001b[39m=\u001b[39m {}\n\u001b[0;32m    122\u001b[0m \u001b[39mwith\u001b[39;00m config_context(\u001b[39m*\u001b[39m\u001b[39m*\u001b[39mconfig):\n\u001b[1;32m--> 123\u001b[0m     \u001b[39mreturn\u001b[39;00m \u001b[39mself\u001b[39;49m\u001b[39m.\u001b[39;49mfunction(\u001b[39m*\u001b[39;49margs, \u001b[39m*\u001b[39;49m\u001b[39m*\u001b[39;49mkwargs)\n",
            "File \u001b[1;32me:\\Python\\Lib\\site-packages\\sklearn\\ensemble\\_forest.py:184\u001b[0m, in \u001b[0;36m_parallel_build_trees\u001b[1;34m(tree, bootstrap, X, y, sample_weight, tree_idx, n_trees, verbose, class_weight, n_samples_bootstrap)\u001b[0m\n\u001b[0;32m    181\u001b[0m     \u001b[39melif\u001b[39;00m class_weight \u001b[39m==\u001b[39m \u001b[39m\"\u001b[39m\u001b[39mbalanced_subsample\u001b[39m\u001b[39m\"\u001b[39m:\n\u001b[0;32m    182\u001b[0m         curr_sample_weight \u001b[39m*\u001b[39m\u001b[39m=\u001b[39m compute_sample_weight(\u001b[39m\"\u001b[39m\u001b[39mbalanced\u001b[39m\u001b[39m\"\u001b[39m, y, indices\u001b[39m=\u001b[39mindices)\n\u001b[1;32m--> 184\u001b[0m     tree\u001b[39m.\u001b[39;49mfit(X, y, sample_weight\u001b[39m=\u001b[39;49mcurr_sample_weight, check_input\u001b[39m=\u001b[39;49m\u001b[39mFalse\u001b[39;49;00m)\n\u001b[0;32m    185\u001b[0m \u001b[39melse\u001b[39;00m:\n\u001b[0;32m    186\u001b[0m     tree\u001b[39m.\u001b[39mfit(X, y, sample_weight\u001b[39m=\u001b[39msample_weight, check_input\u001b[39m=\u001b[39m\u001b[39mFalse\u001b[39;00m)\n",
            "File \u001b[1;32me:\\Python\\Lib\\site-packages\\sklearn\\tree\\_classes.py:889\u001b[0m, in \u001b[0;36mDecisionTreeClassifier.fit\u001b[1;34m(self, X, y, sample_weight, check_input)\u001b[0m\n\u001b[0;32m    859\u001b[0m \u001b[39mdef\u001b[39;00m \u001b[39mfit\u001b[39m(\u001b[39mself\u001b[39m, X, y, sample_weight\u001b[39m=\u001b[39m\u001b[39mNone\u001b[39;00m, check_input\u001b[39m=\u001b[39m\u001b[39mTrue\u001b[39;00m):\n\u001b[0;32m    860\u001b[0m \u001b[39m    \u001b[39m\u001b[39m\"\"\"Build a decision tree classifier from the training set (X, y).\u001b[39;00m\n\u001b[0;32m    861\u001b[0m \n\u001b[0;32m    862\u001b[0m \u001b[39m    Parameters\u001b[39;00m\n\u001b[1;32m   (...)\u001b[0m\n\u001b[0;32m    886\u001b[0m \u001b[39m        Fitted estimator.\u001b[39;00m\n\u001b[0;32m    887\u001b[0m \u001b[39m    \"\"\"\u001b[39;00m\n\u001b[1;32m--> 889\u001b[0m     \u001b[39msuper\u001b[39;49m()\u001b[39m.\u001b[39;49mfit(\n\u001b[0;32m    890\u001b[0m         X,\n\u001b[0;32m    891\u001b[0m         y,\n\u001b[0;32m    892\u001b[0m         sample_weight\u001b[39m=\u001b[39;49msample_weight,\n\u001b[0;32m    893\u001b[0m         check_input\u001b[39m=\u001b[39;49mcheck_input,\n\u001b[0;32m    894\u001b[0m     )\n\u001b[0;32m    895\u001b[0m     \u001b[39mreturn\u001b[39;00m \u001b[39mself\u001b[39m\n",
            "File \u001b[1;32me:\\Python\\Lib\\site-packages\\sklearn\\tree\\_classes.py:379\u001b[0m, in \u001b[0;36mBaseDecisionTree.fit\u001b[1;34m(self, X, y, sample_weight, check_input)\u001b[0m\n\u001b[0;32m    368\u001b[0m \u001b[39melse\u001b[39;00m:\n\u001b[0;32m    369\u001b[0m     builder \u001b[39m=\u001b[39m BestFirstTreeBuilder(\n\u001b[0;32m    370\u001b[0m         splitter,\n\u001b[0;32m    371\u001b[0m         min_samples_split,\n\u001b[1;32m   (...)\u001b[0m\n\u001b[0;32m    376\u001b[0m         \u001b[39mself\u001b[39m\u001b[39m.\u001b[39mmin_impurity_decrease,\n\u001b[0;32m    377\u001b[0m     )\n\u001b[1;32m--> 379\u001b[0m builder\u001b[39m.\u001b[39;49mbuild(\u001b[39mself\u001b[39;49m\u001b[39m.\u001b[39;49mtree_, X, y, sample_weight)\n\u001b[0;32m    381\u001b[0m \u001b[39mif\u001b[39;00m \u001b[39mself\u001b[39m\u001b[39m.\u001b[39mn_outputs_ \u001b[39m==\u001b[39m \u001b[39m1\u001b[39m \u001b[39mand\u001b[39;00m is_classifier(\u001b[39mself\u001b[39m):\n\u001b[0;32m    382\u001b[0m     \u001b[39mself\u001b[39m\u001b[39m.\u001b[39mn_classes_ \u001b[39m=\u001b[39m \u001b[39mself\u001b[39m\u001b[39m.\u001b[39mn_classes_[\u001b[39m0\u001b[39m]\n",
            "\u001b[1;31mKeyboardInterrupt\u001b[0m: "
          ]
        }
      ],
      "source": [
        "from sklearn.ensemble import AdaBoostClassifier\n",
        "from sklearn.ensemble import RandomForestClassifier\n",
        "# Classification using word2vec vectorizer\n",
        "# Tokenize : dividing Sentences into words\n",
        "df_train['text_clean'] = df_train['text'].apply(nltk.word_tokenize)\n",
        "print('Tokenization complete.')\n",
        "\n",
        "vec_model = Word2Vec(df_train['text_clean'])\n",
        "\n",
        "w2v = dict(zip(vec_model.wv.index_to_key, vec_model.wv.vectors))\n",
        "## What is syn0 ?\n",
        "## https://stackoverflow.com/questions/53301916/python-gensim-what-is-the-meaning-of-syn0-and-syn0norm\n",
        "\n",
        "class Vectorizer(object):\n",
        "    \n",
        "    def __init__(self, vec):\n",
        "        self.vec = vec\n",
        "        self.dim = len(vec.values())\n",
        "\n",
        "    def fit(self, X, y):\n",
        "        return self\n",
        "\n",
        "    def transform(self, X):\n",
        "        return np.array([np.mean([self.vec[w] for w in words if w in self.vec] or [np.zeros(self.dim)], axis=0) for words in X])\n",
        "\n",
        "\n",
        "## for any Classifier , we need intialise the model with the parameters. \n",
        "## Further I am applying GridSearchCV for 5 runs (i.e 1/5th data used each time for testing) \n",
        "## So the model gets trained over 5 runs \n",
        "## as well we are predicting also over 5 runs\n",
        "## In case if you wish to know about Cross Validation , you can watch my Video here : https://www.youtube.com/watch?v=LmxsySwAhoE&t=84s\n",
        "class Classifier(object):\n",
        "    \n",
        "    def __init__(self, model, param):\n",
        "        self.model = model\n",
        "        self.param = param\n",
        "        self.gs = GridSearchCV(self.model, self.param, cv=5, error_score=0, refit=True)        \n",
        "\n",
        "    def fit(self, X, y):        \n",
        "        return self.gs.fit(X, y)\n",
        "\n",
        "    def predict(self, X):\n",
        "        return self.gs.predict(X)\n",
        "    \n",
        "\n",
        "## Preparing to make a pipeline \n",
        "clf_models = {\n",
        "    'Naive Bayes': GaussianNB(), \n",
        "    'Decision Tree': DecisionTreeClassifier(),  \n",
        "    'Random Forest': RandomForestClassifier(),\n",
        "    'AdaBoost': AdaBoostClassifier()\n",
        "}\n",
        "\n",
        "clf_params = {\n",
        "    'Naive Bayes': { }, \n",
        "    'Decision Tree': { 'min_samples_split': [2, 5] }, \n",
        "    'Random Forest': { },\n",
        "    'AdaBoost': {  }\n",
        "}\n",
        "\n",
        "\n",
        "## splitting the dataset into 80:20.  have kept shuffle=True , so that the data is randomly sampled or simply said shuffled , and then split.\n",
        "X_train, X_test, y_train, y_test = train_test_split(df_train['text'], df_train['label'], test_size=0.2, shuffle=True)\n",
        "\n",
        "## for loop traverses , each and every classifier and its corresponding parameters.\n",
        "for key in clf_models.keys():\n",
        "    \n",
        "    clf = Pipeline([('Word2Vec vectorizer', Vectorizer(w2v)), ('Classifier', Classifier(clf_models[key], clf_params[key]))])\n",
        "    \n",
        "    clf.fit(X_train, y_train)  ## Note : we are calling user defined fit method. This fit method uses Cross Validation\n",
        "    y_pred = clf.predict(X_test)  ## Note : we are calling user defined predict method. This predict method uses Cross Validation\n",
        "    \n",
        "    ## printing performance metrics for each classifier \n",
        "    print(key, ':')\n",
        "    print(\"Accuracy: %1.3f \\tPrecision: %1.3f \\tRecall: %1.3f \\t\\tF1: %1.3f\\n\" % (accuracy_score(y_test, y_pred), precision_score(y_test, y_pred, average='macro'), recall_score(y_test, y_pred, average='macro'), f1_score(y_test, y_pred, average='macro')))\n",
        "    print('Confusion Matrix: \\n',confusion_matrix(y_test, y_pred))"
      ]
    },
    {
      "cell_type": "code",
      "execution_count": null,
      "metadata": {
        "id": "SFJPg0CeAzNE"
      },
      "outputs": [],
      "source": []
    }
  ],
  "metadata": {
    "colab": {
      "provenance": []
    },
    "kernelspec": {
      "display_name": "Python 3",
      "name": "python3"
    },
    "language_info": {
      "codemirror_mode": {
        "name": "ipython",
        "version": 3
      },
      "file_extension": ".py",
      "mimetype": "text/x-python",
      "name": "python",
      "nbconvert_exporter": "python",
      "pygments_lexer": "ipython3",
      "version": "3.11.3"
    }
  },
  "nbformat": 4,
  "nbformat_minor": 0
}
